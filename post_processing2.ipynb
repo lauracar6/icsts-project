{
 "cells": [
  {
   "cell_type": "code",
   "execution_count": 25,
   "id": "82b1979d",
   "metadata": {},
   "outputs": [],
   "source": [
    "import neurokit2 as nk\n",
    "import numpy as np\n",
    "from scipy.signal import butter, filtfilt, find_peaks\n",
    "import json\n",
    "import os"
   ]
  },
  {
   "cell_type": "code",
   "execution_count": 26,
   "id": "632674b6",
   "metadata": {},
   "outputs": [],
   "source": [
    "def pair_peaks(peaks1, peaks2, max_distance=200):\n",
    "    pairs1 = []\n",
    "    pairs2 = []\n",
    "    j = 0\n",
    "    for i in range(len(peaks1)):\n",
    "        while j < len(peaks2) and peaks2[j] < peaks1[i]:\n",
    "            j += 1\n",
    "        if j < len(peaks2) and abs(peaks2[j] - peaks1[i]) <= max_distance:\n",
    "            pairs1.append(peaks1[i])\n",
    "            pairs2.append(peaks2[j])\n",
    "            j += 1\n",
    "    return np.array(pairs1), np.array(pairs2)\n",
    "\n",
    "def is_sinus_rhythm(p_peaks, r_peaks, fs, rr_threshold=0.2):\n",
    "    if len(p_peaks) < 3 or len(r_peaks) < 3:\n",
    "        return False\n",
    "\n",
    "    rr_intervals = np.diff(r_peaks) / fs\n",
    "    if np.std(rr_intervals) > rr_threshold:\n",
    "        return False\n",
    "\n",
    "    matched = 0\n",
    "    for r in r_peaks:\n",
    "        preceding_p = p_peaks[p_peaks < r]\n",
    "        if len(preceding_p) > 0 and r - preceding_p[-1] < fs * 0.2:\n",
    "            matched += 1\n",
    "\n",
    "    return matched / len(r_peaks) > 0.8\n",
    "\n",
    "def bandpass_filter(signal, fs, lowcut=0.5, highcut=40.0, order=4):\n",
    "    nyq = 0.5 * fs\n",
    "    low = lowcut / nyq\n",
    "    high = highcut / nyq\n",
    "    b, a = butter(order, [low, high], btype='band')\n",
    "    return filtfilt(b, a, signal)\n",
    "\n",
    "def detect_r_peaks(signal, fs):\n",
    "    # Try NeuroKit2 first\n",
    "    try:\n",
    "        signals, _ = nk.ecg_process(signal, sampling_rate=fs)\n",
    "        r_peaks = signals.index[signals[\"ECG_R_Peaks\"] == 1].to_numpy()\n",
    "        if len(r_peaks) > 5:  # reasonable number of peaks detected\n",
    "            return r_peaks\n",
    "    except:\n",
    "        pass\n",
    "    \n",
    "    # Fallback: manual peak detection with tuned parameters\n",
    "    peaks, properties = find_peaks(signal, distance=int(fs*0.4), prominence=0.5)\n",
    "    if len(peaks) > 0:\n",
    "        return peaks\n",
    "    else:\n",
    "        return np.array([])\n"
   ]
  },
  {
   "cell_type": "code",
   "execution_count": 27,
   "id": "02d0bf67",
   "metadata": {},
   "outputs": [],
   "source": [
    "def check_signal_quality(ecg_signal, fs, min_r_peaks=3, min_std=0.05):\n",
    "    try:\n",
    "        ecg_signal = bandpass_filter(ecg_signal, fs)\n",
    "        signals, _ = nk.ecg_process(ecg_signal, sampling_rate=fs)\n",
    "        r_peaks = signals.index[signals[\"ECG_R_Peaks\"] == 1].to_numpy()\n",
    "        num_r_peaks = len(r_peaks)\n",
    "        signal_std = np.std(ecg_signal)\n",
    "        return num_r_peaks >= min_r_peaks and signal_std >= min_std\n",
    "    except Exception as e:\n",
    "        print(f\"Signal quality check failed: {e}\")\n",
    "        return False"
   ]
  },
  {
   "cell_type": "code",
   "execution_count": 28,
   "id": "9d83b627",
   "metadata": {},
   "outputs": [],
   "source": [
    "def extract_features(ecg_signal, fs, subject_type=\"fetal\"):\n",
    "    summary = {\n",
    "        \"Heart_Rate_Mean\": np.nan,\n",
    "        \"PR_Interval_ms\": np.nan,\n",
    "        \"QRS_Duration_ms\": np.nan,\n",
    "        \"QT_Interval_ms\": np.nan,\n",
    "        \"Sinus_Rhythm\": False,\n",
    "        \"Quality_OK\": False,\n",
    "    }\n",
    "\n",
    "    try:\n",
    "        # Step 1: Filter the signal\n",
    "        filtered_signal = bandpass_filter(ecg_signal, fs)\n",
    "\n",
    "        # Step 2: Check signal quality\n",
    "        quality_ok = check_signal_quality(filtered_signal, fs)\n",
    "        summary[\"Quality_OK\"] = quality_ok\n",
    "\n",
    "        if not quality_ok:\n",
    "            return summary  # Skip processing if poor quality\n",
    "\n",
    "        # Step 3: Detect R-peaks (try robust method)\n",
    "        r_peaks = detect_r_peaks(filtered_signal, fs)\n",
    "        if len(r_peaks) < 3:\n",
    "            return summary  # Not enough peaks to continue\n",
    "\n",
    "        # Step 4: Calculate mean heart rate from detected peaks\n",
    "        rr_intervals = np.diff(r_peaks) / fs\n",
    "        summary[\"Heart_Rate_Mean\"] = float(60 / np.mean(rr_intervals))\n",
    "\n",
    "        # Step 5: Process with NeuroKit2 for full feature extraction (optional)\n",
    "        signals, info = nk.ecg_process(filtered_signal, sampling_rate=fs)\n",
    "        features = nk.ecg_analyze(signals, sampling_rate=fs)\n",
    "\n",
    "        # Extract other peaks for interval calculation\n",
    "        q = signals.index[signals[\"ECG_Q_Peaks\"] == 1].to_numpy()\n",
    "        s = signals.index[signals[\"ECG_S_Peaks\"] == 1].to_numpy()\n",
    "        p = signals.index[signals[\"ECG_P_Peaks\"] == 1].to_numpy()\n",
    "        t = signals.index[signals[\"ECG_T_Offsets\"] == 1].to_numpy()\n",
    "\n",
    "        # Calculate intervals with paired peaks\n",
    "        if len(q) > 0 and len(s) > 0:\n",
    "            q_matched, s_matched = pair_peaks(q, s)\n",
    "            if len(q_matched) > 0:\n",
    "                qrs = ((s_matched - q_matched) / fs * 1000)\n",
    "                summary[\"QRS_Duration_ms\"] = float(np.mean(qrs))\n",
    "\n",
    "        if len(p) > 0 and len(q) > 0:\n",
    "            p_matched, q_matched = pair_peaks(p, q)\n",
    "            if len(p_matched) > 0:\n",
    "                pr = ((q_matched - p_matched) / fs * 1000)\n",
    "                summary[\"PR_Interval_ms\"] = float(np.mean(pr))\n",
    "\n",
    "        if len(q) > 0 and len(t) > 0:\n",
    "            q_matched, t_matched = pair_peaks(q, t)\n",
    "            if len(q_matched) > 0:\n",
    "                qt = ((t_matched - q_matched) / fs * 1000)\n",
    "                summary[\"QT_Interval_ms\"] = float(np.mean(qt))\n",
    "\n",
    "        # Step 6: Sinus rhythm check with detected p and r peaks\n",
    "        summary[\"Sinus_Rhythm\"] = is_sinus_rhythm(p, r_peaks, fs)\n",
    "\n",
    "    except Exception as e:\n",
    "        print(f\"Feature extraction failed: {e}\")\n",
    "\n",
    "    return summary"
   ]
  },
  {
   "cell_type": "code",
   "execution_count": 29,
   "id": "1d5263c4",
   "metadata": {},
   "outputs": [],
   "source": [
    "def sanitize_for_json(data):\n",
    "    \"\"\"Convert NumPy types to native Python types recursively for JSON serialization.\"\"\"\n",
    "    if isinstance(data, dict):\n",
    "        return {k: sanitize_for_json(v) for k, v in data.items()}\n",
    "    elif isinstance(data, list):\n",
    "        return [sanitize_for_json(item) for item in data]\n",
    "    elif isinstance(data, np.generic):\n",
    "        return data.item()\n",
    "    else:\n",
    "        return data"
   ]
  },
  {
   "cell_type": "code",
   "execution_count": 30,
   "id": "e8c6f97e",
   "metadata": {},
   "outputs": [
    {
     "name": "stdout",
     "output_type": "stream",
     "text": [
      "Saved features for a72_cleaned.npy to a72_cleaned_features.json\n"
     ]
    },
    {
     "name": "stderr",
     "output_type": "stream",
     "text": [
      "/opt/anaconda3/envs/icsts/lib/python3.13/site-packages/neurokit2/hrv/hrv_nonlinear.py:529: NeuroKitWarning: DFA_alpha2 related indices will not be calculated. The maximum duration of the windows provided for the long-term correlation is smaller than the minimum duration of windows. Refer to the `scale` argument in `nk.fractal_dfa()` for more information.\n",
      "  warn(\n"
     ]
    },
    {
     "name": "stdout",
     "output_type": "stream",
     "text": [
      "Saved features for a30_cleaned.npy to a30_cleaned_features.json\n",
      "Saved features for a40_cleaned.npy to a40_cleaned_features.json\n"
     ]
    },
    {
     "name": "stderr",
     "output_type": "stream",
     "text": [
      "/opt/anaconda3/envs/icsts/lib/python3.13/site-packages/neurokit2/hrv/hrv_nonlinear.py:529: NeuroKitWarning: DFA_alpha2 related indices will not be calculated. The maximum duration of the windows provided for the long-term correlation is smaller than the minimum duration of windows. Refer to the `scale` argument in `nk.fractal_dfa()` for more information.\n",
      "  warn(\n"
     ]
    },
    {
     "name": "stdout",
     "output_type": "stream",
     "text": [
      "Saved features for a25_cleaned.npy to a25_cleaned_features.json\n",
      "Saved features for a55_cleaned.npy to a55_cleaned_features.json\n",
      "Saved features for a67_cleaned.npy to a67_cleaned_features.json\n",
      "Saved features for a17_cleaned.npy to a17_cleaned_features.json\n",
      "Saved features for a49_cleaned.npy to a49_cleaned_features.json\n",
      "Saved features for a39_cleaned.npy to a39_cleaned_features.json\n",
      "Signal quality check failed: index 11 is out of bounds for axis 0 with size 9\n",
      "Saved features for a50_cleaned.npy to a50_cleaned_features.json\n"
     ]
    },
    {
     "name": "stderr",
     "output_type": "stream",
     "text": [
      "/opt/anaconda3/envs/icsts/lib/python3.13/site-packages/neurokit2/hrv/hrv_nonlinear.py:529: NeuroKitWarning: DFA_alpha2 related indices will not be calculated. The maximum duration of the windows provided for the long-term correlation is smaller than the minimum duration of windows. Refer to the `scale` argument in `nk.fractal_dfa()` for more information.\n",
      "  warn(\n"
     ]
    },
    {
     "name": "stdout",
     "output_type": "stream",
     "text": [
      "Saved features for a20_cleaned.npy to a20_cleaned_features.json\n",
      "Saved features for a12_cleaned.npy to a12_cleaned_features.json\n"
     ]
    },
    {
     "name": "stderr",
     "output_type": "stream",
     "text": [
      "/opt/anaconda3/envs/icsts/lib/python3.13/site-packages/neurokit2/hrv/hrv_nonlinear.py:529: NeuroKitWarning: DFA_alpha2 related indices will not be calculated. The maximum duration of the windows provided for the long-term correlation is smaller than the minimum duration of windows. Refer to the `scale` argument in `nk.fractal_dfa()` for more information.\n",
      "  warn(\n"
     ]
    },
    {
     "name": "stdout",
     "output_type": "stream",
     "text": [
      "Saved features for a62_cleaned.npy to a62_cleaned_features.json\n"
     ]
    },
    {
     "name": "stderr",
     "output_type": "stream",
     "text": [
      "/opt/anaconda3/envs/icsts/lib/python3.13/site-packages/neurokit2/hrv/hrv_nonlinear.py:529: NeuroKitWarning: DFA_alpha2 related indices will not be calculated. The maximum duration of the windows provided for the long-term correlation is smaller than the minimum duration of windows. Refer to the `scale` argument in `nk.fractal_dfa()` for more information.\n",
      "  warn(\n"
     ]
    },
    {
     "name": "stdout",
     "output_type": "stream",
     "text": [
      "Saved features for a29_cleaned.npy to a29_cleaned_features.json\n"
     ]
    },
    {
     "name": "stderr",
     "output_type": "stream",
     "text": [
      "/opt/anaconda3/envs/icsts/lib/python3.13/site-packages/neurokit2/hrv/hrv_nonlinear.py:529: NeuroKitWarning: DFA_alpha2 related indices will not be calculated. The maximum duration of the windows provided for the long-term correlation is smaller than the minimum duration of windows. Refer to the `scale` argument in `nk.fractal_dfa()` for more information.\n",
      "  warn(\n"
     ]
    },
    {
     "name": "stdout",
     "output_type": "stream",
     "text": [
      "Saved features for a59_cleaned.npy to a59_cleaned_features.json\n"
     ]
    },
    {
     "name": "stderr",
     "output_type": "stream",
     "text": [
      "/opt/anaconda3/envs/icsts/lib/python3.13/site-packages/neurokit2/hrv/hrv_nonlinear.py:529: NeuroKitWarning: DFA_alpha2 related indices will not be calculated. The maximum duration of the windows provided for the long-term correlation is smaller than the minimum duration of windows. Refer to the `scale` argument in `nk.fractal_dfa()` for more information.\n",
      "  warn(\n"
     ]
    },
    {
     "name": "stdout",
     "output_type": "stream",
     "text": [
      "Saved features for a45_cleaned.npy to a45_cleaned_features.json\n",
      "Saved features for a35_cleaned.npy to a35_cleaned_features.json\n"
     ]
    },
    {
     "name": "stderr",
     "output_type": "stream",
     "text": [
      "/opt/anaconda3/envs/icsts/lib/python3.13/site-packages/neurokit2/hrv/hrv_nonlinear.py:529: NeuroKitWarning: DFA_alpha2 related indices will not be calculated. The maximum duration of the windows provided for the long-term correlation is smaller than the minimum duration of windows. Refer to the `scale` argument in `nk.fractal_dfa()` for more information.\n",
      "  warn(\n"
     ]
    },
    {
     "name": "stdout",
     "output_type": "stream",
     "text": [
      "Saved features for a68_cleaned.npy to a68_cleaned_features.json\n"
     ]
    },
    {
     "name": "stderr",
     "output_type": "stream",
     "text": [
      "/opt/anaconda3/envs/icsts/lib/python3.13/site-packages/neurokit2/hrv/hrv_nonlinear.py:529: NeuroKitWarning: DFA_alpha2 related indices will not be calculated. The maximum duration of the windows provided for the long-term correlation is smaller than the minimum duration of windows. Refer to the `scale` argument in `nk.fractal_dfa()` for more information.\n",
      "  warn(\n"
     ]
    },
    {
     "name": "stdout",
     "output_type": "stream",
     "text": [
      "Saved features for a46_cleaned.npy to a46_cleaned_features.json\n",
      "Saved features for a36_cleaned.npy to a36_cleaned_features.json\n",
      "Saved features for a04_cleaned.npy to a04_cleaned_features.json\n"
     ]
    },
    {
     "name": "stderr",
     "output_type": "stream",
     "text": [
      "/opt/anaconda3/envs/icsts/lib/python3.13/site-packages/neurokit2/hrv/hrv_nonlinear.py:529: NeuroKitWarning: DFA_alpha2 related indices will not be calculated. The maximum duration of the windows provided for the long-term correlation is smaller than the minimum duration of windows. Refer to the `scale` argument in `nk.fractal_dfa()` for more information.\n",
      "  warn(\n"
     ]
    },
    {
     "name": "stdout",
     "output_type": "stream",
     "text": [
      "Saved features for a74_cleaned.npy to a74_cleaned_features.json\n",
      "Saved features for a61_cleaned.npy to a61_cleaned_features.json\n",
      "Saved features for a53_cleaned.npy to a53_cleaned_features.json\n",
      "Saved features for a23_cleaned.npy to a23_cleaned_features.json\n",
      "Signal quality check failed: integer division or modulo by zero\n",
      "Saved features for a64_cleaned.npy to a64_cleaned_features.json\n"
     ]
    },
    {
     "name": "stderr",
     "output_type": "stream",
     "text": [
      "/opt/anaconda3/envs/icsts/lib/python3.13/site-packages/numpy/_core/fromnumeric.py:3860: RuntimeWarning: Mean of empty slice.\n",
      "  return _methods._mean(a, axis=axis, dtype=dtype,\n",
      "/opt/anaconda3/envs/icsts/lib/python3.13/site-packages/numpy/_core/_methods.py:145: RuntimeWarning: invalid value encountered in scalar divide\n",
      "  ret = ret.dtype.type(ret / rcount)\n",
      "/opt/anaconda3/envs/icsts/lib/python3.13/site-packages/neurokit2/signal/signal_period.py:84: NeuroKitWarning: Too few peaks detected to compute the rate. Returning empty vector.\n",
      "  warn(\n"
     ]
    },
    {
     "name": "stdout",
     "output_type": "stream",
     "text": [
      "Saved features for a14_cleaned.npy to a14_cleaned_features.json\n",
      "Saved features for a08_cleaned.npy to a08_cleaned_features.json\n",
      "Saved features for a26_cleaned.npy to a26_cleaned_features.json\n",
      "Signal quality check failed: index 9 is out of bounds for axis 0 with size 9\n",
      "Saved features for a56_cleaned.npy to a56_cleaned_features.json\n",
      "Saved features for a33_cleaned.npy to a33_cleaned_features.json\n"
     ]
    },
    {
     "name": "stderr",
     "output_type": "stream",
     "text": [
      "/opt/anaconda3/envs/icsts/lib/python3.13/site-packages/neurokit2/hrv/hrv_nonlinear.py:529: NeuroKitWarning: DFA_alpha2 related indices will not be calculated. The maximum duration of the windows provided for the long-term correlation is smaller than the minimum duration of windows. Refer to the `scale` argument in `nk.fractal_dfa()` for more information.\n",
      "  warn(\n"
     ]
    },
    {
     "name": "stdout",
     "output_type": "stream",
     "text": [
      "Saved features for a43_cleaned.npy to a43_cleaned_features.json\n",
      "Saved features for a71_cleaned.npy to a71_cleaned_features.json\n",
      "Saved features for a34_cleaned.npy to a34_cleaned_features.json\n",
      "Saved features for a44_cleaned.npy to a44_cleaned_features.json\n",
      "Saved features for a06_cleaned.npy to a06_cleaned_features.json\n",
      "Saved features for a58_cleaned.npy to a58_cleaned_features.json\n",
      "Saved features for a28_cleaned.npy to a28_cleaned_features.json\n"
     ]
    },
    {
     "name": "stderr",
     "output_type": "stream",
     "text": [
      "/opt/anaconda3/envs/icsts/lib/python3.13/site-packages/neurokit2/hrv/hrv_nonlinear.py:529: NeuroKitWarning: DFA_alpha2 related indices will not be calculated. The maximum duration of the windows provided for the long-term correlation is smaller than the minimum duration of windows. Refer to the `scale` argument in `nk.fractal_dfa()` for more information.\n",
      "  warn(\n"
     ]
    },
    {
     "name": "stdout",
     "output_type": "stream",
     "text": [
      "Saved features for a63_cleaned.npy to a63_cleaned_features.json\n",
      "Saved features for a13_cleaned.npy to a13_cleaned_features.json\n",
      "Saved features for a21_cleaned.npy to a21_cleaned_features.json\n"
     ]
    },
    {
     "name": "stderr",
     "output_type": "stream",
     "text": [
      "/opt/anaconda3/envs/icsts/lib/python3.13/site-packages/neurokit2/hrv/hrv_nonlinear.py:529: NeuroKitWarning: DFA_alpha2 related indices will not be calculated. The maximum duration of the windows provided for the long-term correlation is smaller than the minimum duration of windows. Refer to the `scale` argument in `nk.fractal_dfa()` for more information.\n",
      "  warn(\n"
     ]
    },
    {
     "name": "stdout",
     "output_type": "stream",
     "text": [
      "Saved features for a51_cleaned.npy to a51_cleaned_features.json\n"
     ]
    },
    {
     "name": "stderr",
     "output_type": "stream",
     "text": [
      "/opt/anaconda3/envs/icsts/lib/python3.13/site-packages/neurokit2/hrv/hrv_nonlinear.py:529: NeuroKitWarning: DFA_alpha2 related indices will not be calculated. The maximum duration of the windows provided for the long-term correlation is smaller than the minimum duration of windows. Refer to the `scale` argument in `nk.fractal_dfa()` for more information.\n",
      "  warn(\n"
     ]
    },
    {
     "name": "stdout",
     "output_type": "stream",
     "text": [
      "Saved features for a66_cleaned.npy to a66_cleaned_features.json\n"
     ]
    },
    {
     "name": "stderr",
     "output_type": "stream",
     "text": [
      "/opt/anaconda3/envs/icsts/lib/python3.13/site-packages/neurokit2/hrv/hrv_nonlinear.py:529: NeuroKitWarning: DFA_alpha2 related indices will not be calculated. The maximum duration of the windows provided for the long-term correlation is smaller than the minimum duration of windows. Refer to the `scale` argument in `nk.fractal_dfa()` for more information.\n",
      "  warn(\n"
     ]
    },
    {
     "name": "stdout",
     "output_type": "stream",
     "text": [
      "Saved features for a38_cleaned.npy to a38_cleaned_features.json\n"
     ]
    },
    {
     "name": "stderr",
     "output_type": "stream",
     "text": [
      "/opt/anaconda3/envs/icsts/lib/python3.13/site-packages/neurokit2/hrv/hrv_nonlinear.py:529: NeuroKitWarning: DFA_alpha2 related indices will not be calculated. The maximum duration of the windows provided for the long-term correlation is smaller than the minimum duration of windows. Refer to the `scale` argument in `nk.fractal_dfa()` for more information.\n",
      "  warn(\n"
     ]
    },
    {
     "name": "stdout",
     "output_type": "stream",
     "text": [
      "Saved features for a48_cleaned.npy to a48_cleaned_features.json\n"
     ]
    },
    {
     "name": "stderr",
     "output_type": "stream",
     "text": [
      "/opt/anaconda3/envs/icsts/lib/python3.13/site-packages/neurokit2/hrv/hrv_nonlinear.py:529: NeuroKitWarning: DFA_alpha2 related indices will not be calculated. The maximum duration of the windows provided for the long-term correlation is smaller than the minimum duration of windows. Refer to the `scale` argument in `nk.fractal_dfa()` for more information.\n",
      "  warn(\n"
     ]
    },
    {
     "name": "stdout",
     "output_type": "stream",
     "text": [
      "Saved features for a54_cleaned.npy to a54_cleaned_features.json\n"
     ]
    },
    {
     "name": "stderr",
     "output_type": "stream",
     "text": [
      "/opt/anaconda3/envs/icsts/lib/python3.13/site-packages/neurokit2/hrv/hrv_nonlinear.py:529: NeuroKitWarning: DFA_alpha2 related indices will not be calculated. The maximum duration of the windows provided for the long-term correlation is smaller than the minimum duration of windows. Refer to the `scale` argument in `nk.fractal_dfa()` for more information.\n",
      "  warn(\n"
     ]
    },
    {
     "name": "stdout",
     "output_type": "stream",
     "text": [
      "Saved features for a24_cleaned.npy to a24_cleaned_features.json\n",
      "Saved features for a41_cleaned.npy to a41_cleaned_features.json\n"
     ]
    },
    {
     "name": "stderr",
     "output_type": "stream",
     "text": [
      "/opt/anaconda3/envs/icsts/lib/python3.13/site-packages/neurokit2/hrv/hrv_nonlinear.py:529: NeuroKitWarning: DFA_alpha2 related indices will not be calculated. The maximum duration of the windows provided for the long-term correlation is smaller than the minimum duration of windows. Refer to the `scale` argument in `nk.fractal_dfa()` for more information.\n",
      "  warn(\n"
     ]
    },
    {
     "name": "stdout",
     "output_type": "stream",
     "text": [
      "Saved features for a31_cleaned.npy to a31_cleaned_features.json\n",
      "Saved features for a03_cleaned.npy to a03_cleaned_features.json\n"
     ]
    },
    {
     "name": "stderr",
     "output_type": "stream",
     "text": [
      "/opt/anaconda3/envs/icsts/lib/python3.13/site-packages/neurokit2/hrv/hrv_nonlinear.py:529: NeuroKitWarning: DFA_alpha2 related indices will not be calculated. The maximum duration of the windows provided for the long-term correlation is smaller than the minimum duration of windows. Refer to the `scale` argument in `nk.fractal_dfa()` for more information.\n",
      "  warn(\n"
     ]
    },
    {
     "name": "stdout",
     "output_type": "stream",
     "text": [
      "Saved features for a73_cleaned.npy to a73_cleaned_features.json\n"
     ]
    },
    {
     "name": "stderr",
     "output_type": "stream",
     "text": [
      "/opt/anaconda3/envs/icsts/lib/python3.13/site-packages/neurokit2/hrv/hrv_nonlinear.py:529: NeuroKitWarning: DFA_alpha2 related indices will not be calculated. The maximum duration of the windows provided for the long-term correlation is smaller than the minimum duration of windows. Refer to the `scale` argument in `nk.fractal_dfa()` for more information.\n",
      "  warn(\n"
     ]
    },
    {
     "name": "stdout",
     "output_type": "stream",
     "text": [
      "Saved features for a70_cleaned.npy to a70_cleaned_features.json\n",
      "Saved features for a42_cleaned.npy to a42_cleaned_features.json\n"
     ]
    },
    {
     "name": "stderr",
     "output_type": "stream",
     "text": [
      "/opt/anaconda3/envs/icsts/lib/python3.13/site-packages/neurokit2/hrv/hrv_nonlinear.py:529: NeuroKitWarning: DFA_alpha2 related indices will not be calculated. The maximum duration of the windows provided for the long-term correlation is smaller than the minimum duration of windows. Refer to the `scale` argument in `nk.fractal_dfa()` for more information.\n",
      "  warn(\n"
     ]
    },
    {
     "name": "stdout",
     "output_type": "stream",
     "text": [
      "Saved features for a32_cleaned.npy to a32_cleaned_features.json\n"
     ]
    },
    {
     "name": "stderr",
     "output_type": "stream",
     "text": [
      "/opt/anaconda3/envs/icsts/lib/python3.13/site-packages/neurokit2/hrv/hrv_nonlinear.py:529: NeuroKitWarning: DFA_alpha2 related indices will not be calculated. The maximum duration of the windows provided for the long-term correlation is smaller than the minimum duration of windows. Refer to the `scale` argument in `nk.fractal_dfa()` for more information.\n",
      "  warn(\n",
      "/opt/anaconda3/envs/icsts/lib/python3.13/site-packages/neurokit2/signal/signal_fixpeaks.py:307: RuntimeWarning: invalid value encountered in divide\n",
      "  mrrs /= th2\n",
      "/opt/anaconda3/envs/icsts/lib/python3.13/site-packages/neurokit2/signal/signal_period.py:84: NeuroKitWarning: Too few peaks detected to compute the rate. Returning empty vector.\n",
      "  warn(\n"
     ]
    },
    {
     "name": "stdout",
     "output_type": "stream",
     "text": [
      "Saved features for a57_cleaned.npy to a57_cleaned_features.json\n",
      "Signal quality check failed: cannot convert float NaN to integer\n",
      "Saved features for a27_cleaned.npy to a27_cleaned_features.json\n",
      "Saved features for a15_cleaned.npy to a15_cleaned_features.json\n",
      "Saved features for a65_cleaned.npy to a65_cleaned_features.json\n",
      "Saved features for a22_cleaned.npy to a22_cleaned_features.json\n",
      "Saved features for a52_cleaned.npy to a52_cleaned_features.json\n",
      "Signal quality check failed: integer division or modulo by zero\n",
      "Saved features for a60_cleaned.npy to a60_cleaned_features.json\n"
     ]
    },
    {
     "name": "stderr",
     "output_type": "stream",
     "text": [
      "/opt/anaconda3/envs/icsts/lib/python3.13/site-packages/numpy/_core/fromnumeric.py:3860: RuntimeWarning: Mean of empty slice.\n",
      "  return _methods._mean(a, axis=axis, dtype=dtype,\n",
      "/opt/anaconda3/envs/icsts/lib/python3.13/site-packages/numpy/_core/_methods.py:145: RuntimeWarning: invalid value encountered in scalar divide\n",
      "  ret = ret.dtype.type(ret / rcount)\n",
      "/opt/anaconda3/envs/icsts/lib/python3.13/site-packages/neurokit2/signal/signal_period.py:84: NeuroKitWarning: Too few peaks detected to compute the rate. Returning empty vector.\n",
      "  warn(\n"
     ]
    },
    {
     "name": "stdout",
     "output_type": "stream",
     "text": [
      "Saved features for a10_cleaned.npy to a10_cleaned_features.json\n"
     ]
    },
    {
     "name": "stderr",
     "output_type": "stream",
     "text": [
      "/opt/anaconda3/envs/icsts/lib/python3.13/site-packages/neurokit2/hrv/hrv_nonlinear.py:529: NeuroKitWarning: DFA_alpha2 related indices will not be calculated. The maximum duration of the windows provided for the long-term correlation is smaller than the minimum duration of windows. Refer to the `scale` argument in `nk.fractal_dfa()` for more information.\n",
      "  warn(\n"
     ]
    },
    {
     "name": "stdout",
     "output_type": "stream",
     "text": [
      "Saved features for a75_cleaned.npy to a75_cleaned_features.json\n",
      "Saved features for a05_cleaned.npy to a05_cleaned_features.json\n"
     ]
    },
    {
     "name": "stderr",
     "output_type": "stream",
     "text": [
      "/opt/anaconda3/envs/icsts/lib/python3.13/site-packages/neurokit2/hrv/hrv_nonlinear.py:529: NeuroKitWarning: DFA_alpha2 related indices will not be calculated. The maximum duration of the windows provided for the long-term correlation is smaller than the minimum duration of windows. Refer to the `scale` argument in `nk.fractal_dfa()` for more information.\n",
      "  warn(\n"
     ]
    },
    {
     "name": "stdout",
     "output_type": "stream",
     "text": [
      "Saved features for a19_cleaned.npy to a19_cleaned_features.json\n",
      "Saved features for a69_cleaned.npy to a69_cleaned_features.json\n",
      "Saved features for a37_cleaned.npy to a37_cleaned_features.json\n",
      "Saved features for a47_cleaned.npy to a47_cleaned_features.json\n"
     ]
    },
    {
     "name": "stderr",
     "output_type": "stream",
     "text": [
      "/opt/anaconda3/envs/icsts/lib/python3.13/site-packages/neurokit2/hrv/hrv_nonlinear.py:529: NeuroKitWarning: DFA_alpha2 related indices will not be calculated. The maximum duration of the windows provided for the long-term correlation is smaller than the minimum duration of windows. Refer to the `scale` argument in `nk.fractal_dfa()` for more information.\n",
      "  warn(\n"
     ]
    }
   ],
   "source": [
    "base_dir = \"ica_cleaned_signals2\"  \n",
    "output_dir = \"metrics_2\"\n",
    "os.makedirs(output_dir, exist_ok=True)\n",
    "\n",
    "files = [f for f in os.listdir(base_dir) if f.endswith(\".npy\")]\n",
    "\n",
    "fs = 250  # sampling frequency (adjust if needed)\n",
    "\n",
    "for filename in files:\n",
    "    filepath = os.path.join(base_dir, filename)\n",
    "\n",
    "    # All files are fetal ECG cleaned signals now\n",
    "    subject_type = \"fetal\"\n",
    "\n",
    "    signal = np.load(filepath)\n",
    "\n",
    "    try:\n",
    "        features = extract_features(signal, fs, subject_type)\n",
    "\n",
    "        # Add metadata\n",
    "        features[\"subject_type\"] = subject_type\n",
    "        features[\"filename\"] = filename\n",
    "\n",
    "        # Convert all values to JSON-safe types\n",
    "        json_safe_features = sanitize_for_json(features)\n",
    "\n",
    "        # Save to JSON\n",
    "        json_filename = filename.replace(\".npy\", \"_features.json\")\n",
    "        json_path = os.path.join(output_dir, json_filename)\n",
    "\n",
    "        with open(json_path, \"w\") as json_file:\n",
    "            json.dump(json_safe_features, json_file, indent=4)\n",
    "\n",
    "        print(f\"Saved features for {filename} to {json_filename}\")\n",
    "\n",
    "    except Exception as e:\n",
    "        print(f\"Error processing {filename}: {e}\")"
   ]
  },
  {
   "cell_type": "code",
   "execution_count": 31,
   "id": "40006006",
   "metadata": {},
   "outputs": [
    {
     "name": "stdout",
     "output_type": "stream",
     "text": [
      "Detected R-peaks: 197\n"
     ]
    },
    {
     "data": {
      "image/png": "[encoded data removed]",
      "text/plain": [
       "<Figure size 640x480 with 1 Axes>"
      ]
     },
     "metadata": {},
     "output_type": "display_data"
    },
    {
     "name": "stdout",
     "output_type": "stream",
     "text": [
      "Manual HR from detected peaks: 49.35 bpm\n"
     ]
    }
   ],
   "source": [
    "# Load your cleaned signal\n",
    "signal = np.load('ica_cleaned_signals2/a03_cleaned.npy')\n",
    "\n",
    "# Try a looser filter\n",
    "filtered_signal = bandpass_filter(signal, fs, lowcut=0.5, highcut=30)\n",
    "\n",
    "# Process with NeuroKit2 and plot R-peaks\n",
    "signals, info = nk.ecg_process(filtered_signal, sampling_rate=fs)\n",
    "r_peaks = signals.index[signals[\"ECG_R_Peaks\"] == 1].to_numpy()\n",
    "print(f\"Detected R-peaks: {len(r_peaks)}\")\n",
    "\n",
    "import matplotlib.pyplot as plt\n",
    "plt.plot(filtered_signal, label='Filtered Signal')\n",
    "plt.scatter(r_peaks, filtered_signal[r_peaks], color='red', label='R-peaks')\n",
    "plt.legend()\n",
    "plt.show()\n",
    "\n",
    "# Compute heart rate manually for comparison\n",
    "rr_intervals = np.diff(r_peaks) / fs\n",
    "manual_hr = 60 / np.mean(rr_intervals) if len(rr_intervals) > 0 else np.nan\n",
    "print(f\"Manual HR from detected peaks: {manual_hr:.2f} bpm\")\n"
   ]
  },
  {
   "cell_type": "code",
   "execution_count": null,
   "id": "e96ea56d",
   "metadata": {},
   "outputs": [],
   "source": []
  }
 ],
 "metadata": {
  "kernelspec": {
   "display_name": "icsts",
   "language": "python",
   "name": "python3"
  },
  "language_info": {
   "codemirror_mode": {
    "name": "ipython",
    "version": 3
   },
   "file_extension": ".py",
   "mimetype": "text/x-python",
   "name": "python",
   "nbconvert_exporter": "python",
   "pygments_lexer": "ipython3",
   "version": "3.13.3"
  }
 },
 "nbformat": 4,
 "nbformat_minor": 5
}
