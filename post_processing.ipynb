{
 "cells": [
  {
   "cell_type": "code",
   "execution_count": 68,
   "metadata": {},
   "outputs": [],
   "source": [
    "import neurokit2 as nk\n",
    "import numpy as np\n",
    "from scipy.signal import find_peaks"
   ]
  },
  {
   "cell_type": "code",
   "execution_count": 86,
   "metadata": {},
   "outputs": [],
   "source": [
    "import neurokit2 as nk\n",
    "import numpy as np\n",
    "\n",
    "def extract_features(ecg_signal, fs):\n",
    "    # 1) Run NeuroKit2 processing\n",
    "    signals, info = nk.ecg_process(ecg_signal, sampling_rate=fs)\n",
    "    features = nk.ecg_analyze(signals, sampling_rate=fs)\n",
    "\n",
    "    # 2) Start with main HRV and HR metrics\n",
    "    summary = {\n",
    "        \"ECG_Rate_Mean\":  float(features.get(\"ECG_Rate_Mean\", 0)),\n",
    "        \"HRV_SDNN\":       float(features.get(\"HRV_SDNN\", 0)),\n",
    "        \"HRV_RMSSD\":      float(features.get(\"HRV_RMSSD\", 0)),\n",
    "        \"HRV_pNN50\":      float(features.get(\"HRV_pNN50\", 0)),\n",
    "    }\n",
    "\n",
    "    # 3) Manual calculation of QRS duration and QT interval\n",
    "    q = signals.index[signals[\"ECG_Q_Peaks\"] == 1].to_numpy()\n",
    "    s = signals.index[signals[\"ECG_S_Peaks\"] == 1].to_numpy()\n",
    "    t = signals.index[signals[\"ECG_T_Offsets\"] == 1].to_numpy()\n",
    "\n",
    "    min_len = min(len(q), len(s))\n",
    "    qrs = ((s[:min_len] - q[:min_len]) / fs * 1000)\n",
    "    min_len_qt = min(len(q), len(t))\n",
    "    qt = ((t[:min_len_qt] - q[:min_len_qt]) / fs * 1000)\n",
    "\n",
    "    summary[\"ECG_QRS_Duration\"] = float(np.mean(qrs)) if qrs.size > 0 else np.nan\n",
    "    summary[\"ECG_QT_Interval\"]  = float(np.mean(qt))  if qt.size > 0  else np.nan\n",
    "\n",
    "    return summary\n"
   ]
  },
  {
   "cell_type": "code",
   "execution_count": 87,
   "metadata": {},
   "outputs": [
    {
     "name": "stdout",
     "output_type": "stream",
     "text": [
      "ECG_Rate_Mean: 143.02\n",
      "HRV_SDNN: 9.30\n",
      "HRV_RMSSD: 13.31\n",
      "HRV_pNN50: 0.14\n",
      "ECG_QRS_Duration: 69.74\n",
      "ECG_QT_Interval: 154.64\n"
     ]
    },
    {
     "name": "stderr",
     "output_type": "stream",
     "text": [
      "/var/folders/25/rb9t435n4mzgnk1l82dg2c1c0000gn/T/ipykernel_10912/1494222083.py:11: FutureWarning: Calling float on a single element Series is deprecated and will raise a TypeError in the future. Use float(ser.iloc[0]) instead\n",
      "  \"ECG_Rate_Mean\":  float(features.get(\"ECG_Rate_Mean\", 0)),\n",
      "/var/folders/25/rb9t435n4mzgnk1l82dg2c1c0000gn/T/ipykernel_10912/1494222083.py:12: FutureWarning: Calling float on a single element Series is deprecated and will raise a TypeError in the future. Use float(ser.iloc[0]) instead\n",
      "  \"HRV_SDNN\":       float(features.get(\"HRV_SDNN\", 0)),\n",
      "/var/folders/25/rb9t435n4mzgnk1l82dg2c1c0000gn/T/ipykernel_10912/1494222083.py:13: FutureWarning: Calling float on a single element Series is deprecated and will raise a TypeError in the future. Use float(ser.iloc[0]) instead\n",
      "  \"HRV_RMSSD\":      float(features.get(\"HRV_RMSSD\", 0)),\n",
      "/var/folders/25/rb9t435n4mzgnk1l82dg2c1c0000gn/T/ipykernel_10912/1494222083.py:14: FutureWarning: Calling float on a single element Series is deprecated and will raise a TypeError in the future. Use float(ser.iloc[0]) instead\n",
      "  \"HRV_pNN50\":      float(features.get(\"HRV_pNN50\", 0)),\n"
     ]
    }
   ],
   "source": [
    "# Load your cleaned fetal ECG\n",
    "fecg = np.load(\"ica_cleaned_signals/sub01_l1_c0_combined_cleaned_fecg.npy\")\n",
    "fs   = 250  # Confirm your dataset’s sampling rate\n",
    "\n",
    "features = extract_features(fecg, fs)\n",
    "for name, value in features.items():\n",
    "    print(f\"{name}: {value:.2f}\")"
   ]
  },
  {
   "cell_type": "code",
   "execution_count": null,
   "metadata": {},
   "outputs": [],
   "source": []
  }
 ],
 "metadata": {
  "kernelspec": {
   "display_name": "icsts",
   "language": "python",
   "name": "python3"
  },
  "language_info": {
   "codemirror_mode": {
    "name": "ipython",
    "version": 3
   },
   "file_extension": ".py",
   "mimetype": "text/x-python",
   "name": "python",
   "nbconvert_exporter": "python",
   "pygments_lexer": "ipython3",
   "version": "3.13.3"
  }
 },
 "nbformat": 4,
 "nbformat_minor": 2
}
