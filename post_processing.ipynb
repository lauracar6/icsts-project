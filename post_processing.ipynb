{
 "cells": [
  {
   "cell_type": "code",
   "execution_count": 14,
   "metadata": {},
   "outputs": [],
   "source": [
    "import neurokit2 as nk\n",
    "import numpy as np\n",
    "from scipy.signal import butter, filtfilt\n",
    "import json\n",
    "import os\n"
   ]
  },
  {
   "cell_type": "code",
   "execution_count": 15,
   "metadata": {},
   "outputs": [],
   "source": [
    "def pair_peaks(peaks1, peaks2, max_distance=200):\n",
    "    pairs1 = []\n",
    "    pairs2 = []\n",
    "    j = 0\n",
    "    for i in range(len(peaks1)):\n",
    "        while j < len(peaks2) and peaks2[j] < peaks1[i]:\n",
    "            j += 1\n",
    "        if j < len(peaks2) and abs(peaks2[j] - peaks1[i]) <= max_distance:\n",
    "            pairs1.append(peaks1[i])\n",
    "            pairs2.append(peaks2[j])\n",
    "            j += 1\n",
    "    return np.array(pairs1), np.array(pairs2)\n",
    "\n",
    "\n",
    "def bandpass_filter(signal, fs, lowcut=0.5, highcut=40.0, order=4):\n",
    "    nyq = 0.5 * fs\n",
    "    low = lowcut / nyq\n",
    "    high = highcut / nyq\n",
    "    b, a = butter(order, [low, high], btype='band')\n",
    "    return filtfilt(b, a, signal)\n"
   ]
  },
  {
   "cell_type": "code",
   "execution_count": 16,
   "metadata": {},
   "outputs": [],
   "source": [
    "def extract_features(ecg_signal, fs, subject_type=\"fetal\"):\n",
    "    summary = {\n",
    "        \"Heart_Rate_Mean\": np.nan,\n",
    "        \"PR_Interval_ms\": np.nan,\n",
    "        \"QRS_Duration_ms\": np.nan,\n",
    "    }\n",
    "\n",
    "    try:\n",
    "        # Step 1: Filter the signal\n",
    "        filtered_signal = bandpass_filter(ecg_signal, fs)\n",
    "\n",
    "        # Step 2: Process with neurokit\n",
    "        signals, info = nk.ecg_process(filtered_signal, sampling_rate=fs)\n",
    "        features = nk.ecg_analyze(signals, sampling_rate=fs)\n",
    "        summary[\"Heart_Rate_Mean\"] = float(features.get(\"ECG_Rate_Mean\", np.nan))\n",
    "\n",
    "        # Step 3: Extract peaks\n",
    "        q = signals.index[signals[\"ECG_Q_Peaks\"] == 1].to_numpy()\n",
    "        s = signals.index[signals[\"ECG_S_Peaks\"] == 1].to_numpy()\n",
    "        p = signals.index[signals[\"ECG_P_Peaks\"] == 1].to_numpy()\n",
    "        \n",
    "\n",
    "        # Step 4: Intervals\n",
    "        if len(q) > 0 and len(s) > 0:\n",
    "            q_matched, s_matched = pair_peaks(q, s)\n",
    "            if len(q_matched) > 0:\n",
    "                qrs = ((s_matched - q_matched) / fs * 1000)\n",
    "                summary[\"QRS_Duration_ms\"] = float(np.mean(qrs))\n",
    "\n",
    "        if len(p) > 0 and len(q) > 0:\n",
    "            p_matched, q_matched = pair_peaks(p, q)\n",
    "            if len(p_matched) > 0:\n",
    "                pr = ((q_matched - p_matched) / fs * 1000)\n",
    "                summary[\"PR_Interval_ms\"] = float(np.mean(pr))\n",
    "\n",
    "\n",
    "    except Exception as e:\n",
    "        print(f\"Feature extraction failed: {e}\")\n",
    "\n",
    "    return summary"
   ]
  },
  {
   "cell_type": "code",
   "execution_count": 17,
   "metadata": {},
   "outputs": [
    {
     "name": "stderr",
     "output_type": "stream",
     "text": [
      "/var/folders/25/rb9t435n4mzgnk1l82dg2c1c0000gn/T/ipykernel_52462/1434419162.py:15: FutureWarning: Calling float on a single element Series is deprecated and will raise a TypeError in the future. Use float(ser.iloc[0]) instead\n",
      "  summary[\"Heart_Rate_Mean\"] = float(features.get(\"ECG_Rate_Mean\", np.nan))\n"
     ]
    },
    {
     "name": "stdout",
     "output_type": "stream",
     "text": [
      "Saved features for sub08_l3_cleaned_mecg.npy to sub08_l3_cleaned_mecg_features.json\n"
     ]
    },
    {
     "name": "stderr",
     "output_type": "stream",
     "text": [
      "/var/folders/25/rb9t435n4mzgnk1l82dg2c1c0000gn/T/ipykernel_52462/1434419162.py:15: FutureWarning: Calling float on a single element Series is deprecated and will raise a TypeError in the future. Use float(ser.iloc[0]) instead\n",
      "  summary[\"Heart_Rate_Mean\"] = float(features.get(\"ECG_Rate_Mean\", np.nan))\n"
     ]
    },
    {
     "name": "stdout",
     "output_type": "stream",
     "text": [
      "Saved features for sub06_l5_cleaned_fecg.npy to sub06_l5_cleaned_fecg_features.json\n"
     ]
    },
    {
     "name": "stderr",
     "output_type": "stream",
     "text": [
      "/var/folders/25/rb9t435n4mzgnk1l82dg2c1c0000gn/T/ipykernel_52462/1434419162.py:15: FutureWarning: Calling float on a single element Series is deprecated and will raise a TypeError in the future. Use float(ser.iloc[0]) instead\n",
      "  summary[\"Heart_Rate_Mean\"] = float(features.get(\"ECG_Rate_Mean\", np.nan))\n"
     ]
    },
    {
     "name": "stdout",
     "output_type": "stream",
     "text": [
      "Saved features for sub02_l2_cleaned_mecg.npy to sub02_l2_cleaned_mecg_features.json\n"
     ]
    },
    {
     "name": "stderr",
     "output_type": "stream",
     "text": [
      "/var/folders/25/rb9t435n4mzgnk1l82dg2c1c0000gn/T/ipykernel_52462/1434419162.py:15: FutureWarning: Calling float on a single element Series is deprecated and will raise a TypeError in the future. Use float(ser.iloc[0]) instead\n",
      "  summary[\"Heart_Rate_Mean\"] = float(features.get(\"ECG_Rate_Mean\", np.nan))\n"
     ]
    },
    {
     "name": "stdout",
     "output_type": "stream",
     "text": [
      "Saved features for sub10_l3_cleaned_mecg.npy to sub10_l3_cleaned_mecg_features.json\n"
     ]
    },
    {
     "name": "stderr",
     "output_type": "stream",
     "text": [
      "/var/folders/25/rb9t435n4mzgnk1l82dg2c1c0000gn/T/ipykernel_52462/1434419162.py:15: FutureWarning: Calling float on a single element Series is deprecated and will raise a TypeError in the future. Use float(ser.iloc[0]) instead\n",
      "  summary[\"Heart_Rate_Mean\"] = float(features.get(\"ECG_Rate_Mean\", np.nan))\n"
     ]
    },
    {
     "name": "stdout",
     "output_type": "stream",
     "text": [
      "Saved features for sub03_l2_cleaned_mecg.npy to sub03_l2_cleaned_mecg_features.json\n"
     ]
    },
    {
     "name": "stderr",
     "output_type": "stream",
     "text": [
      "/var/folders/25/rb9t435n4mzgnk1l82dg2c1c0000gn/T/ipykernel_52462/1434419162.py:15: FutureWarning: Calling float on a single element Series is deprecated and will raise a TypeError in the future. Use float(ser.iloc[0]) instead\n",
      "  summary[\"Heart_Rate_Mean\"] = float(features.get(\"ECG_Rate_Mean\", np.nan))\n"
     ]
    },
    {
     "name": "stdout",
     "output_type": "stream",
     "text": [
      "Saved features for sub09_l3_cleaned_mecg.npy to sub09_l3_cleaned_mecg_features.json\n"
     ]
    },
    {
     "name": "stderr",
     "output_type": "stream",
     "text": [
      "/var/folders/25/rb9t435n4mzgnk1l82dg2c1c0000gn/T/ipykernel_52462/1434419162.py:15: FutureWarning: Calling float on a single element Series is deprecated and will raise a TypeError in the future. Use float(ser.iloc[0]) instead\n",
      "  summary[\"Heart_Rate_Mean\"] = float(features.get(\"ECG_Rate_Mean\", np.nan))\n"
     ]
    },
    {
     "name": "stdout",
     "output_type": "stream",
     "text": [
      "Saved features for sub07_l5_cleaned_fecg.npy to sub07_l5_cleaned_fecg_features.json\n"
     ]
    },
    {
     "name": "stderr",
     "output_type": "stream",
     "text": [
      "/var/folders/25/rb9t435n4mzgnk1l82dg2c1c0000gn/T/ipykernel_52462/1434419162.py:15: FutureWarning: Calling float on a single element Series is deprecated and will raise a TypeError in the future. Use float(ser.iloc[0]) instead\n",
      "  summary[\"Heart_Rate_Mean\"] = float(features.get(\"ECG_Rate_Mean\", np.nan))\n"
     ]
    },
    {
     "name": "stdout",
     "output_type": "stream",
     "text": [
      "Saved features for sub01_l1_cleaned_fecg.npy to sub01_l1_cleaned_fecg_features.json\n"
     ]
    },
    {
     "name": "stderr",
     "output_type": "stream",
     "text": [
      "/var/folders/25/rb9t435n4mzgnk1l82dg2c1c0000gn/T/ipykernel_52462/1434419162.py:15: FutureWarning: Calling float on a single element Series is deprecated and will raise a TypeError in the future. Use float(ser.iloc[0]) instead\n",
      "  summary[\"Heart_Rate_Mean\"] = float(features.get(\"ECG_Rate_Mean\", np.nan))\n"
     ]
    },
    {
     "name": "stdout",
     "output_type": "stream",
     "text": [
      "Saved features for sub04_l5_cleaned_fecg.npy to sub04_l5_cleaned_fecg_features.json\n"
     ]
    },
    {
     "name": "stderr",
     "output_type": "stream",
     "text": [
      "/var/folders/25/rb9t435n4mzgnk1l82dg2c1c0000gn/T/ipykernel_52462/1434419162.py:15: FutureWarning: Calling float on a single element Series is deprecated and will raise a TypeError in the future. Use float(ser.iloc[0]) instead\n",
      "  summary[\"Heart_Rate_Mean\"] = float(features.get(\"ECG_Rate_Mean\", np.nan))\n"
     ]
    },
    {
     "name": "stdout",
     "output_type": "stream",
     "text": [
      "Saved features for sub02_l1_cleaned_fecg.npy to sub02_l1_cleaned_fecg_features.json\n"
     ]
    },
    {
     "name": "stderr",
     "output_type": "stream",
     "text": [
      "/var/folders/25/rb9t435n4mzgnk1l82dg2c1c0000gn/T/ipykernel_52462/1434419162.py:15: FutureWarning: Calling float on a single element Series is deprecated and will raise a TypeError in the future. Use float(ser.iloc[0]) instead\n",
      "  summary[\"Heart_Rate_Mean\"] = float(features.get(\"ECG_Rate_Mean\", np.nan))\n"
     ]
    },
    {
     "name": "stdout",
     "output_type": "stream",
     "text": [
      "Saved features for sub03_l1_cleaned_fecg.npy to sub03_l1_cleaned_fecg_features.json\n"
     ]
    },
    {
     "name": "stderr",
     "output_type": "stream",
     "text": [
      "/var/folders/25/rb9t435n4mzgnk1l82dg2c1c0000gn/T/ipykernel_52462/1434419162.py:15: FutureWarning: Calling float on a single element Series is deprecated and will raise a TypeError in the future. Use float(ser.iloc[0]) instead\n",
      "  summary[\"Heart_Rate_Mean\"] = float(features.get(\"ECG_Rate_Mean\", np.nan))\n"
     ]
    },
    {
     "name": "stdout",
     "output_type": "stream",
     "text": [
      "Saved features for sub05_l5_cleaned_fecg.npy to sub05_l5_cleaned_fecg_features.json\n"
     ]
    },
    {
     "name": "stderr",
     "output_type": "stream",
     "text": [
      "/var/folders/25/rb9t435n4mzgnk1l82dg2c1c0000gn/T/ipykernel_52462/1434419162.py:15: FutureWarning: Calling float on a single element Series is deprecated and will raise a TypeError in the future. Use float(ser.iloc[0]) instead\n",
      "  summary[\"Heart_Rate_Mean\"] = float(features.get(\"ECG_Rate_Mean\", np.nan))\n"
     ]
    },
    {
     "name": "stdout",
     "output_type": "stream",
     "text": [
      "Saved features for sub01_l2_cleaned_mecg.npy to sub01_l2_cleaned_mecg_features.json\n"
     ]
    },
    {
     "name": "stderr",
     "output_type": "stream",
     "text": [
      "/var/folders/25/rb9t435n4mzgnk1l82dg2c1c0000gn/T/ipykernel_52462/1434419162.py:15: FutureWarning: Calling float on a single element Series is deprecated and will raise a TypeError in the future. Use float(ser.iloc[0]) instead\n",
      "  summary[\"Heart_Rate_Mean\"] = float(features.get(\"ECG_Rate_Mean\", np.nan))\n"
     ]
    },
    {
     "name": "stdout",
     "output_type": "stream",
     "text": [
      "Saved features for sub09_l4_cleaned_fecg.npy to sub09_l4_cleaned_fecg_features.json\n"
     ]
    },
    {
     "name": "stderr",
     "output_type": "stream",
     "text": [
      "/var/folders/25/rb9t435n4mzgnk1l82dg2c1c0000gn/T/ipykernel_52462/1434419162.py:15: FutureWarning: Calling float on a single element Series is deprecated and will raise a TypeError in the future. Use float(ser.iloc[0]) instead\n",
      "  summary[\"Heart_Rate_Mean\"] = float(features.get(\"ECG_Rate_Mean\", np.nan))\n"
     ]
    },
    {
     "name": "stdout",
     "output_type": "stream",
     "text": [
      "Saved features for sub07_l2_cleaned_mecg.npy to sub07_l2_cleaned_mecg_features.json\n"
     ]
    },
    {
     "name": "stderr",
     "output_type": "stream",
     "text": [
      "/var/folders/25/rb9t435n4mzgnk1l82dg2c1c0000gn/T/ipykernel_52462/1434419162.py:15: FutureWarning: Calling float on a single element Series is deprecated and will raise a TypeError in the future. Use float(ser.iloc[0]) instead\n",
      "  summary[\"Heart_Rate_Mean\"] = float(features.get(\"ECG_Rate_Mean\", np.nan))\n"
     ]
    },
    {
     "name": "stdout",
     "output_type": "stream",
     "text": [
      "Saved features for sub03_l5_cleaned_fecg.npy to sub03_l5_cleaned_fecg_features.json\n"
     ]
    },
    {
     "name": "stderr",
     "output_type": "stream",
     "text": [
      "/var/folders/25/rb9t435n4mzgnk1l82dg2c1c0000gn/T/ipykernel_52462/1434419162.py:15: FutureWarning: Calling float on a single element Series is deprecated and will raise a TypeError in the future. Use float(ser.iloc[0]) instead\n",
      "  summary[\"Heart_Rate_Mean\"] = float(features.get(\"ECG_Rate_Mean\", np.nan))\n"
     ]
    },
    {
     "name": "stdout",
     "output_type": "stream",
     "text": [
      "Saved features for sub05_l1_cleaned_fecg.npy to sub05_l1_cleaned_fecg_features.json\n"
     ]
    },
    {
     "name": "stderr",
     "output_type": "stream",
     "text": [
      "/var/folders/25/rb9t435n4mzgnk1l82dg2c1c0000gn/T/ipykernel_52462/1434419162.py:15: FutureWarning: Calling float on a single element Series is deprecated and will raise a TypeError in the future. Use float(ser.iloc[0]) instead\n",
      "  summary[\"Heart_Rate_Mean\"] = float(features.get(\"ECG_Rate_Mean\", np.nan))\n"
     ]
    },
    {
     "name": "stdout",
     "output_type": "stream",
     "text": [
      "Saved features for sub10_l4_cleaned_fecg.npy to sub10_l4_cleaned_fecg_features.json\n"
     ]
    },
    {
     "name": "stderr",
     "output_type": "stream",
     "text": [
      "/var/folders/25/rb9t435n4mzgnk1l82dg2c1c0000gn/T/ipykernel_52462/1434419162.py:15: FutureWarning: Calling float on a single element Series is deprecated and will raise a TypeError in the future. Use float(ser.iloc[0]) instead\n",
      "  summary[\"Heart_Rate_Mean\"] = float(features.get(\"ECG_Rate_Mean\", np.nan))\n"
     ]
    },
    {
     "name": "stdout",
     "output_type": "stream",
     "text": [
      "Saved features for sub04_l1_cleaned_fecg.npy to sub04_l1_cleaned_fecg_features.json\n"
     ]
    },
    {
     "name": "stderr",
     "output_type": "stream",
     "text": [
      "/var/folders/25/rb9t435n4mzgnk1l82dg2c1c0000gn/T/ipykernel_52462/1434419162.py:15: FutureWarning: Calling float on a single element Series is deprecated and will raise a TypeError in the future. Use float(ser.iloc[0]) instead\n",
      "  summary[\"Heart_Rate_Mean\"] = float(features.get(\"ECG_Rate_Mean\", np.nan))\n"
     ]
    },
    {
     "name": "stdout",
     "output_type": "stream",
     "text": [
      "Saved features for sub02_l5_cleaned_fecg.npy to sub02_l5_cleaned_fecg_features.json\n"
     ]
    },
    {
     "name": "stderr",
     "output_type": "stream",
     "text": [
      "/var/folders/25/rb9t435n4mzgnk1l82dg2c1c0000gn/T/ipykernel_52462/1434419162.py:15: FutureWarning: Calling float on a single element Series is deprecated and will raise a TypeError in the future. Use float(ser.iloc[0]) instead\n",
      "  summary[\"Heart_Rate_Mean\"] = float(features.get(\"ECG_Rate_Mean\", np.nan))\n"
     ]
    },
    {
     "name": "stdout",
     "output_type": "stream",
     "text": [
      "Saved features for sub08_l4_cleaned_fecg.npy to sub08_l4_cleaned_fecg_features.json\n"
     ]
    },
    {
     "name": "stderr",
     "output_type": "stream",
     "text": [
      "/var/folders/25/rb9t435n4mzgnk1l82dg2c1c0000gn/T/ipykernel_52462/1434419162.py:15: FutureWarning: Calling float on a single element Series is deprecated and will raise a TypeError in the future. Use float(ser.iloc[0]) instead\n",
      "  summary[\"Heart_Rate_Mean\"] = float(features.get(\"ECG_Rate_Mean\", np.nan))\n"
     ]
    },
    {
     "name": "stdout",
     "output_type": "stream",
     "text": [
      "Saved features for sub06_l2_cleaned_mecg.npy to sub06_l2_cleaned_mecg_features.json\n"
     ]
    },
    {
     "name": "stderr",
     "output_type": "stream",
     "text": [
      "/var/folders/25/rb9t435n4mzgnk1l82dg2c1c0000gn/T/ipykernel_52462/1434419162.py:15: FutureWarning: Calling float on a single element Series is deprecated and will raise a TypeError in the future. Use float(ser.iloc[0]) instead\n",
      "  summary[\"Heart_Rate_Mean\"] = float(features.get(\"ECG_Rate_Mean\", np.nan))\n"
     ]
    },
    {
     "name": "stdout",
     "output_type": "stream",
     "text": [
      "Saved features for sub07_l1_cleaned_fecg.npy to sub07_l1_cleaned_fecg_features.json\n"
     ]
    },
    {
     "name": "stderr",
     "output_type": "stream",
     "text": [
      "/var/folders/25/rb9t435n4mzgnk1l82dg2c1c0000gn/T/ipykernel_52462/1434419162.py:15: FutureWarning: Calling float on a single element Series is deprecated and will raise a TypeError in the future. Use float(ser.iloc[0]) instead\n",
      "  summary[\"Heart_Rate_Mean\"] = float(features.get(\"ECG_Rate_Mean\", np.nan))\n"
     ]
    },
    {
     "name": "stdout",
     "output_type": "stream",
     "text": [
      "Saved features for sub01_l5_cleaned_fecg.npy to sub01_l5_cleaned_fecg_features.json\n"
     ]
    },
    {
     "name": "stderr",
     "output_type": "stream",
     "text": [
      "/var/folders/25/rb9t435n4mzgnk1l82dg2c1c0000gn/T/ipykernel_52462/1434419162.py:15: FutureWarning: Calling float on a single element Series is deprecated and will raise a TypeError in the future. Use float(ser.iloc[0]) instead\n",
      "  summary[\"Heart_Rate_Mean\"] = float(features.get(\"ECG_Rate_Mean\", np.nan))\n"
     ]
    },
    {
     "name": "stdout",
     "output_type": "stream",
     "text": [
      "Saved features for sub05_l2_cleaned_mecg.npy to sub05_l2_cleaned_mecg_features.json\n"
     ]
    },
    {
     "name": "stderr",
     "output_type": "stream",
     "text": [
      "/var/folders/25/rb9t435n4mzgnk1l82dg2c1c0000gn/T/ipykernel_52462/1434419162.py:15: FutureWarning: Calling float on a single element Series is deprecated and will raise a TypeError in the future. Use float(ser.iloc[0]) instead\n",
      "  summary[\"Heart_Rate_Mean\"] = float(features.get(\"ECG_Rate_Mean\", np.nan))\n"
     ]
    },
    {
     "name": "stdout",
     "output_type": "stream",
     "text": [
      "Saved features for sub04_l2_cleaned_mecg.npy to sub04_l2_cleaned_mecg_features.json\n"
     ]
    },
    {
     "name": "stderr",
     "output_type": "stream",
     "text": [
      "/var/folders/25/rb9t435n4mzgnk1l82dg2c1c0000gn/T/ipykernel_52462/1434419162.py:15: FutureWarning: Calling float on a single element Series is deprecated and will raise a TypeError in the future. Use float(ser.iloc[0]) instead\n",
      "  summary[\"Heart_Rate_Mean\"] = float(features.get(\"ECG_Rate_Mean\", np.nan))\n"
     ]
    },
    {
     "name": "stdout",
     "output_type": "stream",
     "text": [
      "Saved features for sub06_l1_cleaned_fecg.npy to sub06_l1_cleaned_fecg_features.json\n"
     ]
    },
    {
     "name": "stderr",
     "output_type": "stream",
     "text": [
      "/var/folders/25/rb9t435n4mzgnk1l82dg2c1c0000gn/T/ipykernel_52462/1434419162.py:15: FutureWarning: Calling float on a single element Series is deprecated and will raise a TypeError in the future. Use float(ser.iloc[0]) instead\n",
      "  summary[\"Heart_Rate_Mean\"] = float(features.get(\"ECG_Rate_Mean\", np.nan))\n"
     ]
    },
    {
     "name": "stdout",
     "output_type": "stream",
     "text": [
      "Saved features for sub07_l4_cleaned_fecg.npy to sub07_l4_cleaned_fecg_features.json\n"
     ]
    },
    {
     "name": "stderr",
     "output_type": "stream",
     "text": [
      "/var/folders/25/rb9t435n4mzgnk1l82dg2c1c0000gn/T/ipykernel_52462/1434419162.py:15: FutureWarning: Calling float on a single element Series is deprecated and will raise a TypeError in the future. Use float(ser.iloc[0]) instead\n",
      "  summary[\"Heart_Rate_Mean\"] = float(features.get(\"ECG_Rate_Mean\", np.nan))\n"
     ]
    },
    {
     "name": "stdout",
     "output_type": "stream",
     "text": [
      "Saved features for sub09_l2_cleaned_mecg.npy to sub09_l2_cleaned_mecg_features.json\n"
     ]
    },
    {
     "name": "stderr",
     "output_type": "stream",
     "text": [
      "/var/folders/25/rb9t435n4mzgnk1l82dg2c1c0000gn/T/ipykernel_52462/1434419162.py:15: FutureWarning: Calling float on a single element Series is deprecated and will raise a TypeError in the future. Use float(ser.iloc[0]) instead\n",
      "  summary[\"Heart_Rate_Mean\"] = float(features.get(\"ECG_Rate_Mean\", np.nan))\n"
     ]
    },
    {
     "name": "stdout",
     "output_type": "stream",
     "text": [
      "Saved features for sub03_l3_cleaned_mecg.npy to sub03_l3_cleaned_mecg_features.json\n"
     ]
    },
    {
     "name": "stderr",
     "output_type": "stream",
     "text": [
      "/var/folders/25/rb9t435n4mzgnk1l82dg2c1c0000gn/T/ipykernel_52462/1434419162.py:15: FutureWarning: Calling float on a single element Series is deprecated and will raise a TypeError in the future. Use float(ser.iloc[0]) instead\n",
      "  summary[\"Heart_Rate_Mean\"] = float(features.get(\"ECG_Rate_Mean\", np.nan))\n"
     ]
    },
    {
     "name": "stdout",
     "output_type": "stream",
     "text": [
      "Saved features for sub10_l2_cleaned_mecg.npy to sub10_l2_cleaned_mecg_features.json\n"
     ]
    },
    {
     "name": "stderr",
     "output_type": "stream",
     "text": [
      "/var/folders/25/rb9t435n4mzgnk1l82dg2c1c0000gn/T/ipykernel_52462/1434419162.py:15: FutureWarning: Calling float on a single element Series is deprecated and will raise a TypeError in the future. Use float(ser.iloc[0]) instead\n",
      "  summary[\"Heart_Rate_Mean\"] = float(features.get(\"ECG_Rate_Mean\", np.nan))\n"
     ]
    },
    {
     "name": "stdout",
     "output_type": "stream",
     "text": [
      "Saved features for sub02_l3_cleaned_mecg.npy to sub02_l3_cleaned_mecg_features.json\n"
     ]
    },
    {
     "name": "stderr",
     "output_type": "stream",
     "text": [
      "/var/folders/25/rb9t435n4mzgnk1l82dg2c1c0000gn/T/ipykernel_52462/1434419162.py:15: FutureWarning: Calling float on a single element Series is deprecated and will raise a TypeError in the future. Use float(ser.iloc[0]) instead\n",
      "  summary[\"Heart_Rate_Mean\"] = float(features.get(\"ECG_Rate_Mean\", np.nan))\n"
     ]
    },
    {
     "name": "stdout",
     "output_type": "stream",
     "text": [
      "Saved features for sub06_l4_cleaned_fecg.npy to sub06_l4_cleaned_fecg_features.json\n"
     ]
    },
    {
     "name": "stderr",
     "output_type": "stream",
     "text": [
      "/var/folders/25/rb9t435n4mzgnk1l82dg2c1c0000gn/T/ipykernel_52462/1434419162.py:15: FutureWarning: Calling float on a single element Series is deprecated and will raise a TypeError in the future. Use float(ser.iloc[0]) instead\n",
      "  summary[\"Heart_Rate_Mean\"] = float(features.get(\"ECG_Rate_Mean\", np.nan))\n"
     ]
    },
    {
     "name": "stdout",
     "output_type": "stream",
     "text": [
      "Saved features for sub08_l2_cleaned_mecg.npy to sub08_l2_cleaned_mecg_features.json\n"
     ]
    },
    {
     "name": "stderr",
     "output_type": "stream",
     "text": [
      "/var/folders/25/rb9t435n4mzgnk1l82dg2c1c0000gn/T/ipykernel_52462/1434419162.py:15: FutureWarning: Calling float on a single element Series is deprecated and will raise a TypeError in the future. Use float(ser.iloc[0]) instead\n",
      "  summary[\"Heart_Rate_Mean\"] = float(features.get(\"ECG_Rate_Mean\", np.nan))\n"
     ]
    },
    {
     "name": "stdout",
     "output_type": "stream",
     "text": [
      "Saved features for sub10_l1_cleaned_fecg.npy to sub10_l1_cleaned_fecg_features.json\n"
     ]
    },
    {
     "name": "stderr",
     "output_type": "stream",
     "text": [
      "/var/folders/25/rb9t435n4mzgnk1l82dg2c1c0000gn/T/ipykernel_52462/1434419162.py:15: FutureWarning: Calling float on a single element Series is deprecated and will raise a TypeError in the future. Use float(ser.iloc[0]) instead\n",
      "  summary[\"Heart_Rate_Mean\"] = float(features.get(\"ECG_Rate_Mean\", np.nan))\n"
     ]
    },
    {
     "name": "stdout",
     "output_type": "stream",
     "text": [
      "Saved features for sub01_l3_cleaned_mecg.npy to sub01_l3_cleaned_mecg_features.json\n"
     ]
    },
    {
     "name": "stderr",
     "output_type": "stream",
     "text": [
      "/var/folders/25/rb9t435n4mzgnk1l82dg2c1c0000gn/T/ipykernel_52462/1434419162.py:15: FutureWarning: Calling float on a single element Series is deprecated and will raise a TypeError in the future. Use float(ser.iloc[0]) instead\n",
      "  summary[\"Heart_Rate_Mean\"] = float(features.get(\"ECG_Rate_Mean\", np.nan))\n"
     ]
    },
    {
     "name": "stdout",
     "output_type": "stream",
     "text": [
      "Saved features for sub09_l1_cleaned_fecg.npy to sub09_l1_cleaned_fecg_features.json\n"
     ]
    },
    {
     "name": "stderr",
     "output_type": "stream",
     "text": [
      "/var/folders/25/rb9t435n4mzgnk1l82dg2c1c0000gn/T/ipykernel_52462/1434419162.py:15: FutureWarning: Calling float on a single element Series is deprecated and will raise a TypeError in the future. Use float(ser.iloc[0]) instead\n",
      "  summary[\"Heart_Rate_Mean\"] = float(features.get(\"ECG_Rate_Mean\", np.nan))\n"
     ]
    },
    {
     "name": "stdout",
     "output_type": "stream",
     "text": [
      "Saved features for sub05_l4_cleaned_fecg.npy to sub05_l4_cleaned_fecg_features.json\n"
     ]
    },
    {
     "name": "stderr",
     "output_type": "stream",
     "text": [
      "/var/folders/25/rb9t435n4mzgnk1l82dg2c1c0000gn/T/ipykernel_52462/1434419162.py:15: FutureWarning: Calling float on a single element Series is deprecated and will raise a TypeError in the future. Use float(ser.iloc[0]) instead\n",
      "  summary[\"Heart_Rate_Mean\"] = float(features.get(\"ECG_Rate_Mean\", np.nan))\n"
     ]
    },
    {
     "name": "stdout",
     "output_type": "stream",
     "text": [
      "Saved features for sub04_l4_cleaned_fecg.npy to sub04_l4_cleaned_fecg_features.json\n"
     ]
    },
    {
     "name": "stderr",
     "output_type": "stream",
     "text": [
      "/var/folders/25/rb9t435n4mzgnk1l82dg2c1c0000gn/T/ipykernel_52462/1434419162.py:15: FutureWarning: Calling float on a single element Series is deprecated and will raise a TypeError in the future. Use float(ser.iloc[0]) instead\n",
      "  summary[\"Heart_Rate_Mean\"] = float(features.get(\"ECG_Rate_Mean\", np.nan))\n"
     ]
    },
    {
     "name": "stdout",
     "output_type": "stream",
     "text": [
      "Saved features for sub08_l1_cleaned_fecg.npy to sub08_l1_cleaned_fecg_features.json\n"
     ]
    },
    {
     "name": "stderr",
     "output_type": "stream",
     "text": [
      "/var/folders/25/rb9t435n4mzgnk1l82dg2c1c0000gn/T/ipykernel_52462/1434419162.py:15: FutureWarning: Calling float on a single element Series is deprecated and will raise a TypeError in the future. Use float(ser.iloc[0]) instead\n",
      "  summary[\"Heart_Rate_Mean\"] = float(features.get(\"ECG_Rate_Mean\", np.nan))\n"
     ]
    },
    {
     "name": "stdout",
     "output_type": "stream",
     "text": [
      "Saved features for sub06_l3_cleaned_mecg.npy to sub06_l3_cleaned_mecg_features.json\n"
     ]
    },
    {
     "name": "stderr",
     "output_type": "stream",
     "text": [
      "/var/folders/25/rb9t435n4mzgnk1l82dg2c1c0000gn/T/ipykernel_52462/1434419162.py:15: FutureWarning: Calling float on a single element Series is deprecated and will raise a TypeError in the future. Use float(ser.iloc[0]) instead\n",
      "  summary[\"Heart_Rate_Mean\"] = float(features.get(\"ECG_Rate_Mean\", np.nan))\n"
     ]
    },
    {
     "name": "stdout",
     "output_type": "stream",
     "text": [
      "Saved features for sub08_l5_cleaned_fecg.npy to sub08_l5_cleaned_fecg_features.json\n"
     ]
    },
    {
     "name": "stderr",
     "output_type": "stream",
     "text": [
      "/var/folders/25/rb9t435n4mzgnk1l82dg2c1c0000gn/T/ipykernel_52462/1434419162.py:15: FutureWarning: Calling float on a single element Series is deprecated and will raise a TypeError in the future. Use float(ser.iloc[0]) instead\n",
      "  summary[\"Heart_Rate_Mean\"] = float(features.get(\"ECG_Rate_Mean\", np.nan))\n"
     ]
    },
    {
     "name": "stdout",
     "output_type": "stream",
     "text": [
      "Saved features for sub02_l4_cleaned_fecg.npy to sub02_l4_cleaned_fecg_features.json\n"
     ]
    },
    {
     "name": "stderr",
     "output_type": "stream",
     "text": [
      "/var/folders/25/rb9t435n4mzgnk1l82dg2c1c0000gn/T/ipykernel_52462/1434419162.py:15: FutureWarning: Calling float on a single element Series is deprecated and will raise a TypeError in the future. Use float(ser.iloc[0]) instead\n",
      "  summary[\"Heart_Rate_Mean\"] = float(features.get(\"ECG_Rate_Mean\", np.nan))\n"
     ]
    },
    {
     "name": "stdout",
     "output_type": "stream",
     "text": [
      "Saved features for sub10_l5_cleaned_fecg.npy to sub10_l5_cleaned_fecg_features.json\n"
     ]
    },
    {
     "name": "stderr",
     "output_type": "stream",
     "text": [
      "/var/folders/25/rb9t435n4mzgnk1l82dg2c1c0000gn/T/ipykernel_52462/1434419162.py:15: FutureWarning: Calling float on a single element Series is deprecated and will raise a TypeError in the future. Use float(ser.iloc[0]) instead\n",
      "  summary[\"Heart_Rate_Mean\"] = float(features.get(\"ECG_Rate_Mean\", np.nan))\n"
     ]
    },
    {
     "name": "stdout",
     "output_type": "stream",
     "text": [
      "Saved features for sub03_l4_cleaned_fecg.npy to sub03_l4_cleaned_fecg_features.json\n"
     ]
    },
    {
     "name": "stderr",
     "output_type": "stream",
     "text": [
      "/var/folders/25/rb9t435n4mzgnk1l82dg2c1c0000gn/T/ipykernel_52462/1434419162.py:15: FutureWarning: Calling float on a single element Series is deprecated and will raise a TypeError in the future. Use float(ser.iloc[0]) instead\n",
      "  summary[\"Heart_Rate_Mean\"] = float(features.get(\"ECG_Rate_Mean\", np.nan))\n"
     ]
    },
    {
     "name": "stdout",
     "output_type": "stream",
     "text": [
      "Saved features for sub07_l3_cleaned_mecg.npy to sub07_l3_cleaned_mecg_features.json\n"
     ]
    },
    {
     "name": "stderr",
     "output_type": "stream",
     "text": [
      "/var/folders/25/rb9t435n4mzgnk1l82dg2c1c0000gn/T/ipykernel_52462/1434419162.py:15: FutureWarning: Calling float on a single element Series is deprecated and will raise a TypeError in the future. Use float(ser.iloc[0]) instead\n",
      "  summary[\"Heart_Rate_Mean\"] = float(features.get(\"ECG_Rate_Mean\", np.nan))\n"
     ]
    },
    {
     "name": "stdout",
     "output_type": "stream",
     "text": [
      "Saved features for sub09_l5_cleaned_fecg.npy to sub09_l5_cleaned_fecg_features.json\n"
     ]
    },
    {
     "name": "stderr",
     "output_type": "stream",
     "text": [
      "/var/folders/25/rb9t435n4mzgnk1l82dg2c1c0000gn/T/ipykernel_52462/1434419162.py:15: FutureWarning: Calling float on a single element Series is deprecated and will raise a TypeError in the future. Use float(ser.iloc[0]) instead\n",
      "  summary[\"Heart_Rate_Mean\"] = float(features.get(\"ECG_Rate_Mean\", np.nan))\n"
     ]
    },
    {
     "name": "stdout",
     "output_type": "stream",
     "text": [
      "Saved features for sub04_l3_cleaned_mecg.npy to sub04_l3_cleaned_mecg_features.json\n"
     ]
    },
    {
     "name": "stderr",
     "output_type": "stream",
     "text": [
      "/var/folders/25/rb9t435n4mzgnk1l82dg2c1c0000gn/T/ipykernel_52462/1434419162.py:15: FutureWarning: Calling float on a single element Series is deprecated and will raise a TypeError in the future. Use float(ser.iloc[0]) instead\n",
      "  summary[\"Heart_Rate_Mean\"] = float(features.get(\"ECG_Rate_Mean\", np.nan))\n"
     ]
    },
    {
     "name": "stdout",
     "output_type": "stream",
     "text": [
      "Saved features for sub05_l3_cleaned_mecg.npy to sub05_l3_cleaned_mecg_features.json\n"
     ]
    },
    {
     "name": "stderr",
     "output_type": "stream",
     "text": [
      "/var/folders/25/rb9t435n4mzgnk1l82dg2c1c0000gn/T/ipykernel_52462/1434419162.py:15: FutureWarning: Calling float on a single element Series is deprecated and will raise a TypeError in the future. Use float(ser.iloc[0]) instead\n",
      "  summary[\"Heart_Rate_Mean\"] = float(features.get(\"ECG_Rate_Mean\", np.nan))\n"
     ]
    },
    {
     "name": "stdout",
     "output_type": "stream",
     "text": [
      "Saved features for sub01_l4_cleaned_fecg.npy to sub01_l4_cleaned_fecg_features.json\n"
     ]
    },
    {
     "name": "stderr",
     "output_type": "stream",
     "text": [
      "/var/folders/25/rb9t435n4mzgnk1l82dg2c1c0000gn/T/ipykernel_52462/1434419162.py:15: FutureWarning: Calling float on a single element Series is deprecated and will raise a TypeError in the future. Use float(ser.iloc[0]) instead\n",
      "  summary[\"Heart_Rate_Mean\"] = float(features.get(\"ECG_Rate_Mean\", np.nan))\n"
     ]
    },
    {
     "name": "stdout",
     "output_type": "stream",
     "text": [
      "Saved features for sub10_l2_cleaned_fecg.npy to sub10_l2_cleaned_fecg_features.json\n"
     ]
    },
    {
     "name": "stderr",
     "output_type": "stream",
     "text": [
      "/var/folders/25/rb9t435n4mzgnk1l82dg2c1c0000gn/T/ipykernel_52462/1434419162.py:15: FutureWarning: Calling float on a single element Series is deprecated and will raise a TypeError in the future. Use float(ser.iloc[0]) instead\n",
      "  summary[\"Heart_Rate_Mean\"] = float(features.get(\"ECG_Rate_Mean\", np.nan))\n"
     ]
    },
    {
     "name": "stdout",
     "output_type": "stream",
     "text": [
      "Saved features for sub03_l3_cleaned_fecg.npy to sub03_l3_cleaned_fecg_features.json\n"
     ]
    },
    {
     "name": "stderr",
     "output_type": "stream",
     "text": [
      "/var/folders/25/rb9t435n4mzgnk1l82dg2c1c0000gn/T/ipykernel_52462/1434419162.py:15: FutureWarning: Calling float on a single element Series is deprecated and will raise a TypeError in the future. Use float(ser.iloc[0]) instead\n",
      "  summary[\"Heart_Rate_Mean\"] = float(features.get(\"ECG_Rate_Mean\", np.nan))\n"
     ]
    },
    {
     "name": "stdout",
     "output_type": "stream",
     "text": [
      "Saved features for sub07_l4_cleaned_mecg.npy to sub07_l4_cleaned_mecg_features.json\n"
     ]
    },
    {
     "name": "stderr",
     "output_type": "stream",
     "text": [
      "/var/folders/25/rb9t435n4mzgnk1l82dg2c1c0000gn/T/ipykernel_52462/1434419162.py:15: FutureWarning: Calling float on a single element Series is deprecated and will raise a TypeError in the future. Use float(ser.iloc[0]) instead\n",
      "  summary[\"Heart_Rate_Mean\"] = float(features.get(\"ECG_Rate_Mean\", np.nan))\n"
     ]
    },
    {
     "name": "stdout",
     "output_type": "stream",
     "text": [
      "Saved features for sub09_l2_cleaned_fecg.npy to sub09_l2_cleaned_fecg_features.json\n"
     ]
    },
    {
     "name": "stderr",
     "output_type": "stream",
     "text": [
      "/var/folders/25/rb9t435n4mzgnk1l82dg2c1c0000gn/T/ipykernel_52462/1434419162.py:15: FutureWarning: Calling float on a single element Series is deprecated and will raise a TypeError in the future. Use float(ser.iloc[0]) instead\n",
      "  summary[\"Heart_Rate_Mean\"] = float(features.get(\"ECG_Rate_Mean\", np.nan))\n"
     ]
    },
    {
     "name": "stdout",
     "output_type": "stream",
     "text": [
      "Saved features for sub06_l4_cleaned_mecg.npy to sub06_l4_cleaned_mecg_features.json\n"
     ]
    },
    {
     "name": "stderr",
     "output_type": "stream",
     "text": [
      "/var/folders/25/rb9t435n4mzgnk1l82dg2c1c0000gn/T/ipykernel_52462/1434419162.py:15: FutureWarning: Calling float on a single element Series is deprecated and will raise a TypeError in the future. Use float(ser.iloc[0]) instead\n",
      "  summary[\"Heart_Rate_Mean\"] = float(features.get(\"ECG_Rate_Mean\", np.nan))\n"
     ]
    },
    {
     "name": "stdout",
     "output_type": "stream",
     "text": [
      "Saved features for sub08_l2_cleaned_fecg.npy to sub08_l2_cleaned_fecg_features.json\n"
     ]
    },
    {
     "name": "stderr",
     "output_type": "stream",
     "text": [
      "/var/folders/25/rb9t435n4mzgnk1l82dg2c1c0000gn/T/ipykernel_52462/1434419162.py:15: FutureWarning: Calling float on a single element Series is deprecated and will raise a TypeError in the future. Use float(ser.iloc[0]) instead\n",
      "  summary[\"Heart_Rate_Mean\"] = float(features.get(\"ECG_Rate_Mean\", np.nan))\n"
     ]
    },
    {
     "name": "stdout",
     "output_type": "stream",
     "text": [
      "Saved features for sub02_l3_cleaned_fecg.npy to sub02_l3_cleaned_fecg_features.json\n"
     ]
    },
    {
     "name": "stderr",
     "output_type": "stream",
     "text": [
      "/var/folders/25/rb9t435n4mzgnk1l82dg2c1c0000gn/T/ipykernel_52462/1434419162.py:15: FutureWarning: Calling float on a single element Series is deprecated and will raise a TypeError in the future. Use float(ser.iloc[0]) instead\n",
      "  summary[\"Heart_Rate_Mean\"] = float(features.get(\"ECG_Rate_Mean\", np.nan))\n"
     ]
    },
    {
     "name": "stdout",
     "output_type": "stream",
     "text": [
      "Saved features for sub05_l4_cleaned_mecg.npy to sub05_l4_cleaned_mecg_features.json\n"
     ]
    },
    {
     "name": "stderr",
     "output_type": "stream",
     "text": [
      "/var/folders/25/rb9t435n4mzgnk1l82dg2c1c0000gn/T/ipykernel_52462/1434419162.py:15: FutureWarning: Calling float on a single element Series is deprecated and will raise a TypeError in the future. Use float(ser.iloc[0]) instead\n",
      "  summary[\"Heart_Rate_Mean\"] = float(features.get(\"ECG_Rate_Mean\", np.nan))\n"
     ]
    },
    {
     "name": "stdout",
     "output_type": "stream",
     "text": [
      "Saved features for sub01_l3_cleaned_fecg.npy to sub01_l3_cleaned_fecg_features.json\n"
     ]
    },
    {
     "name": "stderr",
     "output_type": "stream",
     "text": [
      "/var/folders/25/rb9t435n4mzgnk1l82dg2c1c0000gn/T/ipykernel_52462/1434419162.py:15: FutureWarning: Calling float on a single element Series is deprecated and will raise a TypeError in the future. Use float(ser.iloc[0]) instead\n",
      "  summary[\"Heart_Rate_Mean\"] = float(features.get(\"ECG_Rate_Mean\", np.nan))\n"
     ]
    },
    {
     "name": "stdout",
     "output_type": "stream",
     "text": [
      "Saved features for sub09_l1_cleaned_mecg.npy to sub09_l1_cleaned_mecg_features.json\n"
     ]
    },
    {
     "name": "stderr",
     "output_type": "stream",
     "text": [
      "/var/folders/25/rb9t435n4mzgnk1l82dg2c1c0000gn/T/ipykernel_52462/1434419162.py:15: FutureWarning: Calling float on a single element Series is deprecated and will raise a TypeError in the future. Use float(ser.iloc[0]) instead\n",
      "  summary[\"Heart_Rate_Mean\"] = float(features.get(\"ECG_Rate_Mean\", np.nan))\n"
     ]
    },
    {
     "name": "stdout",
     "output_type": "stream",
     "text": [
      "Saved features for sub10_l1_cleaned_mecg.npy to sub10_l1_cleaned_mecg_features.json\n"
     ]
    },
    {
     "name": "stderr",
     "output_type": "stream",
     "text": [
      "/var/folders/25/rb9t435n4mzgnk1l82dg2c1c0000gn/T/ipykernel_52462/1434419162.py:15: FutureWarning: Calling float on a single element Series is deprecated and will raise a TypeError in the future. Use float(ser.iloc[0]) instead\n",
      "  summary[\"Heart_Rate_Mean\"] = float(features.get(\"ECG_Rate_Mean\", np.nan))\n"
     ]
    },
    {
     "name": "stdout",
     "output_type": "stream",
     "text": [
      "Saved features for sub08_l1_cleaned_mecg.npy to sub08_l1_cleaned_mecg_features.json\n"
     ]
    },
    {
     "name": "stderr",
     "output_type": "stream",
     "text": [
      "/var/folders/25/rb9t435n4mzgnk1l82dg2c1c0000gn/T/ipykernel_52462/1434419162.py:15: FutureWarning: Calling float on a single element Series is deprecated and will raise a TypeError in the future. Use float(ser.iloc[0]) instead\n",
      "  summary[\"Heart_Rate_Mean\"] = float(features.get(\"ECG_Rate_Mean\", np.nan))\n"
     ]
    },
    {
     "name": "stdout",
     "output_type": "stream",
     "text": [
      "Saved features for sub04_l4_cleaned_mecg.npy to sub04_l4_cleaned_mecg_features.json\n"
     ]
    },
    {
     "name": "stderr",
     "output_type": "stream",
     "text": [
      "/var/folders/25/rb9t435n4mzgnk1l82dg2c1c0000gn/T/ipykernel_52462/1434419162.py:15: FutureWarning: Calling float on a single element Series is deprecated and will raise a TypeError in the future. Use float(ser.iloc[0]) instead\n",
      "  summary[\"Heart_Rate_Mean\"] = float(features.get(\"ECG_Rate_Mean\", np.nan))\n"
     ]
    },
    {
     "name": "stdout",
     "output_type": "stream",
     "text": [
      "Saved features for sub02_l4_cleaned_mecg.npy to sub02_l4_cleaned_mecg_features.json\n"
     ]
    },
    {
     "name": "stderr",
     "output_type": "stream",
     "text": [
      "/var/folders/25/rb9t435n4mzgnk1l82dg2c1c0000gn/T/ipykernel_52462/1434419162.py:15: FutureWarning: Calling float on a single element Series is deprecated and will raise a TypeError in the future. Use float(ser.iloc[0]) instead\n",
      "  summary[\"Heart_Rate_Mean\"] = float(features.get(\"ECG_Rate_Mean\", np.nan))\n"
     ]
    },
    {
     "name": "stdout",
     "output_type": "stream",
     "text": [
      "Saved features for sub06_l3_cleaned_fecg.npy to sub06_l3_cleaned_fecg_features.json\n"
     ]
    },
    {
     "name": "stderr",
     "output_type": "stream",
     "text": [
      "/var/folders/25/rb9t435n4mzgnk1l82dg2c1c0000gn/T/ipykernel_52462/1434419162.py:15: FutureWarning: Calling float on a single element Series is deprecated and will raise a TypeError in the future. Use float(ser.iloc[0]) instead\n",
      "  summary[\"Heart_Rate_Mean\"] = float(features.get(\"ECG_Rate_Mean\", np.nan))\n"
     ]
    },
    {
     "name": "stdout",
     "output_type": "stream",
     "text": [
      "Saved features for sub08_l5_cleaned_mecg.npy to sub08_l5_cleaned_mecg_features.json\n"
     ]
    },
    {
     "name": "stderr",
     "output_type": "stream",
     "text": [
      "/var/folders/25/rb9t435n4mzgnk1l82dg2c1c0000gn/T/ipykernel_52462/1434419162.py:15: FutureWarning: Calling float on a single element Series is deprecated and will raise a TypeError in the future. Use float(ser.iloc[0]) instead\n",
      "  summary[\"Heart_Rate_Mean\"] = float(features.get(\"ECG_Rate_Mean\", np.nan))\n"
     ]
    },
    {
     "name": "stdout",
     "output_type": "stream",
     "text": [
      "Saved features for sub07_l3_cleaned_fecg.npy to sub07_l3_cleaned_fecg_features.json\n"
     ]
    },
    {
     "name": "stderr",
     "output_type": "stream",
     "text": [
      "/var/folders/25/rb9t435n4mzgnk1l82dg2c1c0000gn/T/ipykernel_52462/1434419162.py:15: FutureWarning: Calling float on a single element Series is deprecated and will raise a TypeError in the future. Use float(ser.iloc[0]) instead\n",
      "  summary[\"Heart_Rate_Mean\"] = float(features.get(\"ECG_Rate_Mean\", np.nan))\n"
     ]
    },
    {
     "name": "stdout",
     "output_type": "stream",
     "text": [
      "Saved features for sub09_l5_cleaned_mecg.npy to sub09_l5_cleaned_mecg_features.json\n"
     ]
    },
    {
     "name": "stderr",
     "output_type": "stream",
     "text": [
      "/var/folders/25/rb9t435n4mzgnk1l82dg2c1c0000gn/T/ipykernel_52462/1434419162.py:15: FutureWarning: Calling float on a single element Series is deprecated and will raise a TypeError in the future. Use float(ser.iloc[0]) instead\n",
      "  summary[\"Heart_Rate_Mean\"] = float(features.get(\"ECG_Rate_Mean\", np.nan))\n"
     ]
    },
    {
     "name": "stdout",
     "output_type": "stream",
     "text": [
      "Saved features for sub03_l4_cleaned_mecg.npy to sub03_l4_cleaned_mecg_features.json\n"
     ]
    },
    {
     "name": "stderr",
     "output_type": "stream",
     "text": [
      "/var/folders/25/rb9t435n4mzgnk1l82dg2c1c0000gn/T/ipykernel_52462/1434419162.py:15: FutureWarning: Calling float on a single element Series is deprecated and will raise a TypeError in the future. Use float(ser.iloc[0]) instead\n",
      "  summary[\"Heart_Rate_Mean\"] = float(features.get(\"ECG_Rate_Mean\", np.nan))\n"
     ]
    },
    {
     "name": "stdout",
     "output_type": "stream",
     "text": [
      "Saved features for sub10_l5_cleaned_mecg.npy to sub10_l5_cleaned_mecg_features.json\n"
     ]
    },
    {
     "name": "stderr",
     "output_type": "stream",
     "text": [
      "/var/folders/25/rb9t435n4mzgnk1l82dg2c1c0000gn/T/ipykernel_52462/1434419162.py:15: FutureWarning: Calling float on a single element Series is deprecated and will raise a TypeError in the future. Use float(ser.iloc[0]) instead\n",
      "  summary[\"Heart_Rate_Mean\"] = float(features.get(\"ECG_Rate_Mean\", np.nan))\n"
     ]
    },
    {
     "name": "stdout",
     "output_type": "stream",
     "text": [
      "Saved features for sub04_l3_cleaned_fecg.npy to sub04_l3_cleaned_fecg_features.json\n"
     ]
    },
    {
     "name": "stderr",
     "output_type": "stream",
     "text": [
      "/var/folders/25/rb9t435n4mzgnk1l82dg2c1c0000gn/T/ipykernel_52462/1434419162.py:15: FutureWarning: Calling float on a single element Series is deprecated and will raise a TypeError in the future. Use float(ser.iloc[0]) instead\n",
      "  summary[\"Heart_Rate_Mean\"] = float(features.get(\"ECG_Rate_Mean\", np.nan))\n"
     ]
    },
    {
     "name": "stdout",
     "output_type": "stream",
     "text": [
      "Saved features for sub01_l4_cleaned_mecg.npy to sub01_l4_cleaned_mecg_features.json\n"
     ]
    },
    {
     "name": "stderr",
     "output_type": "stream",
     "text": [
      "/var/folders/25/rb9t435n4mzgnk1l82dg2c1c0000gn/T/ipykernel_52462/1434419162.py:15: FutureWarning: Calling float on a single element Series is deprecated and will raise a TypeError in the future. Use float(ser.iloc[0]) instead\n",
      "  summary[\"Heart_Rate_Mean\"] = float(features.get(\"ECG_Rate_Mean\", np.nan))\n"
     ]
    },
    {
     "name": "stdout",
     "output_type": "stream",
     "text": [
      "Saved features for sub05_l3_cleaned_fecg.npy to sub05_l3_cleaned_fecg_features.json\n"
     ]
    },
    {
     "name": "stderr",
     "output_type": "stream",
     "text": [
      "/var/folders/25/rb9t435n4mzgnk1l82dg2c1c0000gn/T/ipykernel_52462/1434419162.py:15: FutureWarning: Calling float on a single element Series is deprecated and will raise a TypeError in the future. Use float(ser.iloc[0]) instead\n",
      "  summary[\"Heart_Rate_Mean\"] = float(features.get(\"ECG_Rate_Mean\", np.nan))\n"
     ]
    },
    {
     "name": "stdout",
     "output_type": "stream",
     "text": [
      "Saved features for sub02_l2_cleaned_fecg.npy to sub02_l2_cleaned_fecg_features.json\n"
     ]
    },
    {
     "name": "stderr",
     "output_type": "stream",
     "text": [
      "/var/folders/25/rb9t435n4mzgnk1l82dg2c1c0000gn/T/ipykernel_52462/1434419162.py:15: FutureWarning: Calling float on a single element Series is deprecated and will raise a TypeError in the future. Use float(ser.iloc[0]) instead\n",
      "  summary[\"Heart_Rate_Mean\"] = float(features.get(\"ECG_Rate_Mean\", np.nan))\n"
     ]
    },
    {
     "name": "stdout",
     "output_type": "stream",
     "text": [
      "Saved features for sub08_l3_cleaned_fecg.npy to sub08_l3_cleaned_fecg_features.json\n"
     ]
    },
    {
     "name": "stderr",
     "output_type": "stream",
     "text": [
      "/var/folders/25/rb9t435n4mzgnk1l82dg2c1c0000gn/T/ipykernel_52462/1434419162.py:15: FutureWarning: Calling float on a single element Series is deprecated and will raise a TypeError in the future. Use float(ser.iloc[0]) instead\n",
      "  summary[\"Heart_Rate_Mean\"] = float(features.get(\"ECG_Rate_Mean\", np.nan))\n"
     ]
    },
    {
     "name": "stdout",
     "output_type": "stream",
     "text": [
      "Saved features for sub06_l5_cleaned_mecg.npy to sub06_l5_cleaned_mecg_features.json\n"
     ]
    },
    {
     "name": "stderr",
     "output_type": "stream",
     "text": [
      "/var/folders/25/rb9t435n4mzgnk1l82dg2c1c0000gn/T/ipykernel_52462/1434419162.py:15: FutureWarning: Calling float on a single element Series is deprecated and will raise a TypeError in the future. Use float(ser.iloc[0]) instead\n",
      "  summary[\"Heart_Rate_Mean\"] = float(features.get(\"ECG_Rate_Mean\", np.nan))\n"
     ]
    },
    {
     "name": "stdout",
     "output_type": "stream",
     "text": [
      "Saved features for sub09_l3_cleaned_fecg.npy to sub09_l3_cleaned_fecg_features.json\n"
     ]
    },
    {
     "name": "stderr",
     "output_type": "stream",
     "text": [
      "/var/folders/25/rb9t435n4mzgnk1l82dg2c1c0000gn/T/ipykernel_52462/1434419162.py:15: FutureWarning: Calling float on a single element Series is deprecated and will raise a TypeError in the future. Use float(ser.iloc[0]) instead\n",
      "  summary[\"Heart_Rate_Mean\"] = float(features.get(\"ECG_Rate_Mean\", np.nan))\n"
     ]
    },
    {
     "name": "stdout",
     "output_type": "stream",
     "text": [
      "Saved features for sub07_l5_cleaned_mecg.npy to sub07_l5_cleaned_mecg_features.json\n"
     ]
    },
    {
     "name": "stderr",
     "output_type": "stream",
     "text": [
      "/var/folders/25/rb9t435n4mzgnk1l82dg2c1c0000gn/T/ipykernel_52462/1434419162.py:15: FutureWarning: Calling float on a single element Series is deprecated and will raise a TypeError in the future. Use float(ser.iloc[0]) instead\n",
      "  summary[\"Heart_Rate_Mean\"] = float(features.get(\"ECG_Rate_Mean\", np.nan))\n"
     ]
    },
    {
     "name": "stdout",
     "output_type": "stream",
     "text": [
      "Saved features for sub01_l1_cleaned_mecg.npy to sub01_l1_cleaned_mecg_features.json\n"
     ]
    },
    {
     "name": "stderr",
     "output_type": "stream",
     "text": [
      "/var/folders/25/rb9t435n4mzgnk1l82dg2c1c0000gn/T/ipykernel_52462/1434419162.py:15: FutureWarning: Calling float on a single element Series is deprecated and will raise a TypeError in the future. Use float(ser.iloc[0]) instead\n",
      "  summary[\"Heart_Rate_Mean\"] = float(features.get(\"ECG_Rate_Mean\", np.nan))\n"
     ]
    },
    {
     "name": "stdout",
     "output_type": "stream",
     "text": [
      "Saved features for sub03_l2_cleaned_fecg.npy to sub03_l2_cleaned_fecg_features.json\n"
     ]
    },
    {
     "name": "stderr",
     "output_type": "stream",
     "text": [
      "/var/folders/25/rb9t435n4mzgnk1l82dg2c1c0000gn/T/ipykernel_52462/1434419162.py:15: FutureWarning: Calling float on a single element Series is deprecated and will raise a TypeError in the future. Use float(ser.iloc[0]) instead\n",
      "  summary[\"Heart_Rate_Mean\"] = float(features.get(\"ECG_Rate_Mean\", np.nan))\n"
     ]
    },
    {
     "name": "stdout",
     "output_type": "stream",
     "text": [
      "Saved features for sub10_l3_cleaned_fecg.npy to sub10_l3_cleaned_fecg_features.json\n"
     ]
    },
    {
     "name": "stderr",
     "output_type": "stream",
     "text": [
      "/var/folders/25/rb9t435n4mzgnk1l82dg2c1c0000gn/T/ipykernel_52462/1434419162.py:15: FutureWarning: Calling float on a single element Series is deprecated and will raise a TypeError in the future. Use float(ser.iloc[0]) instead\n",
      "  summary[\"Heart_Rate_Mean\"] = float(features.get(\"ECG_Rate_Mean\", np.nan))\n"
     ]
    },
    {
     "name": "stdout",
     "output_type": "stream",
     "text": [
      "Saved features for sub04_l5_cleaned_mecg.npy to sub04_l5_cleaned_mecg_features.json\n"
     ]
    },
    {
     "name": "stderr",
     "output_type": "stream",
     "text": [
      "/var/folders/25/rb9t435n4mzgnk1l82dg2c1c0000gn/T/ipykernel_52462/1434419162.py:15: FutureWarning: Calling float on a single element Series is deprecated and will raise a TypeError in the future. Use float(ser.iloc[0]) instead\n",
      "  summary[\"Heart_Rate_Mean\"] = float(features.get(\"ECG_Rate_Mean\", np.nan))\n"
     ]
    },
    {
     "name": "stdout",
     "output_type": "stream",
     "text": [
      "Saved features for sub02_l1_cleaned_mecg.npy to sub02_l1_cleaned_mecg_features.json\n"
     ]
    },
    {
     "name": "stderr",
     "output_type": "stream",
     "text": [
      "/var/folders/25/rb9t435n4mzgnk1l82dg2c1c0000gn/T/ipykernel_52462/1434419162.py:15: FutureWarning: Calling float on a single element Series is deprecated and will raise a TypeError in the future. Use float(ser.iloc[0]) instead\n",
      "  summary[\"Heart_Rate_Mean\"] = float(features.get(\"ECG_Rate_Mean\", np.nan))\n"
     ]
    },
    {
     "name": "stdout",
     "output_type": "stream",
     "text": [
      "Saved features for sub01_l2_cleaned_fecg.npy to sub01_l2_cleaned_fecg_features.json\n"
     ]
    },
    {
     "name": "stderr",
     "output_type": "stream",
     "text": [
      "/var/folders/25/rb9t435n4mzgnk1l82dg2c1c0000gn/T/ipykernel_52462/1434419162.py:15: FutureWarning: Calling float on a single element Series is deprecated and will raise a TypeError in the future. Use float(ser.iloc[0]) instead\n",
      "  summary[\"Heart_Rate_Mean\"] = float(features.get(\"ECG_Rate_Mean\", np.nan))\n"
     ]
    },
    {
     "name": "stdout",
     "output_type": "stream",
     "text": [
      "Saved features for sub03_l1_cleaned_mecg.npy to sub03_l1_cleaned_mecg_features.json\n"
     ]
    },
    {
     "name": "stderr",
     "output_type": "stream",
     "text": [
      "/var/folders/25/rb9t435n4mzgnk1l82dg2c1c0000gn/T/ipykernel_52462/1434419162.py:15: FutureWarning: Calling float on a single element Series is deprecated and will raise a TypeError in the future. Use float(ser.iloc[0]) instead\n",
      "  summary[\"Heart_Rate_Mean\"] = float(features.get(\"ECG_Rate_Mean\", np.nan))\n"
     ]
    },
    {
     "name": "stdout",
     "output_type": "stream",
     "text": [
      "Saved features for sub05_l5_cleaned_mecg.npy to sub05_l5_cleaned_mecg_features.json\n"
     ]
    },
    {
     "name": "stderr",
     "output_type": "stream",
     "text": [
      "/var/folders/25/rb9t435n4mzgnk1l82dg2c1c0000gn/T/ipykernel_52462/1434419162.py:15: FutureWarning: Calling float on a single element Series is deprecated and will raise a TypeError in the future. Use float(ser.iloc[0]) instead\n",
      "  summary[\"Heart_Rate_Mean\"] = float(features.get(\"ECG_Rate_Mean\", np.nan))\n"
     ]
    },
    {
     "name": "stdout",
     "output_type": "stream",
     "text": [
      "Saved features for sub10_l4_cleaned_mecg.npy to sub10_l4_cleaned_mecg_features.json\n"
     ]
    },
    {
     "name": "stderr",
     "output_type": "stream",
     "text": [
      "/var/folders/25/rb9t435n4mzgnk1l82dg2c1c0000gn/T/ipykernel_52462/1434419162.py:15: FutureWarning: Calling float on a single element Series is deprecated and will raise a TypeError in the future. Use float(ser.iloc[0]) instead\n",
      "  summary[\"Heart_Rate_Mean\"] = float(features.get(\"ECG_Rate_Mean\", np.nan))\n"
     ]
    },
    {
     "name": "stdout",
     "output_type": "stream",
     "text": [
      "Saved features for sub03_l5_cleaned_mecg.npy to sub03_l5_cleaned_mecg_features.json\n"
     ]
    },
    {
     "name": "stderr",
     "output_type": "stream",
     "text": [
      "/var/folders/25/rb9t435n4mzgnk1l82dg2c1c0000gn/T/ipykernel_52462/1434419162.py:15: FutureWarning: Calling float on a single element Series is deprecated and will raise a TypeError in the future. Use float(ser.iloc[0]) instead\n",
      "  summary[\"Heart_Rate_Mean\"] = float(features.get(\"ECG_Rate_Mean\", np.nan))\n"
     ]
    },
    {
     "name": "stdout",
     "output_type": "stream",
     "text": [
      "Saved features for sub05_l1_cleaned_mecg.npy to sub05_l1_cleaned_mecg_features.json\n"
     ]
    },
    {
     "name": "stderr",
     "output_type": "stream",
     "text": [
      "/var/folders/25/rb9t435n4mzgnk1l82dg2c1c0000gn/T/ipykernel_52462/1434419162.py:15: FutureWarning: Calling float on a single element Series is deprecated and will raise a TypeError in the future. Use float(ser.iloc[0]) instead\n",
      "  summary[\"Heart_Rate_Mean\"] = float(features.get(\"ECG_Rate_Mean\", np.nan))\n"
     ]
    },
    {
     "name": "stdout",
     "output_type": "stream",
     "text": [
      "Saved features for sub09_l4_cleaned_mecg.npy to sub09_l4_cleaned_mecg_features.json\n"
     ]
    },
    {
     "name": "stderr",
     "output_type": "stream",
     "text": [
      "/var/folders/25/rb9t435n4mzgnk1l82dg2c1c0000gn/T/ipykernel_52462/1434419162.py:15: FutureWarning: Calling float on a single element Series is deprecated and will raise a TypeError in the future. Use float(ser.iloc[0]) instead\n",
      "  summary[\"Heart_Rate_Mean\"] = float(features.get(\"ECG_Rate_Mean\", np.nan))\n"
     ]
    },
    {
     "name": "stdout",
     "output_type": "stream",
     "text": [
      "Saved features for sub07_l2_cleaned_fecg.npy to sub07_l2_cleaned_fecg_features.json\n"
     ]
    },
    {
     "name": "stderr",
     "output_type": "stream",
     "text": [
      "/var/folders/25/rb9t435n4mzgnk1l82dg2c1c0000gn/T/ipykernel_52462/1434419162.py:15: FutureWarning: Calling float on a single element Series is deprecated and will raise a TypeError in the future. Use float(ser.iloc[0]) instead\n",
      "  summary[\"Heart_Rate_Mean\"] = float(features.get(\"ECG_Rate_Mean\", np.nan))\n"
     ]
    },
    {
     "name": "stdout",
     "output_type": "stream",
     "text": [
      "Saved features for sub08_l4_cleaned_mecg.npy to sub08_l4_cleaned_mecg_features.json\n"
     ]
    },
    {
     "name": "stderr",
     "output_type": "stream",
     "text": [
      "/var/folders/25/rb9t435n4mzgnk1l82dg2c1c0000gn/T/ipykernel_52462/1434419162.py:15: FutureWarning: Calling float on a single element Series is deprecated and will raise a TypeError in the future. Use float(ser.iloc[0]) instead\n",
      "  summary[\"Heart_Rate_Mean\"] = float(features.get(\"ECG_Rate_Mean\", np.nan))\n"
     ]
    },
    {
     "name": "stdout",
     "output_type": "stream",
     "text": [
      "Saved features for sub06_l2_cleaned_fecg.npy to sub06_l2_cleaned_fecg_features.json\n"
     ]
    },
    {
     "name": "stderr",
     "output_type": "stream",
     "text": [
      "/var/folders/25/rb9t435n4mzgnk1l82dg2c1c0000gn/T/ipykernel_52462/1434419162.py:15: FutureWarning: Calling float on a single element Series is deprecated and will raise a TypeError in the future. Use float(ser.iloc[0]) instead\n",
      "  summary[\"Heart_Rate_Mean\"] = float(features.get(\"ECG_Rate_Mean\", np.nan))\n"
     ]
    },
    {
     "name": "stdout",
     "output_type": "stream",
     "text": [
      "Saved features for sub04_l1_cleaned_mecg.npy to sub04_l1_cleaned_mecg_features.json\n"
     ]
    },
    {
     "name": "stderr",
     "output_type": "stream",
     "text": [
      "/var/folders/25/rb9t435n4mzgnk1l82dg2c1c0000gn/T/ipykernel_52462/1434419162.py:15: FutureWarning: Calling float on a single element Series is deprecated and will raise a TypeError in the future. Use float(ser.iloc[0]) instead\n",
      "  summary[\"Heart_Rate_Mean\"] = float(features.get(\"ECG_Rate_Mean\", np.nan))\n"
     ]
    },
    {
     "name": "stdout",
     "output_type": "stream",
     "text": [
      "Saved features for sub02_l5_cleaned_mecg.npy to sub02_l5_cleaned_mecg_features.json\n"
     ]
    },
    {
     "name": "stderr",
     "output_type": "stream",
     "text": [
      "/var/folders/25/rb9t435n4mzgnk1l82dg2c1c0000gn/T/ipykernel_52462/1434419162.py:15: FutureWarning: Calling float on a single element Series is deprecated and will raise a TypeError in the future. Use float(ser.iloc[0]) instead\n",
      "  summary[\"Heart_Rate_Mean\"] = float(features.get(\"ECG_Rate_Mean\", np.nan))\n"
     ]
    },
    {
     "name": "stdout",
     "output_type": "stream",
     "text": [
      "Saved features for sub05_l2_cleaned_fecg.npy to sub05_l2_cleaned_fecg_features.json\n"
     ]
    },
    {
     "name": "stderr",
     "output_type": "stream",
     "text": [
      "/var/folders/25/rb9t435n4mzgnk1l82dg2c1c0000gn/T/ipykernel_52462/1434419162.py:15: FutureWarning: Calling float on a single element Series is deprecated and will raise a TypeError in the future. Use float(ser.iloc[0]) instead\n",
      "  summary[\"Heart_Rate_Mean\"] = float(features.get(\"ECG_Rate_Mean\", np.nan))\n"
     ]
    },
    {
     "name": "stdout",
     "output_type": "stream",
     "text": [
      "Saved features for sub07_l1_cleaned_mecg.npy to sub07_l1_cleaned_mecg_features.json\n"
     ]
    },
    {
     "name": "stderr",
     "output_type": "stream",
     "text": [
      "/var/folders/25/rb9t435n4mzgnk1l82dg2c1c0000gn/T/ipykernel_52462/1434419162.py:15: FutureWarning: Calling float on a single element Series is deprecated and will raise a TypeError in the future. Use float(ser.iloc[0]) instead\n",
      "  summary[\"Heart_Rate_Mean\"] = float(features.get(\"ECG_Rate_Mean\", np.nan))\n"
     ]
    },
    {
     "name": "stdout",
     "output_type": "stream",
     "text": [
      "Saved features for sub01_l5_cleaned_mecg.npy to sub01_l5_cleaned_mecg_features.json\n"
     ]
    },
    {
     "name": "stderr",
     "output_type": "stream",
     "text": [
      "/var/folders/25/rb9t435n4mzgnk1l82dg2c1c0000gn/T/ipykernel_52462/1434419162.py:15: FutureWarning: Calling float on a single element Series is deprecated and will raise a TypeError in the future. Use float(ser.iloc[0]) instead\n",
      "  summary[\"Heart_Rate_Mean\"] = float(features.get(\"ECG_Rate_Mean\", np.nan))\n"
     ]
    },
    {
     "name": "stdout",
     "output_type": "stream",
     "text": [
      "Saved features for sub06_l1_cleaned_mecg.npy to sub06_l1_cleaned_mecg_features.json\n",
      "Saved features for sub04_l2_cleaned_fecg.npy to sub04_l2_cleaned_fecg_features.json\n"
     ]
    },
    {
     "name": "stderr",
     "output_type": "stream",
     "text": [
      "/var/folders/25/rb9t435n4mzgnk1l82dg2c1c0000gn/T/ipykernel_52462/1434419162.py:15: FutureWarning: Calling float on a single element Series is deprecated and will raise a TypeError in the future. Use float(ser.iloc[0]) instead\n",
      "  summary[\"Heart_Rate_Mean\"] = float(features.get(\"ECG_Rate_Mean\", np.nan))\n"
     ]
    }
   ],
   "source": [
    "def sanitize_for_json(data):\n",
    "    \"\"\"Convert NumPy types to native Python types recursively for JSON serialization.\"\"\"\n",
    "    if isinstance(data, dict):\n",
    "        return {k: sanitize_for_json(v) for k, v in data.items()}\n",
    "    elif isinstance(data, list):\n",
    "        return [sanitize_for_json(item) for item in data]\n",
    "    elif isinstance(data, np.generic):\n",
    "        return data.item()\n",
    "    else:\n",
    "        return data\n",
    "\n",
    "\n",
    "base_dir = \"ica_cleaned_signals\"\n",
    "output_dir = \"metrics_json\"\n",
    "os.makedirs(output_dir, exist_ok=True)\n",
    "\n",
    "files = [f for f in os.listdir(base_dir) if f.endswith(\".npy\")]\n",
    "fs = 250  # sampling frequency\n",
    "\n",
    "for filename in files:\n",
    "    filepath = os.path.join(base_dir, filename)\n",
    "\n",
    "    if \"fecg\" in filename:\n",
    "        subject_type = \"fetal\"\n",
    "    elif \"mecg\" in filename:\n",
    "        subject_type = \"maternal\"\n",
    "    else:\n",
    "        print(f\"Skipping unknown type for file {filename}\")\n",
    "        continue\n",
    "\n",
    "    signal = np.load(filepath)\n",
    "\n",
    "    try:\n",
    "        # Extract features without Sinus_Rhythm and Quality_OK\n",
    "        features = extract_features(signal, fs, subject_type)\n",
    "\n",
    "        # Add metadata\n",
    "        features[\"subject_type\"] = subject_type\n",
    "        features[\"filename\"] = filename\n",
    "\n",
    "        # Convert all values to JSON-safe types\n",
    "        json_safe_features = sanitize_for_json(features)\n",
    "\n",
    "        # Save to JSON\n",
    "        json_filename = filename.replace(\".npy\", \"_features.json\")\n",
    "        json_path = os.path.join(output_dir, json_filename)\n",
    "\n",
    "        with open(json_path, \"w\") as json_file:\n",
    "            json.dump(json_safe_features, json_file, indent=4)\n",
    "\n",
    "        print(f\"Saved features for {filename} to {json_filename}\")\n",
    "\n",
    "    except Exception as e:\n",
    "        print(f\"Error processing {filename}: {e}\")"
   ]
  }
 ],
 "metadata": {
  "kernelspec": {
   "display_name": "icsts",
   "language": "python",
   "name": "python3"
  },
  "language_info": {
   "codemirror_mode": {
    "name": "ipython",
    "version": 3
   },
   "file_extension": ".py",
   "mimetype": "text/x-python",
   "name": "python",
   "nbconvert_exporter": "python",
   "pygments_lexer": "ipython3",
   "version": "3.13.3"
  }
 },
 "nbformat": 4,
 "nbformat_minor": 2
}
