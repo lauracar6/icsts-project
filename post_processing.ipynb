{
 "cells": [
  {
   "cell_type": "code",
   "execution_count": 101,
   "metadata": {},
   "outputs": [],
   "source": [
    "import neurokit2 as nk\n",
    "import numpy as np\n",
    "from scipy.signal import find_peaks\n",
    "import json"
   ]
  },
  {
   "cell_type": "code",
   "execution_count": 102,
   "metadata": {},
   "outputs": [],
   "source": [
    "def pair_peaks(peak_array_1, peak_array_2, max_dist=50):\n",
    "    \"\"\"\n",
    "    Pair peaks from two arrays by matching closest indices within max_dist (samples).\n",
    "    Returns matched peaks (trimmed arrays).\n",
    "    \"\"\"\n",
    "    matched_1 = []\n",
    "    matched_2 = []\n",
    "    i, j = 0, 0\n",
    "    while i < len(peak_array_1) and j < len(peak_array_2):\n",
    "        diff = peak_array_2[j] - peak_array_1[i]\n",
    "        if abs(diff) <= max_dist:\n",
    "            matched_1.append(peak_array_1[i])\n",
    "            matched_2.append(peak_array_2[j])\n",
    "            i += 1\n",
    "            j += 1\n",
    "        elif peak_array_1[i] < peak_array_2[j]:\n",
    "            i += 1\n",
    "        else:\n",
    "            j += 1\n",
    "    return np.array(matched_1), np.array(matched_2)\n"
   ]
  },
  {
   "cell_type": "code",
   "execution_count": 103,
   "metadata": {},
   "outputs": [],
   "source": [
    "def extract_features(ecg_signal, fs, subject_type=\"fetal\"):\n",
    "    signals, info = nk.ecg_process(ecg_signal, sampling_rate=fs)\n",
    "    features = nk.ecg_analyze(signals, sampling_rate=fs)\n",
    "\n",
    "    summary = {\n",
    "        \"ECG_Rate_Mean\":  float(features.get(\"ECG_Rate_Mean\", 0)),\n",
    "        \"HRV_SDNN\":       float(features.get(\"HRV_SDNN\", 0)),\n",
    "        \"HRV_RMSSD\":      float(features.get(\"HRV_RMSSD\", 0)),\n",
    "        \"HRV_pNN50\":      float(features.get(\"HRV_pNN50\", 0)),\n",
    "    }\n",
    "\n",
    "    q = signals.index[signals[\"ECG_Q_Peaks\"] == 1].to_numpy()\n",
    "    s = signals.index[signals[\"ECG_S_Peaks\"] == 1].to_numpy()\n",
    "    p = signals.index[signals[\"ECG_P_Peaks\"] == 1].to_numpy()\n",
    "    t = signals.index[signals[\"ECG_T_Offsets\"] == 1].to_numpy()\n",
    "    r = signals.index[signals[\"ECG_R_Peaks\"] == 1].to_numpy()\n",
    "\n",
    "    flags = []\n",
    "\n",
    "    # QRS Duration\n",
    "    if len(q) > 0 and len(s) > 0:\n",
    "        q_matched, s_matched = pair_peaks(q, s)\n",
    "        if len(q_matched) > 0:\n",
    "            qrs = ((s_matched - q_matched) / fs * 1000)\n",
    "            summary[\"ECG_QRS_Duration\"] = float(np.mean(qrs))\n",
    "        else:\n",
    "            summary[\"ECG_QRS_Duration\"] = np.nan\n",
    "            flags.append(\"Could not calculate QRS Duration - insufficient peak matching\")\n",
    "    else:\n",
    "        summary[\"ECG_QRS_Duration\"] = np.nan\n",
    "        flags.append(\"Could not calculate QRS Duration - missing Q or S peaks\")\n",
    "\n",
    "    # QT Interval\n",
    "    if len(q) > 0 and len(t) > 0:\n",
    "        q_matched, t_matched = pair_peaks(q, t)\n",
    "        if len(q_matched) > 0:\n",
    "            qt = ((t_matched - q_matched) / fs * 1000)\n",
    "            summary[\"ECG_QT_Interval\"] = float(np.mean(qt))\n",
    "        else:\n",
    "            summary[\"ECG_QT_Interval\"] = np.nan\n",
    "            flags.append(\"Could not calculate QT Interval - insufficient peak matching\")\n",
    "    else:\n",
    "        summary[\"ECG_QT_Interval\"] = np.nan\n",
    "        flags.append(\"Could not calculate QT Interval - missing Q or T peaks\")\n",
    "\n",
    "    # PR Interval\n",
    "    if len(p) > 0 and len(q) > 0:\n",
    "        p_matched, q_matched = pair_peaks(p, q)\n",
    "        if len(p_matched) > 0:\n",
    "            pr = ((q_matched - p_matched) / fs * 1000)\n",
    "            summary[\"ECG_PR_Interval\"] = float(np.mean(pr))\n",
    "        else:\n",
    "            summary[\"ECG_PR_Interval\"] = np.nan\n",
    "            flags.append(\"Could not calculate PR Interval - insufficient peak matching\")\n",
    "    else:\n",
    "        summary[\"ECG_PR_Interval\"] = np.nan\n",
    "        flags.append(\"Could not calculate PR Interval - missing P or Q peaks\")\n",
    "\n",
    "    # Your existing abnormality flags (e.g. HR ranges, QRS, QT limits)\n",
    "    if subject_type == \"fetal\":\n",
    "        if summary[\"ECG_Rate_Mean\"] < 110:\n",
    "            flags.append(\"Fetal bradycardia (HR < 110 bpm)\")\n",
    "        elif summary[\"ECG_Rate_Mean\"] > 160:\n",
    "            flags.append(\"Fetal tachycardia (HR > 160 bpm)\")\n",
    "        if not np.isnan(summary[\"ECG_QRS_Duration\"]) and summary[\"ECG_QRS_Duration\"] > 120:\n",
    "            flags.append(\"Prolonged QRS duration (Possible conduction issue)\")\n",
    "\n",
    "    elif subject_type == \"maternal\":\n",
    "        if summary[\"ECG_Rate_Mean\"] < 60:\n",
    "            flags.append(\"Maternal bradycardia (HR < 60 bpm)\")\n",
    "        elif summary[\"ECG_Rate_Mean\"] > 100:\n",
    "            flags.append(\"Maternal tachycardia (HR > 100 bpm)\")\n",
    "        if not np.isnan(summary[\"ECG_QRS_Duration\"]) and summary[\"ECG_QRS_Duration\"] > 120:\n",
    "            flags.append(\"Wide QRS complex (> 120 ms)\")\n",
    "        if not np.isnan(summary[\"ECG_QT_Interval\"]) and summary[\"ECG_QT_Interval\"] > 450:\n",
    "            flags.append(\"Prolonged QT interval (Risk of arrhythmia)\")\n",
    "        if not np.isnan(summary[\"ECG_PR_Interval\"]) and summary[\"ECG_PR_Interval\"] > 200:\n",
    "            flags.append(\"Prolonged PR interval (Possible AV block)\")\n",
    "\n",
    "    summary[\"Flags\"] = flags\n",
    "    return summary"
   ]
  },
  {
   "cell_type": "code",
   "execution_count": 104,
   "metadata": {},
   "outputs": [
    {
     "name": "stderr",
     "output_type": "stream",
     "text": [
      "/var/folders/25/rb9t435n4mzgnk1l82dg2c1c0000gn/T/ipykernel_10912/3597693706.py:6: FutureWarning: Calling float on a single element Series is deprecated and will raise a TypeError in the future. Use float(ser.iloc[0]) instead\n",
      "  \"ECG_Rate_Mean\":  float(features.get(\"ECG_Rate_Mean\", 0)),\n",
      "/var/folders/25/rb9t435n4mzgnk1l82dg2c1c0000gn/T/ipykernel_10912/3597693706.py:7: FutureWarning: Calling float on a single element Series is deprecated and will raise a TypeError in the future. Use float(ser.iloc[0]) instead\n",
      "  \"HRV_SDNN\":       float(features.get(\"HRV_SDNN\", 0)),\n",
      "/var/folders/25/rb9t435n4mzgnk1l82dg2c1c0000gn/T/ipykernel_10912/3597693706.py:8: FutureWarning: Calling float on a single element Series is deprecated and will raise a TypeError in the future. Use float(ser.iloc[0]) instead\n",
      "  \"HRV_RMSSD\":      float(features.get(\"HRV_RMSSD\", 0)),\n",
      "/var/folders/25/rb9t435n4mzgnk1l82dg2c1c0000gn/T/ipykernel_10912/3597693706.py:9: FutureWarning: Calling float on a single element Series is deprecated and will raise a TypeError in the future. Use float(ser.iloc[0]) instead\n",
      "  \"HRV_pNN50\":      float(features.get(\"HRV_pNN50\", 0)),\n"
     ]
    },
    {
     "name": "stdout",
     "output_type": "stream",
     "text": [
      "Saved features for sub07_l1_c0_combined_cleaned_fecg.npy to sub07_l1_c0_combined_cleaned_fecg_features.json\n"
     ]
    },
    {
     "name": "stderr",
     "output_type": "stream",
     "text": [
      "/var/folders/25/rb9t435n4mzgnk1l82dg2c1c0000gn/T/ipykernel_10912/3597693706.py:6: FutureWarning: Calling float on a single element Series is deprecated and will raise a TypeError in the future. Use float(ser.iloc[0]) instead\n",
      "  \"ECG_Rate_Mean\":  float(features.get(\"ECG_Rate_Mean\", 0)),\n",
      "/var/folders/25/rb9t435n4mzgnk1l82dg2c1c0000gn/T/ipykernel_10912/3597693706.py:7: FutureWarning: Calling float on a single element Series is deprecated and will raise a TypeError in the future. Use float(ser.iloc[0]) instead\n",
      "  \"HRV_SDNN\":       float(features.get(\"HRV_SDNN\", 0)),\n",
      "/var/folders/25/rb9t435n4mzgnk1l82dg2c1c0000gn/T/ipykernel_10912/3597693706.py:8: FutureWarning: Calling float on a single element Series is deprecated and will raise a TypeError in the future. Use float(ser.iloc[0]) instead\n",
      "  \"HRV_RMSSD\":      float(features.get(\"HRV_RMSSD\", 0)),\n",
      "/var/folders/25/rb9t435n4mzgnk1l82dg2c1c0000gn/T/ipykernel_10912/3597693706.py:9: FutureWarning: Calling float on a single element Series is deprecated and will raise a TypeError in the future. Use float(ser.iloc[0]) instead\n",
      "  \"HRV_pNN50\":      float(features.get(\"HRV_pNN50\", 0)),\n"
     ]
    },
    {
     "name": "stdout",
     "output_type": "stream",
     "text": [
      "Saved features for sub06_l3_c0_combined_cleaned_fecg.npy to sub06_l3_c0_combined_cleaned_fecg_features.json\n"
     ]
    },
    {
     "name": "stderr",
     "output_type": "stream",
     "text": [
      "/var/folders/25/rb9t435n4mzgnk1l82dg2c1c0000gn/T/ipykernel_10912/3597693706.py:6: FutureWarning: Calling float on a single element Series is deprecated and will raise a TypeError in the future. Use float(ser.iloc[0]) instead\n",
      "  \"ECG_Rate_Mean\":  float(features.get(\"ECG_Rate_Mean\", 0)),\n",
      "/var/folders/25/rb9t435n4mzgnk1l82dg2c1c0000gn/T/ipykernel_10912/3597693706.py:7: FutureWarning: Calling float on a single element Series is deprecated and will raise a TypeError in the future. Use float(ser.iloc[0]) instead\n",
      "  \"HRV_SDNN\":       float(features.get(\"HRV_SDNN\", 0)),\n",
      "/var/folders/25/rb9t435n4mzgnk1l82dg2c1c0000gn/T/ipykernel_10912/3597693706.py:8: FutureWarning: Calling float on a single element Series is deprecated and will raise a TypeError in the future. Use float(ser.iloc[0]) instead\n",
      "  \"HRV_RMSSD\":      float(features.get(\"HRV_RMSSD\", 0)),\n",
      "/var/folders/25/rb9t435n4mzgnk1l82dg2c1c0000gn/T/ipykernel_10912/3597693706.py:9: FutureWarning: Calling float on a single element Series is deprecated and will raise a TypeError in the future. Use float(ser.iloc[0]) instead\n",
      "  \"HRV_pNN50\":      float(features.get(\"HRV_pNN50\", 0)),\n"
     ]
    },
    {
     "name": "stdout",
     "output_type": "stream",
     "text": [
      "Saved features for sub10_l3_c0_combined_cleaned_mecg.npy to sub10_l3_c0_combined_cleaned_mecg_features.json\n"
     ]
    },
    {
     "name": "stderr",
     "output_type": "stream",
     "text": [
      "/var/folders/25/rb9t435n4mzgnk1l82dg2c1c0000gn/T/ipykernel_10912/3597693706.py:6: FutureWarning: Calling float on a single element Series is deprecated and will raise a TypeError in the future. Use float(ser.iloc[0]) instead\n",
      "  \"ECG_Rate_Mean\":  float(features.get(\"ECG_Rate_Mean\", 0)),\n",
      "/var/folders/25/rb9t435n4mzgnk1l82dg2c1c0000gn/T/ipykernel_10912/3597693706.py:7: FutureWarning: Calling float on a single element Series is deprecated and will raise a TypeError in the future. Use float(ser.iloc[0]) instead\n",
      "  \"HRV_SDNN\":       float(features.get(\"HRV_SDNN\", 0)),\n",
      "/var/folders/25/rb9t435n4mzgnk1l82dg2c1c0000gn/T/ipykernel_10912/3597693706.py:8: FutureWarning: Calling float on a single element Series is deprecated and will raise a TypeError in the future. Use float(ser.iloc[0]) instead\n",
      "  \"HRV_RMSSD\":      float(features.get(\"HRV_RMSSD\", 0)),\n",
      "/var/folders/25/rb9t435n4mzgnk1l82dg2c1c0000gn/T/ipykernel_10912/3597693706.py:9: FutureWarning: Calling float on a single element Series is deprecated and will raise a TypeError in the future. Use float(ser.iloc[0]) instead\n",
      "  \"HRV_pNN50\":      float(features.get(\"HRV_pNN50\", 0)),\n"
     ]
    },
    {
     "name": "stdout",
     "output_type": "stream",
     "text": [
      "Saved features for sub01_l5_c0_combined_cleaned_mecg.npy to sub01_l5_c0_combined_cleaned_mecg_features.json\n"
     ]
    },
    {
     "name": "stderr",
     "output_type": "stream",
     "text": [
      "/var/folders/25/rb9t435n4mzgnk1l82dg2c1c0000gn/T/ipykernel_10912/3597693706.py:6: FutureWarning: Calling float on a single element Series is deprecated and will raise a TypeError in the future. Use float(ser.iloc[0]) instead\n",
      "  \"ECG_Rate_Mean\":  float(features.get(\"ECG_Rate_Mean\", 0)),\n",
      "/var/folders/25/rb9t435n4mzgnk1l82dg2c1c0000gn/T/ipykernel_10912/3597693706.py:7: FutureWarning: Calling float on a single element Series is deprecated and will raise a TypeError in the future. Use float(ser.iloc[0]) instead\n",
      "  \"HRV_SDNN\":       float(features.get(\"HRV_SDNN\", 0)),\n",
      "/var/folders/25/rb9t435n4mzgnk1l82dg2c1c0000gn/T/ipykernel_10912/3597693706.py:8: FutureWarning: Calling float on a single element Series is deprecated and will raise a TypeError in the future. Use float(ser.iloc[0]) instead\n",
      "  \"HRV_RMSSD\":      float(features.get(\"HRV_RMSSD\", 0)),\n",
      "/var/folders/25/rb9t435n4mzgnk1l82dg2c1c0000gn/T/ipykernel_10912/3597693706.py:9: FutureWarning: Calling float on a single element Series is deprecated and will raise a TypeError in the future. Use float(ser.iloc[0]) instead\n",
      "  \"HRV_pNN50\":      float(features.get(\"HRV_pNN50\", 0)),\n"
     ]
    },
    {
     "name": "stdout",
     "output_type": "stream",
     "text": [
      "Saved features for sub09_l4_c0_combined_cleaned_fecg.npy to sub09_l4_c0_combined_cleaned_fecg_features.json\n"
     ]
    },
    {
     "name": "stderr",
     "output_type": "stream",
     "text": [
      "/var/folders/25/rb9t435n4mzgnk1l82dg2c1c0000gn/T/ipykernel_10912/3597693706.py:6: FutureWarning: Calling float on a single element Series is deprecated and will raise a TypeError in the future. Use float(ser.iloc[0]) instead\n",
      "  \"ECG_Rate_Mean\":  float(features.get(\"ECG_Rate_Mean\", 0)),\n",
      "/var/folders/25/rb9t435n4mzgnk1l82dg2c1c0000gn/T/ipykernel_10912/3597693706.py:7: FutureWarning: Calling float on a single element Series is deprecated and will raise a TypeError in the future. Use float(ser.iloc[0]) instead\n",
      "  \"HRV_SDNN\":       float(features.get(\"HRV_SDNN\", 0)),\n",
      "/var/folders/25/rb9t435n4mzgnk1l82dg2c1c0000gn/T/ipykernel_10912/3597693706.py:8: FutureWarning: Calling float on a single element Series is deprecated and will raise a TypeError in the future. Use float(ser.iloc[0]) instead\n",
      "  \"HRV_RMSSD\":      float(features.get(\"HRV_RMSSD\", 0)),\n",
      "/var/folders/25/rb9t435n4mzgnk1l82dg2c1c0000gn/T/ipykernel_10912/3597693706.py:9: FutureWarning: Calling float on a single element Series is deprecated and will raise a TypeError in the future. Use float(ser.iloc[0]) instead\n",
      "  \"HRV_pNN50\":      float(features.get(\"HRV_pNN50\", 0)),\n"
     ]
    },
    {
     "name": "stdout",
     "output_type": "stream",
     "text": [
      "Saved features for sub02_l3_c0_combined_cleaned_mecg.npy to sub02_l3_c0_combined_cleaned_mecg_features.json\n"
     ]
    },
    {
     "name": "stderr",
     "output_type": "stream",
     "text": [
      "/var/folders/25/rb9t435n4mzgnk1l82dg2c1c0000gn/T/ipykernel_10912/3597693706.py:6: FutureWarning: Calling float on a single element Series is deprecated and will raise a TypeError in the future. Use float(ser.iloc[0]) instead\n",
      "  \"ECG_Rate_Mean\":  float(features.get(\"ECG_Rate_Mean\", 0)),\n",
      "/var/folders/25/rb9t435n4mzgnk1l82dg2c1c0000gn/T/ipykernel_10912/3597693706.py:7: FutureWarning: Calling float on a single element Series is deprecated and will raise a TypeError in the future. Use float(ser.iloc[0]) instead\n",
      "  \"HRV_SDNN\":       float(features.get(\"HRV_SDNN\", 0)),\n",
      "/var/folders/25/rb9t435n4mzgnk1l82dg2c1c0000gn/T/ipykernel_10912/3597693706.py:8: FutureWarning: Calling float on a single element Series is deprecated and will raise a TypeError in the future. Use float(ser.iloc[0]) instead\n",
      "  \"HRV_RMSSD\":      float(features.get(\"HRV_RMSSD\", 0)),\n",
      "/var/folders/25/rb9t435n4mzgnk1l82dg2c1c0000gn/T/ipykernel_10912/3597693706.py:9: FutureWarning: Calling float on a single element Series is deprecated and will raise a TypeError in the future. Use float(ser.iloc[0]) instead\n",
      "  \"HRV_pNN50\":      float(features.get(\"HRV_pNN50\", 0)),\n"
     ]
    },
    {
     "name": "stdout",
     "output_type": "stream",
     "text": [
      "Saved features for sub05_l5_c0_combined_cleaned_fecg.npy to sub05_l5_c0_combined_cleaned_fecg_features.json\n"
     ]
    },
    {
     "name": "stderr",
     "output_type": "stream",
     "text": [
      "/var/folders/25/rb9t435n4mzgnk1l82dg2c1c0000gn/T/ipykernel_10912/3597693706.py:6: FutureWarning: Calling float on a single element Series is deprecated and will raise a TypeError in the future. Use float(ser.iloc[0]) instead\n",
      "  \"ECG_Rate_Mean\":  float(features.get(\"ECG_Rate_Mean\", 0)),\n",
      "/var/folders/25/rb9t435n4mzgnk1l82dg2c1c0000gn/T/ipykernel_10912/3597693706.py:7: FutureWarning: Calling float on a single element Series is deprecated and will raise a TypeError in the future. Use float(ser.iloc[0]) instead\n",
      "  \"HRV_SDNN\":       float(features.get(\"HRV_SDNN\", 0)),\n",
      "/var/folders/25/rb9t435n4mzgnk1l82dg2c1c0000gn/T/ipykernel_10912/3597693706.py:8: FutureWarning: Calling float on a single element Series is deprecated and will raise a TypeError in the future. Use float(ser.iloc[0]) instead\n",
      "  \"HRV_RMSSD\":      float(features.get(\"HRV_RMSSD\", 0)),\n",
      "/var/folders/25/rb9t435n4mzgnk1l82dg2c1c0000gn/T/ipykernel_10912/3597693706.py:9: FutureWarning: Calling float on a single element Series is deprecated and will raise a TypeError in the future. Use float(ser.iloc[0]) instead\n",
      "  \"HRV_pNN50\":      float(features.get(\"HRV_pNN50\", 0)),\n"
     ]
    },
    {
     "name": "stdout",
     "output_type": "stream",
     "text": [
      "Saved features for sub03_l1_c0_combined_cleaned_mecg.npy to sub03_l1_c0_combined_cleaned_mecg_features.json\n"
     ]
    },
    {
     "name": "stderr",
     "output_type": "stream",
     "text": [
      "/var/folders/25/rb9t435n4mzgnk1l82dg2c1c0000gn/T/ipykernel_10912/3597693706.py:6: FutureWarning: Calling float on a single element Series is deprecated and will raise a TypeError in the future. Use float(ser.iloc[0]) instead\n",
      "  \"ECG_Rate_Mean\":  float(features.get(\"ECG_Rate_Mean\", 0)),\n",
      "/var/folders/25/rb9t435n4mzgnk1l82dg2c1c0000gn/T/ipykernel_10912/3597693706.py:7: FutureWarning: Calling float on a single element Series is deprecated and will raise a TypeError in the future. Use float(ser.iloc[0]) instead\n",
      "  \"HRV_SDNN\":       float(features.get(\"HRV_SDNN\", 0)),\n",
      "/var/folders/25/rb9t435n4mzgnk1l82dg2c1c0000gn/T/ipykernel_10912/3597693706.py:8: FutureWarning: Calling float on a single element Series is deprecated and will raise a TypeError in the future. Use float(ser.iloc[0]) instead\n",
      "  \"HRV_RMSSD\":      float(features.get(\"HRV_RMSSD\", 0)),\n",
      "/var/folders/25/rb9t435n4mzgnk1l82dg2c1c0000gn/T/ipykernel_10912/3597693706.py:9: FutureWarning: Calling float on a single element Series is deprecated and will raise a TypeError in the future. Use float(ser.iloc[0]) instead\n",
      "  \"HRV_pNN50\":      float(features.get(\"HRV_pNN50\", 0)),\n"
     ]
    },
    {
     "name": "stdout",
     "output_type": "stream",
     "text": [
      "Saved features for sub08_l4_c0_combined_cleaned_mecg.npy to sub08_l4_c0_combined_cleaned_mecg_features.json\n"
     ]
    },
    {
     "name": "stderr",
     "output_type": "stream",
     "text": [
      "/var/folders/25/rb9t435n4mzgnk1l82dg2c1c0000gn/T/ipykernel_10912/3597693706.py:6: FutureWarning: Calling float on a single element Series is deprecated and will raise a TypeError in the future. Use float(ser.iloc[0]) instead\n",
      "  \"ECG_Rate_Mean\":  float(features.get(\"ECG_Rate_Mean\", 0)),\n",
      "/var/folders/25/rb9t435n4mzgnk1l82dg2c1c0000gn/T/ipykernel_10912/3597693706.py:7: FutureWarning: Calling float on a single element Series is deprecated and will raise a TypeError in the future. Use float(ser.iloc[0]) instead\n",
      "  \"HRV_SDNN\":       float(features.get(\"HRV_SDNN\", 0)),\n",
      "/var/folders/25/rb9t435n4mzgnk1l82dg2c1c0000gn/T/ipykernel_10912/3597693706.py:8: FutureWarning: Calling float on a single element Series is deprecated and will raise a TypeError in the future. Use float(ser.iloc[0]) instead\n",
      "  \"HRV_RMSSD\":      float(features.get(\"HRV_RMSSD\", 0)),\n",
      "/var/folders/25/rb9t435n4mzgnk1l82dg2c1c0000gn/T/ipykernel_10912/3597693706.py:9: FutureWarning: Calling float on a single element Series is deprecated and will raise a TypeError in the future. Use float(ser.iloc[0]) instead\n",
      "  \"HRV_pNN50\":      float(features.get(\"HRV_pNN50\", 0)),\n"
     ]
    },
    {
     "name": "stdout",
     "output_type": "stream",
     "text": [
      "Saved features for sub03_l3_c0_combined_cleaned_fecg.npy to sub03_l3_c0_combined_cleaned_fecg_features.json\n"
     ]
    },
    {
     "name": "stderr",
     "output_type": "stream",
     "text": [
      "/var/folders/25/rb9t435n4mzgnk1l82dg2c1c0000gn/T/ipykernel_10912/3597693706.py:6: FutureWarning: Calling float on a single element Series is deprecated and will raise a TypeError in the future. Use float(ser.iloc[0]) instead\n",
      "  \"ECG_Rate_Mean\":  float(features.get(\"ECG_Rate_Mean\", 0)),\n",
      "/var/folders/25/rb9t435n4mzgnk1l82dg2c1c0000gn/T/ipykernel_10912/3597693706.py:7: FutureWarning: Calling float on a single element Series is deprecated and will raise a TypeError in the future. Use float(ser.iloc[0]) instead\n",
      "  \"HRV_SDNN\":       float(features.get(\"HRV_SDNN\", 0)),\n",
      "/var/folders/25/rb9t435n4mzgnk1l82dg2c1c0000gn/T/ipykernel_10912/3597693706.py:8: FutureWarning: Calling float on a single element Series is deprecated and will raise a TypeError in the future. Use float(ser.iloc[0]) instead\n",
      "  \"HRV_RMSSD\":      float(features.get(\"HRV_RMSSD\", 0)),\n",
      "/var/folders/25/rb9t435n4mzgnk1l82dg2c1c0000gn/T/ipykernel_10912/3597693706.py:9: FutureWarning: Calling float on a single element Series is deprecated and will raise a TypeError in the future. Use float(ser.iloc[0]) instead\n",
      "  \"HRV_pNN50\":      float(features.get(\"HRV_pNN50\", 0)),\n"
     ]
    },
    {
     "name": "stdout",
     "output_type": "stream",
     "text": [
      "Saved features for sub04_l5_c0_combined_cleaned_mecg.npy to sub04_l5_c0_combined_cleaned_mecg_features.json\n"
     ]
    },
    {
     "name": "stderr",
     "output_type": "stream",
     "text": [
      "/var/folders/25/rb9t435n4mzgnk1l82dg2c1c0000gn/T/ipykernel_10912/3597693706.py:6: FutureWarning: Calling float on a single element Series is deprecated and will raise a TypeError in the future. Use float(ser.iloc[0]) instead\n",
      "  \"ECG_Rate_Mean\":  float(features.get(\"ECG_Rate_Mean\", 0)),\n",
      "/var/folders/25/rb9t435n4mzgnk1l82dg2c1c0000gn/T/ipykernel_10912/3597693706.py:7: FutureWarning: Calling float on a single element Series is deprecated and will raise a TypeError in the future. Use float(ser.iloc[0]) instead\n",
      "  \"HRV_SDNN\":       float(features.get(\"HRV_SDNN\", 0)),\n",
      "/var/folders/25/rb9t435n4mzgnk1l82dg2c1c0000gn/T/ipykernel_10912/3597693706.py:8: FutureWarning: Calling float on a single element Series is deprecated and will raise a TypeError in the future. Use float(ser.iloc[0]) instead\n",
      "  \"HRV_RMSSD\":      float(features.get(\"HRV_RMSSD\", 0)),\n",
      "/var/folders/25/rb9t435n4mzgnk1l82dg2c1c0000gn/T/ipykernel_10912/3597693706.py:9: FutureWarning: Calling float on a single element Series is deprecated and will raise a TypeError in the future. Use float(ser.iloc[0]) instead\n",
      "  \"HRV_pNN50\":      float(features.get(\"HRV_pNN50\", 0)),\n"
     ]
    },
    {
     "name": "stdout",
     "output_type": "stream",
     "text": [
      "Saved features for sub02_l1_c0_combined_cleaned_fecg.npy to sub02_l1_c0_combined_cleaned_fecg_features.json\n"
     ]
    },
    {
     "name": "stderr",
     "output_type": "stream",
     "text": [
      "/var/folders/25/rb9t435n4mzgnk1l82dg2c1c0000gn/T/ipykernel_10912/3597693706.py:6: FutureWarning: Calling float on a single element Series is deprecated and will raise a TypeError in the future. Use float(ser.iloc[0]) instead\n",
      "  \"ECG_Rate_Mean\":  float(features.get(\"ECG_Rate_Mean\", 0)),\n",
      "/var/folders/25/rb9t435n4mzgnk1l82dg2c1c0000gn/T/ipykernel_10912/3597693706.py:7: FutureWarning: Calling float on a single element Series is deprecated and will raise a TypeError in the future. Use float(ser.iloc[0]) instead\n",
      "  \"HRV_SDNN\":       float(features.get(\"HRV_SDNN\", 0)),\n",
      "/var/folders/25/rb9t435n4mzgnk1l82dg2c1c0000gn/T/ipykernel_10912/3597693706.py:8: FutureWarning: Calling float on a single element Series is deprecated and will raise a TypeError in the future. Use float(ser.iloc[0]) instead\n",
      "  \"HRV_RMSSD\":      float(features.get(\"HRV_RMSSD\", 0)),\n",
      "/var/folders/25/rb9t435n4mzgnk1l82dg2c1c0000gn/T/ipykernel_10912/3597693706.py:9: FutureWarning: Calling float on a single element Series is deprecated and will raise a TypeError in the future. Use float(ser.iloc[0]) instead\n",
      "  \"HRV_pNN50\":      float(features.get(\"HRV_pNN50\", 0)),\n"
     ]
    },
    {
     "name": "stdout",
     "output_type": "stream",
     "text": [
      "Saved features for sub06_l1_c0_combined_cleaned_mecg.npy to sub06_l1_c0_combined_cleaned_mecg_features.json\n"
     ]
    },
    {
     "name": "stderr",
     "output_type": "stream",
     "text": [
      "/var/folders/25/rb9t435n4mzgnk1l82dg2c1c0000gn/T/ipykernel_10912/3597693706.py:6: FutureWarning: Calling float on a single element Series is deprecated and will raise a TypeError in the future. Use float(ser.iloc[0]) instead\n",
      "  \"ECG_Rate_Mean\":  float(features.get(\"ECG_Rate_Mean\", 0)),\n",
      "/var/folders/25/rb9t435n4mzgnk1l82dg2c1c0000gn/T/ipykernel_10912/3597693706.py:7: FutureWarning: Calling float on a single element Series is deprecated and will raise a TypeError in the future. Use float(ser.iloc[0]) instead\n",
      "  \"HRV_SDNN\":       float(features.get(\"HRV_SDNN\", 0)),\n",
      "/var/folders/25/rb9t435n4mzgnk1l82dg2c1c0000gn/T/ipykernel_10912/3597693706.py:8: FutureWarning: Calling float on a single element Series is deprecated and will raise a TypeError in the future. Use float(ser.iloc[0]) instead\n",
      "  \"HRV_RMSSD\":      float(features.get(\"HRV_RMSSD\", 0)),\n",
      "/var/folders/25/rb9t435n4mzgnk1l82dg2c1c0000gn/T/ipykernel_10912/3597693706.py:9: FutureWarning: Calling float on a single element Series is deprecated and will raise a TypeError in the future. Use float(ser.iloc[0]) instead\n",
      "  \"HRV_pNN50\":      float(features.get(\"HRV_pNN50\", 0)),\n"
     ]
    },
    {
     "name": "stdout",
     "output_type": "stream",
     "text": [
      "Saved features for sub10_l1_c0_combined_cleaned_fecg.npy to sub10_l1_c0_combined_cleaned_fecg_features.json\n"
     ]
    },
    {
     "name": "stderr",
     "output_type": "stream",
     "text": [
      "/var/folders/25/rb9t435n4mzgnk1l82dg2c1c0000gn/T/ipykernel_10912/3597693706.py:6: FutureWarning: Calling float on a single element Series is deprecated and will raise a TypeError in the future. Use float(ser.iloc[0]) instead\n",
      "  \"ECG_Rate_Mean\":  float(features.get(\"ECG_Rate_Mean\", 0)),\n",
      "/var/folders/25/rb9t435n4mzgnk1l82dg2c1c0000gn/T/ipykernel_10912/3597693706.py:7: FutureWarning: Calling float on a single element Series is deprecated and will raise a TypeError in the future. Use float(ser.iloc[0]) instead\n",
      "  \"HRV_SDNN\":       float(features.get(\"HRV_SDNN\", 0)),\n",
      "/var/folders/25/rb9t435n4mzgnk1l82dg2c1c0000gn/T/ipykernel_10912/3597693706.py:8: FutureWarning: Calling float on a single element Series is deprecated and will raise a TypeError in the future. Use float(ser.iloc[0]) instead\n",
      "  \"HRV_RMSSD\":      float(features.get(\"HRV_RMSSD\", 0)),\n",
      "/var/folders/25/rb9t435n4mzgnk1l82dg2c1c0000gn/T/ipykernel_10912/3597693706.py:9: FutureWarning: Calling float on a single element Series is deprecated and will raise a TypeError in the future. Use float(ser.iloc[0]) instead\n",
      "  \"HRV_pNN50\":      float(features.get(\"HRV_pNN50\", 0)),\n"
     ]
    },
    {
     "name": "stdout",
     "output_type": "stream",
     "text": [
      "Saved features for sub07_l3_c0_combined_cleaned_mecg.npy to sub07_l3_c0_combined_cleaned_mecg_features.json\n"
     ]
    },
    {
     "name": "stderr",
     "output_type": "stream",
     "text": [
      "/var/folders/25/rb9t435n4mzgnk1l82dg2c1c0000gn/T/ipykernel_10912/3597693706.py:6: FutureWarning: Calling float on a single element Series is deprecated and will raise a TypeError in the future. Use float(ser.iloc[0]) instead\n",
      "  \"ECG_Rate_Mean\":  float(features.get(\"ECG_Rate_Mean\", 0)),\n",
      "/var/folders/25/rb9t435n4mzgnk1l82dg2c1c0000gn/T/ipykernel_10912/3597693706.py:7: FutureWarning: Calling float on a single element Series is deprecated and will raise a TypeError in the future. Use float(ser.iloc[0]) instead\n",
      "  \"HRV_SDNN\":       float(features.get(\"HRV_SDNN\", 0)),\n",
      "/var/folders/25/rb9t435n4mzgnk1l82dg2c1c0000gn/T/ipykernel_10912/3597693706.py:8: FutureWarning: Calling float on a single element Series is deprecated and will raise a TypeError in the future. Use float(ser.iloc[0]) instead\n",
      "  \"HRV_RMSSD\":      float(features.get(\"HRV_RMSSD\", 0)),\n",
      "/var/folders/25/rb9t435n4mzgnk1l82dg2c1c0000gn/T/ipykernel_10912/3597693706.py:9: FutureWarning: Calling float on a single element Series is deprecated and will raise a TypeError in the future. Use float(ser.iloc[0]) instead\n",
      "  \"HRV_pNN50\":      float(features.get(\"HRV_pNN50\", 0)),\n"
     ]
    },
    {
     "name": "stdout",
     "output_type": "stream",
     "text": [
      "Saved features for sub05_l4_c0_combined_cleaned_mecg.npy to sub05_l4_c0_combined_cleaned_mecg_features.json\n"
     ]
    },
    {
     "name": "stderr",
     "output_type": "stream",
     "text": [
      "/var/folders/25/rb9t435n4mzgnk1l82dg2c1c0000gn/T/ipykernel_10912/3597693706.py:6: FutureWarning: Calling float on a single element Series is deprecated and will raise a TypeError in the future. Use float(ser.iloc[0]) instead\n",
      "  \"ECG_Rate_Mean\":  float(features.get(\"ECG_Rate_Mean\", 0)),\n",
      "/var/folders/25/rb9t435n4mzgnk1l82dg2c1c0000gn/T/ipykernel_10912/3597693706.py:7: FutureWarning: Calling float on a single element Series is deprecated and will raise a TypeError in the future. Use float(ser.iloc[0]) instead\n",
      "  \"HRV_SDNN\":       float(features.get(\"HRV_SDNN\", 0)),\n",
      "/var/folders/25/rb9t435n4mzgnk1l82dg2c1c0000gn/T/ipykernel_10912/3597693706.py:8: FutureWarning: Calling float on a single element Series is deprecated and will raise a TypeError in the future. Use float(ser.iloc[0]) instead\n",
      "  \"HRV_RMSSD\":      float(features.get(\"HRV_RMSSD\", 0)),\n",
      "/var/folders/25/rb9t435n4mzgnk1l82dg2c1c0000gn/T/ipykernel_10912/3597693706.py:9: FutureWarning: Calling float on a single element Series is deprecated and will raise a TypeError in the future. Use float(ser.iloc[0]) instead\n",
      "  \"HRV_pNN50\":      float(features.get(\"HRV_pNN50\", 0)),\n"
     ]
    },
    {
     "name": "stdout",
     "output_type": "stream",
     "text": [
      "Saved features for sub02_l2_c0_combined_cleaned_fecg.npy to sub02_l2_c0_combined_cleaned_fecg_features.json\n"
     ]
    },
    {
     "name": "stderr",
     "output_type": "stream",
     "text": [
      "/var/folders/25/rb9t435n4mzgnk1l82dg2c1c0000gn/T/ipykernel_10912/3597693706.py:6: FutureWarning: Calling float on a single element Series is deprecated and will raise a TypeError in the future. Use float(ser.iloc[0]) instead\n",
      "  \"ECG_Rate_Mean\":  float(features.get(\"ECG_Rate_Mean\", 0)),\n",
      "/var/folders/25/rb9t435n4mzgnk1l82dg2c1c0000gn/T/ipykernel_10912/3597693706.py:7: FutureWarning: Calling float on a single element Series is deprecated and will raise a TypeError in the future. Use float(ser.iloc[0]) instead\n",
      "  \"HRV_SDNN\":       float(features.get(\"HRV_SDNN\", 0)),\n",
      "/var/folders/25/rb9t435n4mzgnk1l82dg2c1c0000gn/T/ipykernel_10912/3597693706.py:8: FutureWarning: Calling float on a single element Series is deprecated and will raise a TypeError in the future. Use float(ser.iloc[0]) instead\n",
      "  \"HRV_RMSSD\":      float(features.get(\"HRV_RMSSD\", 0)),\n",
      "/var/folders/25/rb9t435n4mzgnk1l82dg2c1c0000gn/T/ipykernel_10912/3597693706.py:9: FutureWarning: Calling float on a single element Series is deprecated and will raise a TypeError in the future. Use float(ser.iloc[0]) instead\n",
      "  \"HRV_pNN50\":      float(features.get(\"HRV_pNN50\", 0)),\n"
     ]
    },
    {
     "name": "stdout",
     "output_type": "stream",
     "text": [
      "Saved features for sub09_l5_c0_combined_cleaned_mecg.npy to sub09_l5_c0_combined_cleaned_mecg_features.json\n"
     ]
    },
    {
     "name": "stderr",
     "output_type": "stream",
     "text": [
      "/var/folders/25/rb9t435n4mzgnk1l82dg2c1c0000gn/T/ipykernel_10912/3597693706.py:6: FutureWarning: Calling float on a single element Series is deprecated and will raise a TypeError in the future. Use float(ser.iloc[0]) instead\n",
      "  \"ECG_Rate_Mean\":  float(features.get(\"ECG_Rate_Mean\", 0)),\n",
      "/var/folders/25/rb9t435n4mzgnk1l82dg2c1c0000gn/T/ipykernel_10912/3597693706.py:7: FutureWarning: Calling float on a single element Series is deprecated and will raise a TypeError in the future. Use float(ser.iloc[0]) instead\n",
      "  \"HRV_SDNN\":       float(features.get(\"HRV_SDNN\", 0)),\n",
      "/var/folders/25/rb9t435n4mzgnk1l82dg2c1c0000gn/T/ipykernel_10912/3597693706.py:8: FutureWarning: Calling float on a single element Series is deprecated and will raise a TypeError in the future. Use float(ser.iloc[0]) instead\n",
      "  \"HRV_RMSSD\":      float(features.get(\"HRV_RMSSD\", 0)),\n",
      "/var/folders/25/rb9t435n4mzgnk1l82dg2c1c0000gn/T/ipykernel_10912/3597693706.py:9: FutureWarning: Calling float on a single element Series is deprecated and will raise a TypeError in the future. Use float(ser.iloc[0]) instead\n",
      "  \"HRV_pNN50\":      float(features.get(\"HRV_pNN50\", 0)),\n"
     ]
    },
    {
     "name": "stdout",
     "output_type": "stream",
     "text": [
      "Saved features for sub10_l2_c0_combined_cleaned_fecg.npy to sub10_l2_c0_combined_cleaned_fecg_features.json\n"
     ]
    },
    {
     "name": "stderr",
     "output_type": "stream",
     "text": [
      "/var/folders/25/rb9t435n4mzgnk1l82dg2c1c0000gn/T/ipykernel_10912/3597693706.py:6: FutureWarning: Calling float on a single element Series is deprecated and will raise a TypeError in the future. Use float(ser.iloc[0]) instead\n",
      "  \"ECG_Rate_Mean\":  float(features.get(\"ECG_Rate_Mean\", 0)),\n",
      "/var/folders/25/rb9t435n4mzgnk1l82dg2c1c0000gn/T/ipykernel_10912/3597693706.py:7: FutureWarning: Calling float on a single element Series is deprecated and will raise a TypeError in the future. Use float(ser.iloc[0]) instead\n",
      "  \"HRV_SDNN\":       float(features.get(\"HRV_SDNN\", 0)),\n",
      "/var/folders/25/rb9t435n4mzgnk1l82dg2c1c0000gn/T/ipykernel_10912/3597693706.py:8: FutureWarning: Calling float on a single element Series is deprecated and will raise a TypeError in the future. Use float(ser.iloc[0]) instead\n",
      "  \"HRV_RMSSD\":      float(features.get(\"HRV_RMSSD\", 0)),\n",
      "/var/folders/25/rb9t435n4mzgnk1l82dg2c1c0000gn/T/ipykernel_10912/3597693706.py:9: FutureWarning: Calling float on a single element Series is deprecated and will raise a TypeError in the future. Use float(ser.iloc[0]) instead\n",
      "  \"HRV_pNN50\":      float(features.get(\"HRV_pNN50\", 0)),\n"
     ]
    },
    {
     "name": "stdout",
     "output_type": "stream",
     "text": [
      "Saved features for sub01_l4_c0_combined_cleaned_fecg.npy to sub01_l4_c0_combined_cleaned_fecg_features.json\n"
     ]
    },
    {
     "name": "stderr",
     "output_type": "stream",
     "text": [
      "/var/folders/25/rb9t435n4mzgnk1l82dg2c1c0000gn/T/ipykernel_10912/3597693706.py:6: FutureWarning: Calling float on a single element Series is deprecated and will raise a TypeError in the future. Use float(ser.iloc[0]) instead\n",
      "  \"ECG_Rate_Mean\":  float(features.get(\"ECG_Rate_Mean\", 0)),\n",
      "/var/folders/25/rb9t435n4mzgnk1l82dg2c1c0000gn/T/ipykernel_10912/3597693706.py:7: FutureWarning: Calling float on a single element Series is deprecated and will raise a TypeError in the future. Use float(ser.iloc[0]) instead\n",
      "  \"HRV_SDNN\":       float(features.get(\"HRV_SDNN\", 0)),\n",
      "/var/folders/25/rb9t435n4mzgnk1l82dg2c1c0000gn/T/ipykernel_10912/3597693706.py:8: FutureWarning: Calling float on a single element Series is deprecated and will raise a TypeError in the future. Use float(ser.iloc[0]) instead\n",
      "  \"HRV_RMSSD\":      float(features.get(\"HRV_RMSSD\", 0)),\n",
      "/var/folders/25/rb9t435n4mzgnk1l82dg2c1c0000gn/T/ipykernel_10912/3597693706.py:9: FutureWarning: Calling float on a single element Series is deprecated and will raise a TypeError in the future. Use float(ser.iloc[0]) instead\n",
      "  \"HRV_pNN50\":      float(features.get(\"HRV_pNN50\", 0)),\n"
     ]
    },
    {
     "name": "stdout",
     "output_type": "stream",
     "text": [
      "Saved features for sub06_l2_c0_combined_cleaned_mecg.npy to sub06_l2_c0_combined_cleaned_mecg_features.json\n"
     ]
    },
    {
     "name": "stderr",
     "output_type": "stream",
     "text": [
      "/var/folders/25/rb9t435n4mzgnk1l82dg2c1c0000gn/T/ipykernel_10912/3597693706.py:6: FutureWarning: Calling float on a single element Series is deprecated and will raise a TypeError in the future. Use float(ser.iloc[0]) instead\n",
      "  \"ECG_Rate_Mean\":  float(features.get(\"ECG_Rate_Mean\", 0)),\n",
      "/var/folders/25/rb9t435n4mzgnk1l82dg2c1c0000gn/T/ipykernel_10912/3597693706.py:7: FutureWarning: Calling float on a single element Series is deprecated and will raise a TypeError in the future. Use float(ser.iloc[0]) instead\n",
      "  \"HRV_SDNN\":       float(features.get(\"HRV_SDNN\", 0)),\n",
      "/var/folders/25/rb9t435n4mzgnk1l82dg2c1c0000gn/T/ipykernel_10912/3597693706.py:8: FutureWarning: Calling float on a single element Series is deprecated and will raise a TypeError in the future. Use float(ser.iloc[0]) instead\n",
      "  \"HRV_RMSSD\":      float(features.get(\"HRV_RMSSD\", 0)),\n",
      "/var/folders/25/rb9t435n4mzgnk1l82dg2c1c0000gn/T/ipykernel_10912/3597693706.py:9: FutureWarning: Calling float on a single element Series is deprecated and will raise a TypeError in the future. Use float(ser.iloc[0]) instead\n",
      "  \"HRV_pNN50\":      float(features.get(\"HRV_pNN50\", 0)),\n"
     ]
    },
    {
     "name": "stdout",
     "output_type": "stream",
     "text": [
      "Saved features for sub07_l2_c0_combined_cleaned_fecg.npy to sub07_l2_c0_combined_cleaned_fecg_features.json\n"
     ]
    },
    {
     "name": "stderr",
     "output_type": "stream",
     "text": [
      "/var/folders/25/rb9t435n4mzgnk1l82dg2c1c0000gn/T/ipykernel_10912/3597693706.py:6: FutureWarning: Calling float on a single element Series is deprecated and will raise a TypeError in the future. Use float(ser.iloc[0]) instead\n",
      "  \"ECG_Rate_Mean\":  float(features.get(\"ECG_Rate_Mean\", 0)),\n",
      "/var/folders/25/rb9t435n4mzgnk1l82dg2c1c0000gn/T/ipykernel_10912/3597693706.py:7: FutureWarning: Calling float on a single element Series is deprecated and will raise a TypeError in the future. Use float(ser.iloc[0]) instead\n",
      "  \"HRV_SDNN\":       float(features.get(\"HRV_SDNN\", 0)),\n",
      "/var/folders/25/rb9t435n4mzgnk1l82dg2c1c0000gn/T/ipykernel_10912/3597693706.py:8: FutureWarning: Calling float on a single element Series is deprecated and will raise a TypeError in the future. Use float(ser.iloc[0]) instead\n",
      "  \"HRV_RMSSD\":      float(features.get(\"HRV_RMSSD\", 0)),\n",
      "/var/folders/25/rb9t435n4mzgnk1l82dg2c1c0000gn/T/ipykernel_10912/3597693706.py:9: FutureWarning: Calling float on a single element Series is deprecated and will raise a TypeError in the future. Use float(ser.iloc[0]) instead\n",
      "  \"HRV_pNN50\":      float(features.get(\"HRV_pNN50\", 0)),\n"
     ]
    },
    {
     "name": "stdout",
     "output_type": "stream",
     "text": [
      "Saved features for sub04_l4_c0_combined_cleaned_fecg.npy to sub04_l4_c0_combined_cleaned_fecg_features.json\n"
     ]
    },
    {
     "name": "stderr",
     "output_type": "stream",
     "text": [
      "/var/folders/25/rb9t435n4mzgnk1l82dg2c1c0000gn/T/ipykernel_10912/3597693706.py:6: FutureWarning: Calling float on a single element Series is deprecated and will raise a TypeError in the future. Use float(ser.iloc[0]) instead\n",
      "  \"ECG_Rate_Mean\":  float(features.get(\"ECG_Rate_Mean\", 0)),\n",
      "/var/folders/25/rb9t435n4mzgnk1l82dg2c1c0000gn/T/ipykernel_10912/3597693706.py:7: FutureWarning: Calling float on a single element Series is deprecated and will raise a TypeError in the future. Use float(ser.iloc[0]) instead\n",
      "  \"HRV_SDNN\":       float(features.get(\"HRV_SDNN\", 0)),\n",
      "/var/folders/25/rb9t435n4mzgnk1l82dg2c1c0000gn/T/ipykernel_10912/3597693706.py:8: FutureWarning: Calling float on a single element Series is deprecated and will raise a TypeError in the future. Use float(ser.iloc[0]) instead\n",
      "  \"HRV_RMSSD\":      float(features.get(\"HRV_RMSSD\", 0)),\n",
      "/var/folders/25/rb9t435n4mzgnk1l82dg2c1c0000gn/T/ipykernel_10912/3597693706.py:9: FutureWarning: Calling float on a single element Series is deprecated and will raise a TypeError in the future. Use float(ser.iloc[0]) instead\n",
      "  \"HRV_pNN50\":      float(features.get(\"HRV_pNN50\", 0)),\n"
     ]
    },
    {
     "name": "stdout",
     "output_type": "stream",
     "text": [
      "Saved features for sub03_l2_c0_combined_cleaned_mecg.npy to sub03_l2_c0_combined_cleaned_mecg_features.json\n"
     ]
    },
    {
     "name": "stderr",
     "output_type": "stream",
     "text": [
      "/var/folders/25/rb9t435n4mzgnk1l82dg2c1c0000gn/T/ipykernel_10912/3597693706.py:6: FutureWarning: Calling float on a single element Series is deprecated and will raise a TypeError in the future. Use float(ser.iloc[0]) instead\n",
      "  \"ECG_Rate_Mean\":  float(features.get(\"ECG_Rate_Mean\", 0)),\n",
      "/var/folders/25/rb9t435n4mzgnk1l82dg2c1c0000gn/T/ipykernel_10912/3597693706.py:7: FutureWarning: Calling float on a single element Series is deprecated and will raise a TypeError in the future. Use float(ser.iloc[0]) instead\n",
      "  \"HRV_SDNN\":       float(features.get(\"HRV_SDNN\", 0)),\n",
      "/var/folders/25/rb9t435n4mzgnk1l82dg2c1c0000gn/T/ipykernel_10912/3597693706.py:8: FutureWarning: Calling float on a single element Series is deprecated and will raise a TypeError in the future. Use float(ser.iloc[0]) instead\n",
      "  \"HRV_RMSSD\":      float(features.get(\"HRV_RMSSD\", 0)),\n",
      "/var/folders/25/rb9t435n4mzgnk1l82dg2c1c0000gn/T/ipykernel_10912/3597693706.py:9: FutureWarning: Calling float on a single element Series is deprecated and will raise a TypeError in the future. Use float(ser.iloc[0]) instead\n",
      "  \"HRV_pNN50\":      float(features.get(\"HRV_pNN50\", 0)),\n"
     ]
    },
    {
     "name": "stdout",
     "output_type": "stream",
     "text": [
      "Saved features for sub08_l5_c0_combined_cleaned_fecg.npy to sub08_l5_c0_combined_cleaned_fecg_features.json\n"
     ]
    },
    {
     "name": "stderr",
     "output_type": "stream",
     "text": [
      "/var/folders/25/rb9t435n4mzgnk1l82dg2c1c0000gn/T/ipykernel_10912/3597693706.py:6: FutureWarning: Calling float on a single element Series is deprecated and will raise a TypeError in the future. Use float(ser.iloc[0]) instead\n",
      "  \"ECG_Rate_Mean\":  float(features.get(\"ECG_Rate_Mean\", 0)),\n",
      "/var/folders/25/rb9t435n4mzgnk1l82dg2c1c0000gn/T/ipykernel_10912/3597693706.py:7: FutureWarning: Calling float on a single element Series is deprecated and will raise a TypeError in the future. Use float(ser.iloc[0]) instead\n",
      "  \"HRV_SDNN\":       float(features.get(\"HRV_SDNN\", 0)),\n",
      "/var/folders/25/rb9t435n4mzgnk1l82dg2c1c0000gn/T/ipykernel_10912/3597693706.py:8: FutureWarning: Calling float on a single element Series is deprecated and will raise a TypeError in the future. Use float(ser.iloc[0]) instead\n",
      "  \"HRV_RMSSD\":      float(features.get(\"HRV_RMSSD\", 0)),\n",
      "/var/folders/25/rb9t435n4mzgnk1l82dg2c1c0000gn/T/ipykernel_10912/3597693706.py:9: FutureWarning: Calling float on a single element Series is deprecated and will raise a TypeError in the future. Use float(ser.iloc[0]) instead\n",
      "  \"HRV_pNN50\":      float(features.get(\"HRV_pNN50\", 0)),\n"
     ]
    },
    {
     "name": "stdout",
     "output_type": "stream",
     "text": [
      "Saved features for sub10_l4_c0_combined_cleaned_fecg.npy to sub10_l4_c0_combined_cleaned_fecg_features.json\n"
     ]
    },
    {
     "name": "stderr",
     "output_type": "stream",
     "text": [
      "/var/folders/25/rb9t435n4mzgnk1l82dg2c1c0000gn/T/ipykernel_10912/3597693706.py:6: FutureWarning: Calling float on a single element Series is deprecated and will raise a TypeError in the future. Use float(ser.iloc[0]) instead\n",
      "  \"ECG_Rate_Mean\":  float(features.get(\"ECG_Rate_Mean\", 0)),\n",
      "/var/folders/25/rb9t435n4mzgnk1l82dg2c1c0000gn/T/ipykernel_10912/3597693706.py:7: FutureWarning: Calling float on a single element Series is deprecated and will raise a TypeError in the future. Use float(ser.iloc[0]) instead\n",
      "  \"HRV_SDNN\":       float(features.get(\"HRV_SDNN\", 0)),\n",
      "/var/folders/25/rb9t435n4mzgnk1l82dg2c1c0000gn/T/ipykernel_10912/3597693706.py:8: FutureWarning: Calling float on a single element Series is deprecated and will raise a TypeError in the future. Use float(ser.iloc[0]) instead\n",
      "  \"HRV_RMSSD\":      float(features.get(\"HRV_RMSSD\", 0)),\n",
      "/var/folders/25/rb9t435n4mzgnk1l82dg2c1c0000gn/T/ipykernel_10912/3597693706.py:9: FutureWarning: Calling float on a single element Series is deprecated and will raise a TypeError in the future. Use float(ser.iloc[0]) instead\n",
      "  \"HRV_pNN50\":      float(features.get(\"HRV_pNN50\", 0)),\n"
     ]
    },
    {
     "name": "stdout",
     "output_type": "stream",
     "text": [
      "Saved features for sub01_l2_c0_combined_cleaned_fecg.npy to sub01_l2_c0_combined_cleaned_fecg_features.json\n"
     ]
    },
    {
     "name": "stderr",
     "output_type": "stream",
     "text": [
      "/var/folders/25/rb9t435n4mzgnk1l82dg2c1c0000gn/T/ipykernel_10912/3597693706.py:6: FutureWarning: Calling float on a single element Series is deprecated and will raise a TypeError in the future. Use float(ser.iloc[0]) instead\n",
      "  \"ECG_Rate_Mean\":  float(features.get(\"ECG_Rate_Mean\", 0)),\n",
      "/var/folders/25/rb9t435n4mzgnk1l82dg2c1c0000gn/T/ipykernel_10912/3597693706.py:7: FutureWarning: Calling float on a single element Series is deprecated and will raise a TypeError in the future. Use float(ser.iloc[0]) instead\n",
      "  \"HRV_SDNN\":       float(features.get(\"HRV_SDNN\", 0)),\n",
      "/var/folders/25/rb9t435n4mzgnk1l82dg2c1c0000gn/T/ipykernel_10912/3597693706.py:8: FutureWarning: Calling float on a single element Series is deprecated and will raise a TypeError in the future. Use float(ser.iloc[0]) instead\n",
      "  \"HRV_RMSSD\":      float(features.get(\"HRV_RMSSD\", 0)),\n",
      "/var/folders/25/rb9t435n4mzgnk1l82dg2c1c0000gn/T/ipykernel_10912/3597693706.py:9: FutureWarning: Calling float on a single element Series is deprecated and will raise a TypeError in the future. Use float(ser.iloc[0]) instead\n",
      "  \"HRV_pNN50\":      float(features.get(\"HRV_pNN50\", 0)),\n"
     ]
    },
    {
     "name": "stdout",
     "output_type": "stream",
     "text": [
      "Saved features for sub06_l4_c0_combined_cleaned_mecg.npy to sub06_l4_c0_combined_cleaned_mecg_features.json\n"
     ]
    },
    {
     "name": "stderr",
     "output_type": "stream",
     "text": [
      "/var/folders/25/rb9t435n4mzgnk1l82dg2c1c0000gn/T/ipykernel_10912/3597693706.py:6: FutureWarning: Calling float on a single element Series is deprecated and will raise a TypeError in the future. Use float(ser.iloc[0]) instead\n",
      "  \"ECG_Rate_Mean\":  float(features.get(\"ECG_Rate_Mean\", 0)),\n",
      "/var/folders/25/rb9t435n4mzgnk1l82dg2c1c0000gn/T/ipykernel_10912/3597693706.py:7: FutureWarning: Calling float on a single element Series is deprecated and will raise a TypeError in the future. Use float(ser.iloc[0]) instead\n",
      "  \"HRV_SDNN\":       float(features.get(\"HRV_SDNN\", 0)),\n",
      "/var/folders/25/rb9t435n4mzgnk1l82dg2c1c0000gn/T/ipykernel_10912/3597693706.py:8: FutureWarning: Calling float on a single element Series is deprecated and will raise a TypeError in the future. Use float(ser.iloc[0]) instead\n",
      "  \"HRV_RMSSD\":      float(features.get(\"HRV_RMSSD\", 0)),\n",
      "/var/folders/25/rb9t435n4mzgnk1l82dg2c1c0000gn/T/ipykernel_10912/3597693706.py:9: FutureWarning: Calling float on a single element Series is deprecated and will raise a TypeError in the future. Use float(ser.iloc[0]) instead\n",
      "  \"HRV_pNN50\":      float(features.get(\"HRV_pNN50\", 0)),\n"
     ]
    },
    {
     "name": "stdout",
     "output_type": "stream",
     "text": [
      "Saved features for sub08_l1_c0_combined_cleaned_mecg.npy to sub08_l1_c0_combined_cleaned_mecg_features.json\n"
     ]
    },
    {
     "name": "stderr",
     "output_type": "stream",
     "text": [
      "/var/folders/25/rb9t435n4mzgnk1l82dg2c1c0000gn/T/ipykernel_10912/3597693706.py:6: FutureWarning: Calling float on a single element Series is deprecated and will raise a TypeError in the future. Use float(ser.iloc[0]) instead\n",
      "  \"ECG_Rate_Mean\":  float(features.get(\"ECG_Rate_Mean\", 0)),\n",
      "/var/folders/25/rb9t435n4mzgnk1l82dg2c1c0000gn/T/ipykernel_10912/3597693706.py:7: FutureWarning: Calling float on a single element Series is deprecated and will raise a TypeError in the future. Use float(ser.iloc[0]) instead\n",
      "  \"HRV_SDNN\":       float(features.get(\"HRV_SDNN\", 0)),\n",
      "/var/folders/25/rb9t435n4mzgnk1l82dg2c1c0000gn/T/ipykernel_10912/3597693706.py:8: FutureWarning: Calling float on a single element Series is deprecated and will raise a TypeError in the future. Use float(ser.iloc[0]) instead\n",
      "  \"HRV_RMSSD\":      float(features.get(\"HRV_RMSSD\", 0)),\n",
      "/var/folders/25/rb9t435n4mzgnk1l82dg2c1c0000gn/T/ipykernel_10912/3597693706.py:9: FutureWarning: Calling float on a single element Series is deprecated and will raise a TypeError in the future. Use float(ser.iloc[0]) instead\n",
      "  \"HRV_pNN50\":      float(features.get(\"HRV_pNN50\", 0)),\n"
     ]
    },
    {
     "name": "stdout",
     "output_type": "stream",
     "text": [
      "Saved features for sub05_l2_c0_combined_cleaned_mecg.npy to sub05_l2_c0_combined_cleaned_mecg_features.json\n"
     ]
    },
    {
     "name": "stderr",
     "output_type": "stream",
     "text": [
      "/var/folders/25/rb9t435n4mzgnk1l82dg2c1c0000gn/T/ipykernel_10912/3597693706.py:6: FutureWarning: Calling float on a single element Series is deprecated and will raise a TypeError in the future. Use float(ser.iloc[0]) instead\n",
      "  \"ECG_Rate_Mean\":  float(features.get(\"ECG_Rate_Mean\", 0)),\n",
      "/var/folders/25/rb9t435n4mzgnk1l82dg2c1c0000gn/T/ipykernel_10912/3597693706.py:7: FutureWarning: Calling float on a single element Series is deprecated and will raise a TypeError in the future. Use float(ser.iloc[0]) instead\n",
      "  \"HRV_SDNN\":       float(features.get(\"HRV_SDNN\", 0)),\n",
      "/var/folders/25/rb9t435n4mzgnk1l82dg2c1c0000gn/T/ipykernel_10912/3597693706.py:8: FutureWarning: Calling float on a single element Series is deprecated and will raise a TypeError in the future. Use float(ser.iloc[0]) instead\n",
      "  \"HRV_RMSSD\":      float(features.get(\"HRV_RMSSD\", 0)),\n",
      "/var/folders/25/rb9t435n4mzgnk1l82dg2c1c0000gn/T/ipykernel_10912/3597693706.py:9: FutureWarning: Calling float on a single element Series is deprecated and will raise a TypeError in the future. Use float(ser.iloc[0]) instead\n",
      "  \"HRV_pNN50\":      float(features.get(\"HRV_pNN50\", 0)),\n"
     ]
    },
    {
     "name": "stdout",
     "output_type": "stream",
     "text": [
      "Saved features for sub09_l3_c0_combined_cleaned_mecg.npy to sub09_l3_c0_combined_cleaned_mecg_features.json\n"
     ]
    },
    {
     "name": "stderr",
     "output_type": "stream",
     "text": [
      "/var/folders/25/rb9t435n4mzgnk1l82dg2c1c0000gn/T/ipykernel_10912/3597693706.py:6: FutureWarning: Calling float on a single element Series is deprecated and will raise a TypeError in the future. Use float(ser.iloc[0]) instead\n",
      "  \"ECG_Rate_Mean\":  float(features.get(\"ECG_Rate_Mean\", 0)),\n",
      "/var/folders/25/rb9t435n4mzgnk1l82dg2c1c0000gn/T/ipykernel_10912/3597693706.py:7: FutureWarning: Calling float on a single element Series is deprecated and will raise a TypeError in the future. Use float(ser.iloc[0]) instead\n",
      "  \"HRV_SDNN\":       float(features.get(\"HRV_SDNN\", 0)),\n",
      "/var/folders/25/rb9t435n4mzgnk1l82dg2c1c0000gn/T/ipykernel_10912/3597693706.py:8: FutureWarning: Calling float on a single element Series is deprecated and will raise a TypeError in the future. Use float(ser.iloc[0]) instead\n",
      "  \"HRV_RMSSD\":      float(features.get(\"HRV_RMSSD\", 0)),\n",
      "/var/folders/25/rb9t435n4mzgnk1l82dg2c1c0000gn/T/ipykernel_10912/3597693706.py:9: FutureWarning: Calling float on a single element Series is deprecated and will raise a TypeError in the future. Use float(ser.iloc[0]) instead\n",
      "  \"HRV_pNN50\":      float(features.get(\"HRV_pNN50\", 0)),\n"
     ]
    },
    {
     "name": "stdout",
     "output_type": "stream",
     "text": [
      "Saved features for sub02_l4_c0_combined_cleaned_fecg.npy to sub02_l4_c0_combined_cleaned_fecg_features.json\n"
     ]
    },
    {
     "name": "stderr",
     "output_type": "stream",
     "text": [
      "/var/folders/25/rb9t435n4mzgnk1l82dg2c1c0000gn/T/ipykernel_10912/3597693706.py:6: FutureWarning: Calling float on a single element Series is deprecated and will raise a TypeError in the future. Use float(ser.iloc[0]) instead\n",
      "  \"ECG_Rate_Mean\":  float(features.get(\"ECG_Rate_Mean\", 0)),\n",
      "/var/folders/25/rb9t435n4mzgnk1l82dg2c1c0000gn/T/ipykernel_10912/3597693706.py:7: FutureWarning: Calling float on a single element Series is deprecated and will raise a TypeError in the future. Use float(ser.iloc[0]) instead\n",
      "  \"HRV_SDNN\":       float(features.get(\"HRV_SDNN\", 0)),\n",
      "/var/folders/25/rb9t435n4mzgnk1l82dg2c1c0000gn/T/ipykernel_10912/3597693706.py:8: FutureWarning: Calling float on a single element Series is deprecated and will raise a TypeError in the future. Use float(ser.iloc[0]) instead\n",
      "  \"HRV_RMSSD\":      float(features.get(\"HRV_RMSSD\", 0)),\n",
      "/var/folders/25/rb9t435n4mzgnk1l82dg2c1c0000gn/T/ipykernel_10912/3597693706.py:9: FutureWarning: Calling float on a single element Series is deprecated and will raise a TypeError in the future. Use float(ser.iloc[0]) instead\n",
      "  \"HRV_pNN50\":      float(features.get(\"HRV_pNN50\", 0)),\n"
     ]
    },
    {
     "name": "stdout",
     "output_type": "stream",
     "text": [
      "Saved features for sub09_l1_c0_combined_cleaned_fecg.npy to sub09_l1_c0_combined_cleaned_fecg_features.json\n"
     ]
    },
    {
     "name": "stderr",
     "output_type": "stream",
     "text": [
      "/var/folders/25/rb9t435n4mzgnk1l82dg2c1c0000gn/T/ipykernel_10912/3597693706.py:6: FutureWarning: Calling float on a single element Series is deprecated and will raise a TypeError in the future. Use float(ser.iloc[0]) instead\n",
      "  \"ECG_Rate_Mean\":  float(features.get(\"ECG_Rate_Mean\", 0)),\n",
      "/var/folders/25/rb9t435n4mzgnk1l82dg2c1c0000gn/T/ipykernel_10912/3597693706.py:7: FutureWarning: Calling float on a single element Series is deprecated and will raise a TypeError in the future. Use float(ser.iloc[0]) instead\n",
      "  \"HRV_SDNN\":       float(features.get(\"HRV_SDNN\", 0)),\n",
      "/var/folders/25/rb9t435n4mzgnk1l82dg2c1c0000gn/T/ipykernel_10912/3597693706.py:8: FutureWarning: Calling float on a single element Series is deprecated and will raise a TypeError in the future. Use float(ser.iloc[0]) instead\n",
      "  \"HRV_RMSSD\":      float(features.get(\"HRV_RMSSD\", 0)),\n",
      "/var/folders/25/rb9t435n4mzgnk1l82dg2c1c0000gn/T/ipykernel_10912/3597693706.py:9: FutureWarning: Calling float on a single element Series is deprecated and will raise a TypeError in the future. Use float(ser.iloc[0]) instead\n",
      "  \"HRV_pNN50\":      float(features.get(\"HRV_pNN50\", 0)),\n"
     ]
    },
    {
     "name": "stdout",
     "output_type": "stream",
     "text": [
      "Saved features for sub04_l2_c0_combined_cleaned_fecg.npy to sub04_l2_c0_combined_cleaned_fecg_features.json\n"
     ]
    },
    {
     "name": "stderr",
     "output_type": "stream",
     "text": [
      "/var/folders/25/rb9t435n4mzgnk1l82dg2c1c0000gn/T/ipykernel_10912/3597693706.py:6: FutureWarning: Calling float on a single element Series is deprecated and will raise a TypeError in the future. Use float(ser.iloc[0]) instead\n",
      "  \"ECG_Rate_Mean\":  float(features.get(\"ECG_Rate_Mean\", 0)),\n",
      "/var/folders/25/rb9t435n4mzgnk1l82dg2c1c0000gn/T/ipykernel_10912/3597693706.py:7: FutureWarning: Calling float on a single element Series is deprecated and will raise a TypeError in the future. Use float(ser.iloc[0]) instead\n",
      "  \"HRV_SDNN\":       float(features.get(\"HRV_SDNN\", 0)),\n",
      "/var/folders/25/rb9t435n4mzgnk1l82dg2c1c0000gn/T/ipykernel_10912/3597693706.py:8: FutureWarning: Calling float on a single element Series is deprecated and will raise a TypeError in the future. Use float(ser.iloc[0]) instead\n",
      "  \"HRV_RMSSD\":      float(features.get(\"HRV_RMSSD\", 0)),\n",
      "/var/folders/25/rb9t435n4mzgnk1l82dg2c1c0000gn/T/ipykernel_10912/3597693706.py:9: FutureWarning: Calling float on a single element Series is deprecated and will raise a TypeError in the future. Use float(ser.iloc[0]) instead\n",
      "  \"HRV_pNN50\":      float(features.get(\"HRV_pNN50\", 0)),\n"
     ]
    },
    {
     "name": "stdout",
     "output_type": "stream",
     "text": [
      "Saved features for sub08_l3_c0_combined_cleaned_fecg.npy to sub08_l3_c0_combined_cleaned_fecg_features.json\n"
     ]
    },
    {
     "name": "stderr",
     "output_type": "stream",
     "text": [
      "/var/folders/25/rb9t435n4mzgnk1l82dg2c1c0000gn/T/ipykernel_10912/3597693706.py:6: FutureWarning: Calling float on a single element Series is deprecated and will raise a TypeError in the future. Use float(ser.iloc[0]) instead\n",
      "  \"ECG_Rate_Mean\":  float(features.get(\"ECG_Rate_Mean\", 0)),\n",
      "/var/folders/25/rb9t435n4mzgnk1l82dg2c1c0000gn/T/ipykernel_10912/3597693706.py:7: FutureWarning: Calling float on a single element Series is deprecated and will raise a TypeError in the future. Use float(ser.iloc[0]) instead\n",
      "  \"HRV_SDNN\":       float(features.get(\"HRV_SDNN\", 0)),\n",
      "/var/folders/25/rb9t435n4mzgnk1l82dg2c1c0000gn/T/ipykernel_10912/3597693706.py:8: FutureWarning: Calling float on a single element Series is deprecated and will raise a TypeError in the future. Use float(ser.iloc[0]) instead\n",
      "  \"HRV_RMSSD\":      float(features.get(\"HRV_RMSSD\", 0)),\n",
      "/var/folders/25/rb9t435n4mzgnk1l82dg2c1c0000gn/T/ipykernel_10912/3597693706.py:9: FutureWarning: Calling float on a single element Series is deprecated and will raise a TypeError in the future. Use float(ser.iloc[0]) instead\n",
      "  \"HRV_pNN50\":      float(features.get(\"HRV_pNN50\", 0)),\n"
     ]
    },
    {
     "name": "stdout",
     "output_type": "stream",
     "text": [
      "Saved features for sub03_l4_c0_combined_cleaned_mecg.npy to sub03_l4_c0_combined_cleaned_mecg_features.json\n"
     ]
    },
    {
     "name": "stderr",
     "output_type": "stream",
     "text": [
      "/var/folders/25/rb9t435n4mzgnk1l82dg2c1c0000gn/T/ipykernel_10912/3597693706.py:6: FutureWarning: Calling float on a single element Series is deprecated and will raise a TypeError in the future. Use float(ser.iloc[0]) instead\n",
      "  \"ECG_Rate_Mean\":  float(features.get(\"ECG_Rate_Mean\", 0)),\n",
      "/var/folders/25/rb9t435n4mzgnk1l82dg2c1c0000gn/T/ipykernel_10912/3597693706.py:7: FutureWarning: Calling float on a single element Series is deprecated and will raise a TypeError in the future. Use float(ser.iloc[0]) instead\n",
      "  \"HRV_SDNN\":       float(features.get(\"HRV_SDNN\", 0)),\n",
      "/var/folders/25/rb9t435n4mzgnk1l82dg2c1c0000gn/T/ipykernel_10912/3597693706.py:8: FutureWarning: Calling float on a single element Series is deprecated and will raise a TypeError in the future. Use float(ser.iloc[0]) instead\n",
      "  \"HRV_RMSSD\":      float(features.get(\"HRV_RMSSD\", 0)),\n",
      "/var/folders/25/rb9t435n4mzgnk1l82dg2c1c0000gn/T/ipykernel_10912/3597693706.py:9: FutureWarning: Calling float on a single element Series is deprecated and will raise a TypeError in the future. Use float(ser.iloc[0]) instead\n",
      "  \"HRV_pNN50\":      float(features.get(\"HRV_pNN50\", 0)),\n"
     ]
    },
    {
     "name": "stdout",
     "output_type": "stream",
     "text": [
      "Saved features for sub07_l4_c0_combined_cleaned_fecg.npy to sub07_l4_c0_combined_cleaned_fecg_features.json\n"
     ]
    },
    {
     "name": "stderr",
     "output_type": "stream",
     "text": [
      "/var/folders/25/rb9t435n4mzgnk1l82dg2c1c0000gn/T/ipykernel_10912/3597693706.py:6: FutureWarning: Calling float on a single element Series is deprecated and will raise a TypeError in the future. Use float(ser.iloc[0]) instead\n",
      "  \"ECG_Rate_Mean\":  float(features.get(\"ECG_Rate_Mean\", 0)),\n",
      "/var/folders/25/rb9t435n4mzgnk1l82dg2c1c0000gn/T/ipykernel_10912/3597693706.py:7: FutureWarning: Calling float on a single element Series is deprecated and will raise a TypeError in the future. Use float(ser.iloc[0]) instead\n",
      "  \"HRV_SDNN\":       float(features.get(\"HRV_SDNN\", 0)),\n",
      "/var/folders/25/rb9t435n4mzgnk1l82dg2c1c0000gn/T/ipykernel_10912/3597693706.py:8: FutureWarning: Calling float on a single element Series is deprecated and will raise a TypeError in the future. Use float(ser.iloc[0]) instead\n",
      "  \"HRV_RMSSD\":      float(features.get(\"HRV_RMSSD\", 0)),\n",
      "/var/folders/25/rb9t435n4mzgnk1l82dg2c1c0000gn/T/ipykernel_10912/3597693706.py:9: FutureWarning: Calling float on a single element Series is deprecated and will raise a TypeError in the future. Use float(ser.iloc[0]) instead\n",
      "  \"HRV_pNN50\":      float(features.get(\"HRV_pNN50\", 0)),\n"
     ]
    },
    {
     "name": "stdout",
     "output_type": "stream",
     "text": [
      "Saved features for sub04_l1_c0_combined_cleaned_fecg.npy to sub04_l1_c0_combined_cleaned_fecg_features.json\n"
     ]
    },
    {
     "name": "stderr",
     "output_type": "stream",
     "text": [
      "/var/folders/25/rb9t435n4mzgnk1l82dg2c1c0000gn/T/ipykernel_10912/3597693706.py:6: FutureWarning: Calling float on a single element Series is deprecated and will raise a TypeError in the future. Use float(ser.iloc[0]) instead\n",
      "  \"ECG_Rate_Mean\":  float(features.get(\"ECG_Rate_Mean\", 0)),\n",
      "/var/folders/25/rb9t435n4mzgnk1l82dg2c1c0000gn/T/ipykernel_10912/3597693706.py:7: FutureWarning: Calling float on a single element Series is deprecated and will raise a TypeError in the future. Use float(ser.iloc[0]) instead\n",
      "  \"HRV_SDNN\":       float(features.get(\"HRV_SDNN\", 0)),\n",
      "/var/folders/25/rb9t435n4mzgnk1l82dg2c1c0000gn/T/ipykernel_10912/3597693706.py:8: FutureWarning: Calling float on a single element Series is deprecated and will raise a TypeError in the future. Use float(ser.iloc[0]) instead\n",
      "  \"HRV_RMSSD\":      float(features.get(\"HRV_RMSSD\", 0)),\n",
      "/var/folders/25/rb9t435n4mzgnk1l82dg2c1c0000gn/T/ipykernel_10912/3597693706.py:9: FutureWarning: Calling float on a single element Series is deprecated and will raise a TypeError in the future. Use float(ser.iloc[0]) instead\n",
      "  \"HRV_pNN50\":      float(features.get(\"HRV_pNN50\", 0)),\n"
     ]
    },
    {
     "name": "stdout",
     "output_type": "stream",
     "text": [
      "Saved features for sub02_l5_c0_combined_cleaned_mecg.npy to sub02_l5_c0_combined_cleaned_mecg_features.json\n"
     ]
    },
    {
     "name": "stderr",
     "output_type": "stream",
     "text": [
      "/var/folders/25/rb9t435n4mzgnk1l82dg2c1c0000gn/T/ipykernel_10912/3597693706.py:6: FutureWarning: Calling float on a single element Series is deprecated and will raise a TypeError in the future. Use float(ser.iloc[0]) instead\n",
      "  \"ECG_Rate_Mean\":  float(features.get(\"ECG_Rate_Mean\", 0)),\n",
      "/var/folders/25/rb9t435n4mzgnk1l82dg2c1c0000gn/T/ipykernel_10912/3597693706.py:7: FutureWarning: Calling float on a single element Series is deprecated and will raise a TypeError in the future. Use float(ser.iloc[0]) instead\n",
      "  \"HRV_SDNN\":       float(features.get(\"HRV_SDNN\", 0)),\n",
      "/var/folders/25/rb9t435n4mzgnk1l82dg2c1c0000gn/T/ipykernel_10912/3597693706.py:8: FutureWarning: Calling float on a single element Series is deprecated and will raise a TypeError in the future. Use float(ser.iloc[0]) instead\n",
      "  \"HRV_RMSSD\":      float(features.get(\"HRV_RMSSD\", 0)),\n",
      "/var/folders/25/rb9t435n4mzgnk1l82dg2c1c0000gn/T/ipykernel_10912/3597693706.py:9: FutureWarning: Calling float on a single element Series is deprecated and will raise a TypeError in the future. Use float(ser.iloc[0]) instead\n",
      "  \"HRV_pNN50\":      float(features.get(\"HRV_pNN50\", 0)),\n"
     ]
    },
    {
     "name": "stdout",
     "output_type": "stream",
     "text": [
      "Saved features for sub09_l2_c0_combined_cleaned_fecg.npy to sub09_l2_c0_combined_cleaned_fecg_features.json\n"
     ]
    },
    {
     "name": "stderr",
     "output_type": "stream",
     "text": [
      "/var/folders/25/rb9t435n4mzgnk1l82dg2c1c0000gn/T/ipykernel_10912/3597693706.py:6: FutureWarning: Calling float on a single element Series is deprecated and will raise a TypeError in the future. Use float(ser.iloc[0]) instead\n",
      "  \"ECG_Rate_Mean\":  float(features.get(\"ECG_Rate_Mean\", 0)),\n",
      "/var/folders/25/rb9t435n4mzgnk1l82dg2c1c0000gn/T/ipykernel_10912/3597693706.py:7: FutureWarning: Calling float on a single element Series is deprecated and will raise a TypeError in the future. Use float(ser.iloc[0]) instead\n",
      "  \"HRV_SDNN\":       float(features.get(\"HRV_SDNN\", 0)),\n",
      "/var/folders/25/rb9t435n4mzgnk1l82dg2c1c0000gn/T/ipykernel_10912/3597693706.py:8: FutureWarning: Calling float on a single element Series is deprecated and will raise a TypeError in the future. Use float(ser.iloc[0]) instead\n",
      "  \"HRV_RMSSD\":      float(features.get(\"HRV_RMSSD\", 0)),\n",
      "/var/folders/25/rb9t435n4mzgnk1l82dg2c1c0000gn/T/ipykernel_10912/3597693706.py:9: FutureWarning: Calling float on a single element Series is deprecated and will raise a TypeError in the future. Use float(ser.iloc[0]) instead\n",
      "  \"HRV_pNN50\":      float(features.get(\"HRV_pNN50\", 0)),\n"
     ]
    },
    {
     "name": "stdout",
     "output_type": "stream",
     "text": [
      "Saved features for sub05_l3_c0_combined_cleaned_fecg.npy to sub05_l3_c0_combined_cleaned_fecg_features.json\n"
     ]
    },
    {
     "name": "stderr",
     "output_type": "stream",
     "text": [
      "/var/folders/25/rb9t435n4mzgnk1l82dg2c1c0000gn/T/ipykernel_10912/3597693706.py:6: FutureWarning: Calling float on a single element Series is deprecated and will raise a TypeError in the future. Use float(ser.iloc[0]) instead\n",
      "  \"ECG_Rate_Mean\":  float(features.get(\"ECG_Rate_Mean\", 0)),\n",
      "/var/folders/25/rb9t435n4mzgnk1l82dg2c1c0000gn/T/ipykernel_10912/3597693706.py:7: FutureWarning: Calling float on a single element Series is deprecated and will raise a TypeError in the future. Use float(ser.iloc[0]) instead\n",
      "  \"HRV_SDNN\":       float(features.get(\"HRV_SDNN\", 0)),\n",
      "/var/folders/25/rb9t435n4mzgnk1l82dg2c1c0000gn/T/ipykernel_10912/3597693706.py:8: FutureWarning: Calling float on a single element Series is deprecated and will raise a TypeError in the future. Use float(ser.iloc[0]) instead\n",
      "  \"HRV_RMSSD\":      float(features.get(\"HRV_RMSSD\", 0)),\n",
      "/var/folders/25/rb9t435n4mzgnk1l82dg2c1c0000gn/T/ipykernel_10912/3597693706.py:9: FutureWarning: Calling float on a single element Series is deprecated and will raise a TypeError in the future. Use float(ser.iloc[0]) instead\n",
      "  \"HRV_pNN50\":      float(features.get(\"HRV_pNN50\", 0)),\n"
     ]
    },
    {
     "name": "stdout",
     "output_type": "stream",
     "text": [
      "Saved features for sub06_l5_c0_combined_cleaned_fecg.npy to sub06_l5_c0_combined_cleaned_fecg_features.json\n"
     ]
    },
    {
     "name": "stderr",
     "output_type": "stream",
     "text": [
      "/var/folders/25/rb9t435n4mzgnk1l82dg2c1c0000gn/T/ipykernel_10912/3597693706.py:6: FutureWarning: Calling float on a single element Series is deprecated and will raise a TypeError in the future. Use float(ser.iloc[0]) instead\n",
      "  \"ECG_Rate_Mean\":  float(features.get(\"ECG_Rate_Mean\", 0)),\n",
      "/var/folders/25/rb9t435n4mzgnk1l82dg2c1c0000gn/T/ipykernel_10912/3597693706.py:7: FutureWarning: Calling float on a single element Series is deprecated and will raise a TypeError in the future. Use float(ser.iloc[0]) instead\n",
      "  \"HRV_SDNN\":       float(features.get(\"HRV_SDNN\", 0)),\n",
      "/var/folders/25/rb9t435n4mzgnk1l82dg2c1c0000gn/T/ipykernel_10912/3597693706.py:8: FutureWarning: Calling float on a single element Series is deprecated and will raise a TypeError in the future. Use float(ser.iloc[0]) instead\n",
      "  \"HRV_RMSSD\":      float(features.get(\"HRV_RMSSD\", 0)),\n",
      "/var/folders/25/rb9t435n4mzgnk1l82dg2c1c0000gn/T/ipykernel_10912/3597693706.py:9: FutureWarning: Calling float on a single element Series is deprecated and will raise a TypeError in the future. Use float(ser.iloc[0]) instead\n",
      "  \"HRV_pNN50\":      float(features.get(\"HRV_pNN50\", 0)),\n"
     ]
    },
    {
     "name": "stdout",
     "output_type": "stream",
     "text": [
      "Saved features for sub10_l5_c0_combined_cleaned_mecg.npy to sub10_l5_c0_combined_cleaned_mecg_features.json\n"
     ]
    },
    {
     "name": "stderr",
     "output_type": "stream",
     "text": [
      "/var/folders/25/rb9t435n4mzgnk1l82dg2c1c0000gn/T/ipykernel_10912/3597693706.py:6: FutureWarning: Calling float on a single element Series is deprecated and will raise a TypeError in the future. Use float(ser.iloc[0]) instead\n",
      "  \"ECG_Rate_Mean\":  float(features.get(\"ECG_Rate_Mean\", 0)),\n",
      "/var/folders/25/rb9t435n4mzgnk1l82dg2c1c0000gn/T/ipykernel_10912/3597693706.py:7: FutureWarning: Calling float on a single element Series is deprecated and will raise a TypeError in the future. Use float(ser.iloc[0]) instead\n",
      "  \"HRV_SDNN\":       float(features.get(\"HRV_SDNN\", 0)),\n",
      "/var/folders/25/rb9t435n4mzgnk1l82dg2c1c0000gn/T/ipykernel_10912/3597693706.py:8: FutureWarning: Calling float on a single element Series is deprecated and will raise a TypeError in the future. Use float(ser.iloc[0]) instead\n",
      "  \"HRV_RMSSD\":      float(features.get(\"HRV_RMSSD\", 0)),\n",
      "/var/folders/25/rb9t435n4mzgnk1l82dg2c1c0000gn/T/ipykernel_10912/3597693706.py:9: FutureWarning: Calling float on a single element Series is deprecated and will raise a TypeError in the future. Use float(ser.iloc[0]) instead\n",
      "  \"HRV_pNN50\":      float(features.get(\"HRV_pNN50\", 0)),\n"
     ]
    },
    {
     "name": "stdout",
     "output_type": "stream",
     "text": [
      "Saved features for sub01_l3_c0_combined_cleaned_mecg.npy to sub01_l3_c0_combined_cleaned_mecg_features.json\n"
     ]
    },
    {
     "name": "stderr",
     "output_type": "stream",
     "text": [
      "/var/folders/25/rb9t435n4mzgnk1l82dg2c1c0000gn/T/ipykernel_10912/3597693706.py:6: FutureWarning: Calling float on a single element Series is deprecated and will raise a TypeError in the future. Use float(ser.iloc[0]) instead\n",
      "  \"ECG_Rate_Mean\":  float(features.get(\"ECG_Rate_Mean\", 0)),\n",
      "/var/folders/25/rb9t435n4mzgnk1l82dg2c1c0000gn/T/ipykernel_10912/3597693706.py:7: FutureWarning: Calling float on a single element Series is deprecated and will raise a TypeError in the future. Use float(ser.iloc[0]) instead\n",
      "  \"HRV_SDNN\":       float(features.get(\"HRV_SDNN\", 0)),\n",
      "/var/folders/25/rb9t435n4mzgnk1l82dg2c1c0000gn/T/ipykernel_10912/3597693706.py:8: FutureWarning: Calling float on a single element Series is deprecated and will raise a TypeError in the future. Use float(ser.iloc[0]) instead\n",
      "  \"HRV_RMSSD\":      float(features.get(\"HRV_RMSSD\", 0)),\n",
      "/var/folders/25/rb9t435n4mzgnk1l82dg2c1c0000gn/T/ipykernel_10912/3597693706.py:9: FutureWarning: Calling float on a single element Series is deprecated and will raise a TypeError in the future. Use float(ser.iloc[0]) instead\n",
      "  \"HRV_pNN50\":      float(features.get(\"HRV_pNN50\", 0)),\n"
     ]
    },
    {
     "name": "stdout",
     "output_type": "stream",
     "text": [
      "Saved features for sub07_l5_c0_combined_cleaned_mecg.npy to sub07_l5_c0_combined_cleaned_mecg_features.json\n"
     ]
    },
    {
     "name": "stderr",
     "output_type": "stream",
     "text": [
      "/var/folders/25/rb9t435n4mzgnk1l82dg2c1c0000gn/T/ipykernel_10912/3597693706.py:6: FutureWarning: Calling float on a single element Series is deprecated and will raise a TypeError in the future. Use float(ser.iloc[0]) instead\n",
      "  \"ECG_Rate_Mean\":  float(features.get(\"ECG_Rate_Mean\", 0)),\n",
      "/var/folders/25/rb9t435n4mzgnk1l82dg2c1c0000gn/T/ipykernel_10912/3597693706.py:7: FutureWarning: Calling float on a single element Series is deprecated and will raise a TypeError in the future. Use float(ser.iloc[0]) instead\n",
      "  \"HRV_SDNN\":       float(features.get(\"HRV_SDNN\", 0)),\n",
      "/var/folders/25/rb9t435n4mzgnk1l82dg2c1c0000gn/T/ipykernel_10912/3597693706.py:8: FutureWarning: Calling float on a single element Series is deprecated and will raise a TypeError in the future. Use float(ser.iloc[0]) instead\n",
      "  \"HRV_RMSSD\":      float(features.get(\"HRV_RMSSD\", 0)),\n",
      "/var/folders/25/rb9t435n4mzgnk1l82dg2c1c0000gn/T/ipykernel_10912/3597693706.py:9: FutureWarning: Calling float on a single element Series is deprecated and will raise a TypeError in the future. Use float(ser.iloc[0]) instead\n",
      "  \"HRV_pNN50\":      float(features.get(\"HRV_pNN50\", 0)),\n"
     ]
    },
    {
     "name": "stdout",
     "output_type": "stream",
     "text": [
      "Saved features for sub01_l1_c0_combined_cleaned_fecg.npy to sub01_l1_c0_combined_cleaned_fecg_features.json\n"
     ]
    },
    {
     "name": "stderr",
     "output_type": "stream",
     "text": [
      "/var/folders/25/rb9t435n4mzgnk1l82dg2c1c0000gn/T/ipykernel_10912/3597693706.py:6: FutureWarning: Calling float on a single element Series is deprecated and will raise a TypeError in the future. Use float(ser.iloc[0]) instead\n",
      "  \"ECG_Rate_Mean\":  float(features.get(\"ECG_Rate_Mean\", 0)),\n",
      "/var/folders/25/rb9t435n4mzgnk1l82dg2c1c0000gn/T/ipykernel_10912/3597693706.py:7: FutureWarning: Calling float on a single element Series is deprecated and will raise a TypeError in the future. Use float(ser.iloc[0]) instead\n",
      "  \"HRV_SDNN\":       float(features.get(\"HRV_SDNN\", 0)),\n",
      "/var/folders/25/rb9t435n4mzgnk1l82dg2c1c0000gn/T/ipykernel_10912/3597693706.py:8: FutureWarning: Calling float on a single element Series is deprecated and will raise a TypeError in the future. Use float(ser.iloc[0]) instead\n",
      "  \"HRV_RMSSD\":      float(features.get(\"HRV_RMSSD\", 0)),\n",
      "/var/folders/25/rb9t435n4mzgnk1l82dg2c1c0000gn/T/ipykernel_10912/3597693706.py:9: FutureWarning: Calling float on a single element Series is deprecated and will raise a TypeError in the future. Use float(ser.iloc[0]) instead\n",
      "  \"HRV_pNN50\":      float(features.get(\"HRV_pNN50\", 0)),\n"
     ]
    },
    {
     "name": "stdout",
     "output_type": "stream",
     "text": [
      "Saved features for sub05_l1_c0_combined_cleaned_mecg.npy to sub05_l1_c0_combined_cleaned_mecg_features.json\n"
     ]
    },
    {
     "name": "stderr",
     "output_type": "stream",
     "text": [
      "/var/folders/25/rb9t435n4mzgnk1l82dg2c1c0000gn/T/ipykernel_10912/3597693706.py:6: FutureWarning: Calling float on a single element Series is deprecated and will raise a TypeError in the future. Use float(ser.iloc[0]) instead\n",
      "  \"ECG_Rate_Mean\":  float(features.get(\"ECG_Rate_Mean\", 0)),\n",
      "/var/folders/25/rb9t435n4mzgnk1l82dg2c1c0000gn/T/ipykernel_10912/3597693706.py:7: FutureWarning: Calling float on a single element Series is deprecated and will raise a TypeError in the future. Use float(ser.iloc[0]) instead\n",
      "  \"HRV_SDNN\":       float(features.get(\"HRV_SDNN\", 0)),\n",
      "/var/folders/25/rb9t435n4mzgnk1l82dg2c1c0000gn/T/ipykernel_10912/3597693706.py:8: FutureWarning: Calling float on a single element Series is deprecated and will raise a TypeError in the future. Use float(ser.iloc[0]) instead\n",
      "  \"HRV_RMSSD\":      float(features.get(\"HRV_RMSSD\", 0)),\n",
      "/var/folders/25/rb9t435n4mzgnk1l82dg2c1c0000gn/T/ipykernel_10912/3597693706.py:9: FutureWarning: Calling float on a single element Series is deprecated and will raise a TypeError in the future. Use float(ser.iloc[0]) instead\n",
      "  \"HRV_pNN50\":      float(features.get(\"HRV_pNN50\", 0)),\n"
     ]
    },
    {
     "name": "stdout",
     "output_type": "stream",
     "text": [
      "Saved features for sub03_l5_c0_combined_cleaned_fecg.npy to sub03_l5_c0_combined_cleaned_fecg_features.json\n"
     ]
    },
    {
     "name": "stderr",
     "output_type": "stream",
     "text": [
      "/var/folders/25/rb9t435n4mzgnk1l82dg2c1c0000gn/T/ipykernel_10912/3597693706.py:6: FutureWarning: Calling float on a single element Series is deprecated and will raise a TypeError in the future. Use float(ser.iloc[0]) instead\n",
      "  \"ECG_Rate_Mean\":  float(features.get(\"ECG_Rate_Mean\", 0)),\n",
      "/var/folders/25/rb9t435n4mzgnk1l82dg2c1c0000gn/T/ipykernel_10912/3597693706.py:7: FutureWarning: Calling float on a single element Series is deprecated and will raise a TypeError in the future. Use float(ser.iloc[0]) instead\n",
      "  \"HRV_SDNN\":       float(features.get(\"HRV_SDNN\", 0)),\n",
      "/var/folders/25/rb9t435n4mzgnk1l82dg2c1c0000gn/T/ipykernel_10912/3597693706.py:8: FutureWarning: Calling float on a single element Series is deprecated and will raise a TypeError in the future. Use float(ser.iloc[0]) instead\n",
      "  \"HRV_RMSSD\":      float(features.get(\"HRV_RMSSD\", 0)),\n",
      "/var/folders/25/rb9t435n4mzgnk1l82dg2c1c0000gn/T/ipykernel_10912/3597693706.py:9: FutureWarning: Calling float on a single element Series is deprecated and will raise a TypeError in the future. Use float(ser.iloc[0]) instead\n",
      "  \"HRV_pNN50\":      float(features.get(\"HRV_pNN50\", 0)),\n"
     ]
    },
    {
     "name": "stdout",
     "output_type": "stream",
     "text": [
      "Saved features for sub08_l2_c0_combined_cleaned_mecg.npy to sub08_l2_c0_combined_cleaned_mecg_features.json\n"
     ]
    },
    {
     "name": "stderr",
     "output_type": "stream",
     "text": [
      "/var/folders/25/rb9t435n4mzgnk1l82dg2c1c0000gn/T/ipykernel_10912/3597693706.py:6: FutureWarning: Calling float on a single element Series is deprecated and will raise a TypeError in the future. Use float(ser.iloc[0]) instead\n",
      "  \"ECG_Rate_Mean\":  float(features.get(\"ECG_Rate_Mean\", 0)),\n",
      "/var/folders/25/rb9t435n4mzgnk1l82dg2c1c0000gn/T/ipykernel_10912/3597693706.py:7: FutureWarning: Calling float on a single element Series is deprecated and will raise a TypeError in the future. Use float(ser.iloc[0]) instead\n",
      "  \"HRV_SDNN\":       float(features.get(\"HRV_SDNN\", 0)),\n",
      "/var/folders/25/rb9t435n4mzgnk1l82dg2c1c0000gn/T/ipykernel_10912/3597693706.py:8: FutureWarning: Calling float on a single element Series is deprecated and will raise a TypeError in the future. Use float(ser.iloc[0]) instead\n",
      "  \"HRV_RMSSD\":      float(features.get(\"HRV_RMSSD\", 0)),\n",
      "/var/folders/25/rb9t435n4mzgnk1l82dg2c1c0000gn/T/ipykernel_10912/3597693706.py:9: FutureWarning: Calling float on a single element Series is deprecated and will raise a TypeError in the future. Use float(ser.iloc[0]) instead\n",
      "  \"HRV_pNN50\":      float(features.get(\"HRV_pNN50\", 0)),\n"
     ]
    },
    {
     "name": "stdout",
     "output_type": "stream",
     "text": [
      "Saved features for sub04_l3_c0_combined_cleaned_mecg.npy to sub04_l3_c0_combined_cleaned_mecg_features.json\n"
     ]
    },
    {
     "name": "stderr",
     "output_type": "stream",
     "text": [
      "/var/folders/25/rb9t435n4mzgnk1l82dg2c1c0000gn/T/ipykernel_10912/3597693706.py:6: FutureWarning: Calling float on a single element Series is deprecated and will raise a TypeError in the future. Use float(ser.iloc[0]) instead\n",
      "  \"ECG_Rate_Mean\":  float(features.get(\"ECG_Rate_Mean\", 0)),\n",
      "/var/folders/25/rb9t435n4mzgnk1l82dg2c1c0000gn/T/ipykernel_10912/3597693706.py:7: FutureWarning: Calling float on a single element Series is deprecated and will raise a TypeError in the future. Use float(ser.iloc[0]) instead\n",
      "  \"HRV_SDNN\":       float(features.get(\"HRV_SDNN\", 0)),\n",
      "/var/folders/25/rb9t435n4mzgnk1l82dg2c1c0000gn/T/ipykernel_10912/3597693706.py:8: FutureWarning: Calling float on a single element Series is deprecated and will raise a TypeError in the future. Use float(ser.iloc[0]) instead\n",
      "  \"HRV_RMSSD\":      float(features.get(\"HRV_RMSSD\", 0)),\n",
      "/var/folders/25/rb9t435n4mzgnk1l82dg2c1c0000gn/T/ipykernel_10912/3597693706.py:9: FutureWarning: Calling float on a single element Series is deprecated and will raise a TypeError in the future. Use float(ser.iloc[0]) instead\n",
      "  \"HRV_pNN50\":      float(features.get(\"HRV_pNN50\", 0)),\n"
     ]
    },
    {
     "name": "stdout",
     "output_type": "stream",
     "text": [
      "Saved features for sub06_l4_c0_combined_cleaned_fecg.npy to sub06_l4_c0_combined_cleaned_fecg_features.json\n"
     ]
    },
    {
     "name": "stderr",
     "output_type": "stream",
     "text": [
      "/var/folders/25/rb9t435n4mzgnk1l82dg2c1c0000gn/T/ipykernel_10912/3597693706.py:6: FutureWarning: Calling float on a single element Series is deprecated and will raise a TypeError in the future. Use float(ser.iloc[0]) instead\n",
      "  \"ECG_Rate_Mean\":  float(features.get(\"ECG_Rate_Mean\", 0)),\n",
      "/var/folders/25/rb9t435n4mzgnk1l82dg2c1c0000gn/T/ipykernel_10912/3597693706.py:7: FutureWarning: Calling float on a single element Series is deprecated and will raise a TypeError in the future. Use float(ser.iloc[0]) instead\n",
      "  \"HRV_SDNN\":       float(features.get(\"HRV_SDNN\", 0)),\n",
      "/var/folders/25/rb9t435n4mzgnk1l82dg2c1c0000gn/T/ipykernel_10912/3597693706.py:8: FutureWarning: Calling float on a single element Series is deprecated and will raise a TypeError in the future. Use float(ser.iloc[0]) instead\n",
      "  \"HRV_RMSSD\":      float(features.get(\"HRV_RMSSD\", 0)),\n",
      "/var/folders/25/rb9t435n4mzgnk1l82dg2c1c0000gn/T/ipykernel_10912/3597693706.py:9: FutureWarning: Calling float on a single element Series is deprecated and will raise a TypeError in the future. Use float(ser.iloc[0]) instead\n",
      "  \"HRV_pNN50\":      float(features.get(\"HRV_pNN50\", 0)),\n"
     ]
    },
    {
     "name": "stdout",
     "output_type": "stream",
     "text": [
      "Saved features for sub10_l4_c0_combined_cleaned_mecg.npy to sub10_l4_c0_combined_cleaned_mecg_features.json\n"
     ]
    },
    {
     "name": "stderr",
     "output_type": "stream",
     "text": [
      "/var/folders/25/rb9t435n4mzgnk1l82dg2c1c0000gn/T/ipykernel_10912/3597693706.py:6: FutureWarning: Calling float on a single element Series is deprecated and will raise a TypeError in the future. Use float(ser.iloc[0]) instead\n",
      "  \"ECG_Rate_Mean\":  float(features.get(\"ECG_Rate_Mean\", 0)),\n",
      "/var/folders/25/rb9t435n4mzgnk1l82dg2c1c0000gn/T/ipykernel_10912/3597693706.py:7: FutureWarning: Calling float on a single element Series is deprecated and will raise a TypeError in the future. Use float(ser.iloc[0]) instead\n",
      "  \"HRV_SDNN\":       float(features.get(\"HRV_SDNN\", 0)),\n",
      "/var/folders/25/rb9t435n4mzgnk1l82dg2c1c0000gn/T/ipykernel_10912/3597693706.py:8: FutureWarning: Calling float on a single element Series is deprecated and will raise a TypeError in the future. Use float(ser.iloc[0]) instead\n",
      "  \"HRV_RMSSD\":      float(features.get(\"HRV_RMSSD\", 0)),\n",
      "/var/folders/25/rb9t435n4mzgnk1l82dg2c1c0000gn/T/ipykernel_10912/3597693706.py:9: FutureWarning: Calling float on a single element Series is deprecated and will raise a TypeError in the future. Use float(ser.iloc[0]) instead\n",
      "  \"HRV_pNN50\":      float(features.get(\"HRV_pNN50\", 0)),\n"
     ]
    },
    {
     "name": "stdout",
     "output_type": "stream",
     "text": [
      "Saved features for sub01_l2_c0_combined_cleaned_mecg.npy to sub01_l2_c0_combined_cleaned_mecg_features.json\n"
     ]
    },
    {
     "name": "stderr",
     "output_type": "stream",
     "text": [
      "/var/folders/25/rb9t435n4mzgnk1l82dg2c1c0000gn/T/ipykernel_10912/3597693706.py:6: FutureWarning: Calling float on a single element Series is deprecated and will raise a TypeError in the future. Use float(ser.iloc[0]) instead\n",
      "  \"ECG_Rate_Mean\":  float(features.get(\"ECG_Rate_Mean\", 0)),\n",
      "/var/folders/25/rb9t435n4mzgnk1l82dg2c1c0000gn/T/ipykernel_10912/3597693706.py:7: FutureWarning: Calling float on a single element Series is deprecated and will raise a TypeError in the future. Use float(ser.iloc[0]) instead\n",
      "  \"HRV_SDNN\":       float(features.get(\"HRV_SDNN\", 0)),\n",
      "/var/folders/25/rb9t435n4mzgnk1l82dg2c1c0000gn/T/ipykernel_10912/3597693706.py:8: FutureWarning: Calling float on a single element Series is deprecated and will raise a TypeError in the future. Use float(ser.iloc[0]) instead\n",
      "  \"HRV_RMSSD\":      float(features.get(\"HRV_RMSSD\", 0)),\n",
      "/var/folders/25/rb9t435n4mzgnk1l82dg2c1c0000gn/T/ipykernel_10912/3597693706.py:9: FutureWarning: Calling float on a single element Series is deprecated and will raise a TypeError in the future. Use float(ser.iloc[0]) instead\n",
      "  \"HRV_pNN50\":      float(features.get(\"HRV_pNN50\", 0)),\n"
     ]
    },
    {
     "name": "stdout",
     "output_type": "stream",
     "text": [
      "Saved features for sub09_l3_c0_combined_cleaned_fecg.npy to sub09_l3_c0_combined_cleaned_fecg_features.json\n"
     ]
    },
    {
     "name": "stderr",
     "output_type": "stream",
     "text": [
      "/var/folders/25/rb9t435n4mzgnk1l82dg2c1c0000gn/T/ipykernel_10912/3597693706.py:6: FutureWarning: Calling float on a single element Series is deprecated and will raise a TypeError in the future. Use float(ser.iloc[0]) instead\n",
      "  \"ECG_Rate_Mean\":  float(features.get(\"ECG_Rate_Mean\", 0)),\n",
      "/var/folders/25/rb9t435n4mzgnk1l82dg2c1c0000gn/T/ipykernel_10912/3597693706.py:7: FutureWarning: Calling float on a single element Series is deprecated and will raise a TypeError in the future. Use float(ser.iloc[0]) instead\n",
      "  \"HRV_SDNN\":       float(features.get(\"HRV_SDNN\", 0)),\n",
      "/var/folders/25/rb9t435n4mzgnk1l82dg2c1c0000gn/T/ipykernel_10912/3597693706.py:8: FutureWarning: Calling float on a single element Series is deprecated and will raise a TypeError in the future. Use float(ser.iloc[0]) instead\n",
      "  \"HRV_RMSSD\":      float(features.get(\"HRV_RMSSD\", 0)),\n",
      "/var/folders/25/rb9t435n4mzgnk1l82dg2c1c0000gn/T/ipykernel_10912/3597693706.py:9: FutureWarning: Calling float on a single element Series is deprecated and will raise a TypeError in the future. Use float(ser.iloc[0]) instead\n",
      "  \"HRV_pNN50\":      float(features.get(\"HRV_pNN50\", 0)),\n"
     ]
    },
    {
     "name": "stdout",
     "output_type": "stream",
     "text": [
      "Saved features for sub02_l4_c0_combined_cleaned_mecg.npy to sub02_l4_c0_combined_cleaned_mecg_features.json\n"
     ]
    },
    {
     "name": "stderr",
     "output_type": "stream",
     "text": [
      "/var/folders/25/rb9t435n4mzgnk1l82dg2c1c0000gn/T/ipykernel_10912/3597693706.py:6: FutureWarning: Calling float on a single element Series is deprecated and will raise a TypeError in the future. Use float(ser.iloc[0]) instead\n",
      "  \"ECG_Rate_Mean\":  float(features.get(\"ECG_Rate_Mean\", 0)),\n",
      "/var/folders/25/rb9t435n4mzgnk1l82dg2c1c0000gn/T/ipykernel_10912/3597693706.py:7: FutureWarning: Calling float on a single element Series is deprecated and will raise a TypeError in the future. Use float(ser.iloc[0]) instead\n",
      "  \"HRV_SDNN\":       float(features.get(\"HRV_SDNN\", 0)),\n",
      "/var/folders/25/rb9t435n4mzgnk1l82dg2c1c0000gn/T/ipykernel_10912/3597693706.py:8: FutureWarning: Calling float on a single element Series is deprecated and will raise a TypeError in the future. Use float(ser.iloc[0]) instead\n",
      "  \"HRV_RMSSD\":      float(features.get(\"HRV_RMSSD\", 0)),\n",
      "/var/folders/25/rb9t435n4mzgnk1l82dg2c1c0000gn/T/ipykernel_10912/3597693706.py:9: FutureWarning: Calling float on a single element Series is deprecated and will raise a TypeError in the future. Use float(ser.iloc[0]) instead\n",
      "  \"HRV_pNN50\":      float(features.get(\"HRV_pNN50\", 0)),\n"
     ]
    },
    {
     "name": "stdout",
     "output_type": "stream",
     "text": [
      "Saved features for sub05_l2_c0_combined_cleaned_fecg.npy to sub05_l2_c0_combined_cleaned_fecg_features.json\n"
     ]
    },
    {
     "name": "stderr",
     "output_type": "stream",
     "text": [
      "/var/folders/25/rb9t435n4mzgnk1l82dg2c1c0000gn/T/ipykernel_10912/3597693706.py:6: FutureWarning: Calling float on a single element Series is deprecated and will raise a TypeError in the future. Use float(ser.iloc[0]) instead\n",
      "  \"ECG_Rate_Mean\":  float(features.get(\"ECG_Rate_Mean\", 0)),\n",
      "/var/folders/25/rb9t435n4mzgnk1l82dg2c1c0000gn/T/ipykernel_10912/3597693706.py:7: FutureWarning: Calling float on a single element Series is deprecated and will raise a TypeError in the future. Use float(ser.iloc[0]) instead\n",
      "  \"HRV_SDNN\":       float(features.get(\"HRV_SDNN\", 0)),\n",
      "/var/folders/25/rb9t435n4mzgnk1l82dg2c1c0000gn/T/ipykernel_10912/3597693706.py:8: FutureWarning: Calling float on a single element Series is deprecated and will raise a TypeError in the future. Use float(ser.iloc[0]) instead\n",
      "  \"HRV_RMSSD\":      float(features.get(\"HRV_RMSSD\", 0)),\n",
      "/var/folders/25/rb9t435n4mzgnk1l82dg2c1c0000gn/T/ipykernel_10912/3597693706.py:9: FutureWarning: Calling float on a single element Series is deprecated and will raise a TypeError in the future. Use float(ser.iloc[0]) instead\n",
      "  \"HRV_pNN50\":      float(features.get(\"HRV_pNN50\", 0)),\n"
     ]
    },
    {
     "name": "stdout",
     "output_type": "stream",
     "text": [
      "Saved features for sub08_l1_c0_combined_cleaned_fecg.npy to sub08_l1_c0_combined_cleaned_fecg_features.json\n"
     ]
    },
    {
     "name": "stderr",
     "output_type": "stream",
     "text": [
      "/var/folders/25/rb9t435n4mzgnk1l82dg2c1c0000gn/T/ipykernel_10912/3597693706.py:6: FutureWarning: Calling float on a single element Series is deprecated and will raise a TypeError in the future. Use float(ser.iloc[0]) instead\n",
      "  \"ECG_Rate_Mean\":  float(features.get(\"ECG_Rate_Mean\", 0)),\n",
      "/var/folders/25/rb9t435n4mzgnk1l82dg2c1c0000gn/T/ipykernel_10912/3597693706.py:7: FutureWarning: Calling float on a single element Series is deprecated and will raise a TypeError in the future. Use float(ser.iloc[0]) instead\n",
      "  \"HRV_SDNN\":       float(features.get(\"HRV_SDNN\", 0)),\n",
      "/var/folders/25/rb9t435n4mzgnk1l82dg2c1c0000gn/T/ipykernel_10912/3597693706.py:8: FutureWarning: Calling float on a single element Series is deprecated and will raise a TypeError in the future. Use float(ser.iloc[0]) instead\n",
      "  \"HRV_RMSSD\":      float(features.get(\"HRV_RMSSD\", 0)),\n",
      "/var/folders/25/rb9t435n4mzgnk1l82dg2c1c0000gn/T/ipykernel_10912/3597693706.py:9: FutureWarning: Calling float on a single element Series is deprecated and will raise a TypeError in the future. Use float(ser.iloc[0]) instead\n",
      "  \"HRV_pNN50\":      float(features.get(\"HRV_pNN50\", 0)),\n"
     ]
    },
    {
     "name": "stdout",
     "output_type": "stream",
     "text": [
      "Saved features for sub08_l3_c0_combined_cleaned_mecg.npy to sub08_l3_c0_combined_cleaned_mecg_features.json\n"
     ]
    },
    {
     "name": "stderr",
     "output_type": "stream",
     "text": [
      "/var/folders/25/rb9t435n4mzgnk1l82dg2c1c0000gn/T/ipykernel_10912/3597693706.py:6: FutureWarning: Calling float on a single element Series is deprecated and will raise a TypeError in the future. Use float(ser.iloc[0]) instead\n",
      "  \"ECG_Rate_Mean\":  float(features.get(\"ECG_Rate_Mean\", 0)),\n",
      "/var/folders/25/rb9t435n4mzgnk1l82dg2c1c0000gn/T/ipykernel_10912/3597693706.py:7: FutureWarning: Calling float on a single element Series is deprecated and will raise a TypeError in the future. Use float(ser.iloc[0]) instead\n",
      "  \"HRV_SDNN\":       float(features.get(\"HRV_SDNN\", 0)),\n",
      "/var/folders/25/rb9t435n4mzgnk1l82dg2c1c0000gn/T/ipykernel_10912/3597693706.py:8: FutureWarning: Calling float on a single element Series is deprecated and will raise a TypeError in the future. Use float(ser.iloc[0]) instead\n",
      "  \"HRV_RMSSD\":      float(features.get(\"HRV_RMSSD\", 0)),\n",
      "/var/folders/25/rb9t435n4mzgnk1l82dg2c1c0000gn/T/ipykernel_10912/3597693706.py:9: FutureWarning: Calling float on a single element Series is deprecated and will raise a TypeError in the future. Use float(ser.iloc[0]) instead\n",
      "  \"HRV_pNN50\":      float(features.get(\"HRV_pNN50\", 0)),\n"
     ]
    },
    {
     "name": "stdout",
     "output_type": "stream",
     "text": [
      "Saved features for sub03_l4_c0_combined_cleaned_fecg.npy to sub03_l4_c0_combined_cleaned_fecg_features.json\n"
     ]
    },
    {
     "name": "stderr",
     "output_type": "stream",
     "text": [
      "/var/folders/25/rb9t435n4mzgnk1l82dg2c1c0000gn/T/ipykernel_10912/3597693706.py:6: FutureWarning: Calling float on a single element Series is deprecated and will raise a TypeError in the future. Use float(ser.iloc[0]) instead\n",
      "  \"ECG_Rate_Mean\":  float(features.get(\"ECG_Rate_Mean\", 0)),\n",
      "/var/folders/25/rb9t435n4mzgnk1l82dg2c1c0000gn/T/ipykernel_10912/3597693706.py:7: FutureWarning: Calling float on a single element Series is deprecated and will raise a TypeError in the future. Use float(ser.iloc[0]) instead\n",
      "  \"HRV_SDNN\":       float(features.get(\"HRV_SDNN\", 0)),\n",
      "/var/folders/25/rb9t435n4mzgnk1l82dg2c1c0000gn/T/ipykernel_10912/3597693706.py:8: FutureWarning: Calling float on a single element Series is deprecated and will raise a TypeError in the future. Use float(ser.iloc[0]) instead\n",
      "  \"HRV_RMSSD\":      float(features.get(\"HRV_RMSSD\", 0)),\n",
      "/var/folders/25/rb9t435n4mzgnk1l82dg2c1c0000gn/T/ipykernel_10912/3597693706.py:9: FutureWarning: Calling float on a single element Series is deprecated and will raise a TypeError in the future. Use float(ser.iloc[0]) instead\n",
      "  \"HRV_pNN50\":      float(features.get(\"HRV_pNN50\", 0)),\n"
     ]
    },
    {
     "name": "stdout",
     "output_type": "stream",
     "text": [
      "Saved features for sub04_l2_c0_combined_cleaned_mecg.npy to sub04_l2_c0_combined_cleaned_mecg_features.json\n"
     ]
    },
    {
     "name": "stderr",
     "output_type": "stream",
     "text": [
      "/var/folders/25/rb9t435n4mzgnk1l82dg2c1c0000gn/T/ipykernel_10912/3597693706.py:6: FutureWarning: Calling float on a single element Series is deprecated and will raise a TypeError in the future. Use float(ser.iloc[0]) instead\n",
      "  \"ECG_Rate_Mean\":  float(features.get(\"ECG_Rate_Mean\", 0)),\n",
      "/var/folders/25/rb9t435n4mzgnk1l82dg2c1c0000gn/T/ipykernel_10912/3597693706.py:7: FutureWarning: Calling float on a single element Series is deprecated and will raise a TypeError in the future. Use float(ser.iloc[0]) instead\n",
      "  \"HRV_SDNN\":       float(features.get(\"HRV_SDNN\", 0)),\n",
      "/var/folders/25/rb9t435n4mzgnk1l82dg2c1c0000gn/T/ipykernel_10912/3597693706.py:8: FutureWarning: Calling float on a single element Series is deprecated and will raise a TypeError in the future. Use float(ser.iloc[0]) instead\n",
      "  \"HRV_RMSSD\":      float(features.get(\"HRV_RMSSD\", 0)),\n",
      "/var/folders/25/rb9t435n4mzgnk1l82dg2c1c0000gn/T/ipykernel_10912/3597693706.py:9: FutureWarning: Calling float on a single element Series is deprecated and will raise a TypeError in the future. Use float(ser.iloc[0]) instead\n",
      "  \"HRV_pNN50\":      float(features.get(\"HRV_pNN50\", 0)),\n"
     ]
    },
    {
     "name": "stdout",
     "output_type": "stream",
     "text": [
      "Saved features for sub09_l1_c0_combined_cleaned_mecg.npy to sub09_l1_c0_combined_cleaned_mecg_features.json\n"
     ]
    },
    {
     "name": "stderr",
     "output_type": "stream",
     "text": [
      "/var/folders/25/rb9t435n4mzgnk1l82dg2c1c0000gn/T/ipykernel_10912/3597693706.py:6: FutureWarning: Calling float on a single element Series is deprecated and will raise a TypeError in the future. Use float(ser.iloc[0]) instead\n",
      "  \"ECG_Rate_Mean\":  float(features.get(\"ECG_Rate_Mean\", 0)),\n",
      "/var/folders/25/rb9t435n4mzgnk1l82dg2c1c0000gn/T/ipykernel_10912/3597693706.py:7: FutureWarning: Calling float on a single element Series is deprecated and will raise a TypeError in the future. Use float(ser.iloc[0]) instead\n",
      "  \"HRV_SDNN\":       float(features.get(\"HRV_SDNN\", 0)),\n",
      "/var/folders/25/rb9t435n4mzgnk1l82dg2c1c0000gn/T/ipykernel_10912/3597693706.py:8: FutureWarning: Calling float on a single element Series is deprecated and will raise a TypeError in the future. Use float(ser.iloc[0]) instead\n",
      "  \"HRV_RMSSD\":      float(features.get(\"HRV_RMSSD\", 0)),\n",
      "/var/folders/25/rb9t435n4mzgnk1l82dg2c1c0000gn/T/ipykernel_10912/3597693706.py:9: FutureWarning: Calling float on a single element Series is deprecated and will raise a TypeError in the future. Use float(ser.iloc[0]) instead\n",
      "  \"HRV_pNN50\":      float(features.get(\"HRV_pNN50\", 0)),\n"
     ]
    },
    {
     "name": "stdout",
     "output_type": "stream",
     "text": [
      "Saved features for sub07_l4_c0_combined_cleaned_mecg.npy to sub07_l4_c0_combined_cleaned_mecg_features.json\n"
     ]
    },
    {
     "name": "stderr",
     "output_type": "stream",
     "text": [
      "/var/folders/25/rb9t435n4mzgnk1l82dg2c1c0000gn/T/ipykernel_10912/3597693706.py:6: FutureWarning: Calling float on a single element Series is deprecated and will raise a TypeError in the future. Use float(ser.iloc[0]) instead\n",
      "  \"ECG_Rate_Mean\":  float(features.get(\"ECG_Rate_Mean\", 0)),\n",
      "/var/folders/25/rb9t435n4mzgnk1l82dg2c1c0000gn/T/ipykernel_10912/3597693706.py:7: FutureWarning: Calling float on a single element Series is deprecated and will raise a TypeError in the future. Use float(ser.iloc[0]) instead\n",
      "  \"HRV_SDNN\":       float(features.get(\"HRV_SDNN\", 0)),\n",
      "/var/folders/25/rb9t435n4mzgnk1l82dg2c1c0000gn/T/ipykernel_10912/3597693706.py:8: FutureWarning: Calling float on a single element Series is deprecated and will raise a TypeError in the future. Use float(ser.iloc[0]) instead\n",
      "  \"HRV_RMSSD\":      float(features.get(\"HRV_RMSSD\", 0)),\n",
      "/var/folders/25/rb9t435n4mzgnk1l82dg2c1c0000gn/T/ipykernel_10912/3597693706.py:9: FutureWarning: Calling float on a single element Series is deprecated and will raise a TypeError in the future. Use float(ser.iloc[0]) instead\n",
      "  \"HRV_pNN50\":      float(features.get(\"HRV_pNN50\", 0)),\n"
     ]
    },
    {
     "name": "stdout",
     "output_type": "stream",
     "text": [
      "Saved features for sub05_l3_c0_combined_cleaned_mecg.npy to sub05_l3_c0_combined_cleaned_mecg_features.json\n"
     ]
    },
    {
     "name": "stderr",
     "output_type": "stream",
     "text": [
      "/var/folders/25/rb9t435n4mzgnk1l82dg2c1c0000gn/T/ipykernel_10912/3597693706.py:6: FutureWarning: Calling float on a single element Series is deprecated and will raise a TypeError in the future. Use float(ser.iloc[0]) instead\n",
      "  \"ECG_Rate_Mean\":  float(features.get(\"ECG_Rate_Mean\", 0)),\n",
      "/var/folders/25/rb9t435n4mzgnk1l82dg2c1c0000gn/T/ipykernel_10912/3597693706.py:7: FutureWarning: Calling float on a single element Series is deprecated and will raise a TypeError in the future. Use float(ser.iloc[0]) instead\n",
      "  \"HRV_SDNN\":       float(features.get(\"HRV_SDNN\", 0)),\n",
      "/var/folders/25/rb9t435n4mzgnk1l82dg2c1c0000gn/T/ipykernel_10912/3597693706.py:8: FutureWarning: Calling float on a single element Series is deprecated and will raise a TypeError in the future. Use float(ser.iloc[0]) instead\n",
      "  \"HRV_RMSSD\":      float(features.get(\"HRV_RMSSD\", 0)),\n",
      "/var/folders/25/rb9t435n4mzgnk1l82dg2c1c0000gn/T/ipykernel_10912/3597693706.py:9: FutureWarning: Calling float on a single element Series is deprecated and will raise a TypeError in the future. Use float(ser.iloc[0]) instead\n",
      "  \"HRV_pNN50\":      float(features.get(\"HRV_pNN50\", 0)),\n"
     ]
    },
    {
     "name": "stdout",
     "output_type": "stream",
     "text": [
      "Saved features for sub02_l5_c0_combined_cleaned_fecg.npy to sub02_l5_c0_combined_cleaned_fecg_features.json\n"
     ]
    },
    {
     "name": "stderr",
     "output_type": "stream",
     "text": [
      "/var/folders/25/rb9t435n4mzgnk1l82dg2c1c0000gn/T/ipykernel_10912/3597693706.py:6: FutureWarning: Calling float on a single element Series is deprecated and will raise a TypeError in the future. Use float(ser.iloc[0]) instead\n",
      "  \"ECG_Rate_Mean\":  float(features.get(\"ECG_Rate_Mean\", 0)),\n",
      "/var/folders/25/rb9t435n4mzgnk1l82dg2c1c0000gn/T/ipykernel_10912/3597693706.py:7: FutureWarning: Calling float on a single element Series is deprecated and will raise a TypeError in the future. Use float(ser.iloc[0]) instead\n",
      "  \"HRV_SDNN\":       float(features.get(\"HRV_SDNN\", 0)),\n",
      "/var/folders/25/rb9t435n4mzgnk1l82dg2c1c0000gn/T/ipykernel_10912/3597693706.py:8: FutureWarning: Calling float on a single element Series is deprecated and will raise a TypeError in the future. Use float(ser.iloc[0]) instead\n",
      "  \"HRV_RMSSD\":      float(features.get(\"HRV_RMSSD\", 0)),\n",
      "/var/folders/25/rb9t435n4mzgnk1l82dg2c1c0000gn/T/ipykernel_10912/3597693706.py:9: FutureWarning: Calling float on a single element Series is deprecated and will raise a TypeError in the future. Use float(ser.iloc[0]) instead\n",
      "  \"HRV_pNN50\":      float(features.get(\"HRV_pNN50\", 0)),\n"
     ]
    },
    {
     "name": "stdout",
     "output_type": "stream",
     "text": [
      "Saved features for sub09_l2_c0_combined_cleaned_mecg.npy to sub09_l2_c0_combined_cleaned_mecg_features.json\n"
     ]
    },
    {
     "name": "stderr",
     "output_type": "stream",
     "text": [
      "/var/folders/25/rb9t435n4mzgnk1l82dg2c1c0000gn/T/ipykernel_10912/3597693706.py:6: FutureWarning: Calling float on a single element Series is deprecated and will raise a TypeError in the future. Use float(ser.iloc[0]) instead\n",
      "  \"ECG_Rate_Mean\":  float(features.get(\"ECG_Rate_Mean\", 0)),\n",
      "/var/folders/25/rb9t435n4mzgnk1l82dg2c1c0000gn/T/ipykernel_10912/3597693706.py:7: FutureWarning: Calling float on a single element Series is deprecated and will raise a TypeError in the future. Use float(ser.iloc[0]) instead\n",
      "  \"HRV_SDNN\":       float(features.get(\"HRV_SDNN\", 0)),\n",
      "/var/folders/25/rb9t435n4mzgnk1l82dg2c1c0000gn/T/ipykernel_10912/3597693706.py:8: FutureWarning: Calling float on a single element Series is deprecated and will raise a TypeError in the future. Use float(ser.iloc[0]) instead\n",
      "  \"HRV_RMSSD\":      float(features.get(\"HRV_RMSSD\", 0)),\n",
      "/var/folders/25/rb9t435n4mzgnk1l82dg2c1c0000gn/T/ipykernel_10912/3597693706.py:9: FutureWarning: Calling float on a single element Series is deprecated and will raise a TypeError in the future. Use float(ser.iloc[0]) instead\n",
      "  \"HRV_pNN50\":      float(features.get(\"HRV_pNN50\", 0)),\n"
     ]
    },
    {
     "name": "stdout",
     "output_type": "stream",
     "text": [
      "Saved features for sub04_l1_c0_combined_cleaned_mecg.npy to sub04_l1_c0_combined_cleaned_mecg_features.json\n"
     ]
    },
    {
     "name": "stderr",
     "output_type": "stream",
     "text": [
      "/var/folders/25/rb9t435n4mzgnk1l82dg2c1c0000gn/T/ipykernel_10912/3597693706.py:6: FutureWarning: Calling float on a single element Series is deprecated and will raise a TypeError in the future. Use float(ser.iloc[0]) instead\n",
      "  \"ECG_Rate_Mean\":  float(features.get(\"ECG_Rate_Mean\", 0)),\n",
      "/var/folders/25/rb9t435n4mzgnk1l82dg2c1c0000gn/T/ipykernel_10912/3597693706.py:7: FutureWarning: Calling float on a single element Series is deprecated and will raise a TypeError in the future. Use float(ser.iloc[0]) instead\n",
      "  \"HRV_SDNN\":       float(features.get(\"HRV_SDNN\", 0)),\n",
      "/var/folders/25/rb9t435n4mzgnk1l82dg2c1c0000gn/T/ipykernel_10912/3597693706.py:8: FutureWarning: Calling float on a single element Series is deprecated and will raise a TypeError in the future. Use float(ser.iloc[0]) instead\n",
      "  \"HRV_RMSSD\":      float(features.get(\"HRV_RMSSD\", 0)),\n",
      "/var/folders/25/rb9t435n4mzgnk1l82dg2c1c0000gn/T/ipykernel_10912/3597693706.py:9: FutureWarning: Calling float on a single element Series is deprecated and will raise a TypeError in the future. Use float(ser.iloc[0]) instead\n",
      "  \"HRV_pNN50\":      float(features.get(\"HRV_pNN50\", 0)),\n"
     ]
    },
    {
     "name": "stdout",
     "output_type": "stream",
     "text": [
      "Saved features for sub10_l5_c0_combined_cleaned_fecg.npy to sub10_l5_c0_combined_cleaned_fecg_features.json\n"
     ]
    },
    {
     "name": "stderr",
     "output_type": "stream",
     "text": [
      "/var/folders/25/rb9t435n4mzgnk1l82dg2c1c0000gn/T/ipykernel_10912/3597693706.py:6: FutureWarning: Calling float on a single element Series is deprecated and will raise a TypeError in the future. Use float(ser.iloc[0]) instead\n",
      "  \"ECG_Rate_Mean\":  float(features.get(\"ECG_Rate_Mean\", 0)),\n",
      "/var/folders/25/rb9t435n4mzgnk1l82dg2c1c0000gn/T/ipykernel_10912/3597693706.py:7: FutureWarning: Calling float on a single element Series is deprecated and will raise a TypeError in the future. Use float(ser.iloc[0]) instead\n",
      "  \"HRV_SDNN\":       float(features.get(\"HRV_SDNN\", 0)),\n",
      "/var/folders/25/rb9t435n4mzgnk1l82dg2c1c0000gn/T/ipykernel_10912/3597693706.py:8: FutureWarning: Calling float on a single element Series is deprecated and will raise a TypeError in the future. Use float(ser.iloc[0]) instead\n",
      "  \"HRV_RMSSD\":      float(features.get(\"HRV_RMSSD\", 0)),\n",
      "/var/folders/25/rb9t435n4mzgnk1l82dg2c1c0000gn/T/ipykernel_10912/3597693706.py:9: FutureWarning: Calling float on a single element Series is deprecated and will raise a TypeError in the future. Use float(ser.iloc[0]) instead\n",
      "  \"HRV_pNN50\":      float(features.get(\"HRV_pNN50\", 0)),\n"
     ]
    },
    {
     "name": "stdout",
     "output_type": "stream",
     "text": [
      "Saved features for sub01_l3_c0_combined_cleaned_fecg.npy to sub01_l3_c0_combined_cleaned_fecg_features.json\n"
     ]
    },
    {
     "name": "stderr",
     "output_type": "stream",
     "text": [
      "/var/folders/25/rb9t435n4mzgnk1l82dg2c1c0000gn/T/ipykernel_10912/3597693706.py:6: FutureWarning: Calling float on a single element Series is deprecated and will raise a TypeError in the future. Use float(ser.iloc[0]) instead\n",
      "  \"ECG_Rate_Mean\":  float(features.get(\"ECG_Rate_Mean\", 0)),\n",
      "/var/folders/25/rb9t435n4mzgnk1l82dg2c1c0000gn/T/ipykernel_10912/3597693706.py:7: FutureWarning: Calling float on a single element Series is deprecated and will raise a TypeError in the future. Use float(ser.iloc[0]) instead\n",
      "  \"HRV_SDNN\":       float(features.get(\"HRV_SDNN\", 0)),\n",
      "/var/folders/25/rb9t435n4mzgnk1l82dg2c1c0000gn/T/ipykernel_10912/3597693706.py:8: FutureWarning: Calling float on a single element Series is deprecated and will raise a TypeError in the future. Use float(ser.iloc[0]) instead\n",
      "  \"HRV_RMSSD\":      float(features.get(\"HRV_RMSSD\", 0)),\n",
      "/var/folders/25/rb9t435n4mzgnk1l82dg2c1c0000gn/T/ipykernel_10912/3597693706.py:9: FutureWarning: Calling float on a single element Series is deprecated and will raise a TypeError in the future. Use float(ser.iloc[0]) instead\n",
      "  \"HRV_pNN50\":      float(features.get(\"HRV_pNN50\", 0)),\n"
     ]
    },
    {
     "name": "stdout",
     "output_type": "stream",
     "text": [
      "Saved features for sub06_l5_c0_combined_cleaned_mecg.npy to sub06_l5_c0_combined_cleaned_mecg_features.json\n"
     ]
    },
    {
     "name": "stderr",
     "output_type": "stream",
     "text": [
      "/var/folders/25/rb9t435n4mzgnk1l82dg2c1c0000gn/T/ipykernel_10912/3597693706.py:6: FutureWarning: Calling float on a single element Series is deprecated and will raise a TypeError in the future. Use float(ser.iloc[0]) instead\n",
      "  \"ECG_Rate_Mean\":  float(features.get(\"ECG_Rate_Mean\", 0)),\n",
      "/var/folders/25/rb9t435n4mzgnk1l82dg2c1c0000gn/T/ipykernel_10912/3597693706.py:7: FutureWarning: Calling float on a single element Series is deprecated and will raise a TypeError in the future. Use float(ser.iloc[0]) instead\n",
      "  \"HRV_SDNN\":       float(features.get(\"HRV_SDNN\", 0)),\n",
      "/var/folders/25/rb9t435n4mzgnk1l82dg2c1c0000gn/T/ipykernel_10912/3597693706.py:8: FutureWarning: Calling float on a single element Series is deprecated and will raise a TypeError in the future. Use float(ser.iloc[0]) instead\n",
      "  \"HRV_RMSSD\":      float(features.get(\"HRV_RMSSD\", 0)),\n",
      "/var/folders/25/rb9t435n4mzgnk1l82dg2c1c0000gn/T/ipykernel_10912/3597693706.py:9: FutureWarning: Calling float on a single element Series is deprecated and will raise a TypeError in the future. Use float(ser.iloc[0]) instead\n",
      "  \"HRV_pNN50\":      float(features.get(\"HRV_pNN50\", 0)),\n"
     ]
    },
    {
     "name": "stdout",
     "output_type": "stream",
     "text": [
      "Saved features for sub01_l1_c0_combined_cleaned_mecg.npy to sub01_l1_c0_combined_cleaned_mecg_features.json\n"
     ]
    },
    {
     "name": "stderr",
     "output_type": "stream",
     "text": [
      "/var/folders/25/rb9t435n4mzgnk1l82dg2c1c0000gn/T/ipykernel_10912/3597693706.py:6: FutureWarning: Calling float on a single element Series is deprecated and will raise a TypeError in the future. Use float(ser.iloc[0]) instead\n",
      "  \"ECG_Rate_Mean\":  float(features.get(\"ECG_Rate_Mean\", 0)),\n",
      "/var/folders/25/rb9t435n4mzgnk1l82dg2c1c0000gn/T/ipykernel_10912/3597693706.py:7: FutureWarning: Calling float on a single element Series is deprecated and will raise a TypeError in the future. Use float(ser.iloc[0]) instead\n",
      "  \"HRV_SDNN\":       float(features.get(\"HRV_SDNN\", 0)),\n",
      "/var/folders/25/rb9t435n4mzgnk1l82dg2c1c0000gn/T/ipykernel_10912/3597693706.py:8: FutureWarning: Calling float on a single element Series is deprecated and will raise a TypeError in the future. Use float(ser.iloc[0]) instead\n",
      "  \"HRV_RMSSD\":      float(features.get(\"HRV_RMSSD\", 0)),\n",
      "/var/folders/25/rb9t435n4mzgnk1l82dg2c1c0000gn/T/ipykernel_10912/3597693706.py:9: FutureWarning: Calling float on a single element Series is deprecated and will raise a TypeError in the future. Use float(ser.iloc[0]) instead\n",
      "  \"HRV_pNN50\":      float(features.get(\"HRV_pNN50\", 0)),\n"
     ]
    },
    {
     "name": "stdout",
     "output_type": "stream",
     "text": [
      "Saved features for sub07_l5_c0_combined_cleaned_fecg.npy to sub07_l5_c0_combined_cleaned_fecg_features.json\n"
     ]
    },
    {
     "name": "stderr",
     "output_type": "stream",
     "text": [
      "/var/folders/25/rb9t435n4mzgnk1l82dg2c1c0000gn/T/ipykernel_10912/3597693706.py:6: FutureWarning: Calling float on a single element Series is deprecated and will raise a TypeError in the future. Use float(ser.iloc[0]) instead\n",
      "  \"ECG_Rate_Mean\":  float(features.get(\"ECG_Rate_Mean\", 0)),\n",
      "/var/folders/25/rb9t435n4mzgnk1l82dg2c1c0000gn/T/ipykernel_10912/3597693706.py:7: FutureWarning: Calling float on a single element Series is deprecated and will raise a TypeError in the future. Use float(ser.iloc[0]) instead\n",
      "  \"HRV_SDNN\":       float(features.get(\"HRV_SDNN\", 0)),\n",
      "/var/folders/25/rb9t435n4mzgnk1l82dg2c1c0000gn/T/ipykernel_10912/3597693706.py:8: FutureWarning: Calling float on a single element Series is deprecated and will raise a TypeError in the future. Use float(ser.iloc[0]) instead\n",
      "  \"HRV_RMSSD\":      float(features.get(\"HRV_RMSSD\", 0)),\n",
      "/var/folders/25/rb9t435n4mzgnk1l82dg2c1c0000gn/T/ipykernel_10912/3597693706.py:9: FutureWarning: Calling float on a single element Series is deprecated and will raise a TypeError in the future. Use float(ser.iloc[0]) instead\n",
      "  \"HRV_pNN50\":      float(features.get(\"HRV_pNN50\", 0)),\n"
     ]
    },
    {
     "name": "stdout",
     "output_type": "stream",
     "text": [
      "Saved features for sub04_l3_c0_combined_cleaned_fecg.npy to sub04_l3_c0_combined_cleaned_fecg_features.json\n"
     ]
    },
    {
     "name": "stderr",
     "output_type": "stream",
     "text": [
      "/var/folders/25/rb9t435n4mzgnk1l82dg2c1c0000gn/T/ipykernel_10912/3597693706.py:6: FutureWarning: Calling float on a single element Series is deprecated and will raise a TypeError in the future. Use float(ser.iloc[0]) instead\n",
      "  \"ECG_Rate_Mean\":  float(features.get(\"ECG_Rate_Mean\", 0)),\n",
      "/var/folders/25/rb9t435n4mzgnk1l82dg2c1c0000gn/T/ipykernel_10912/3597693706.py:7: FutureWarning: Calling float on a single element Series is deprecated and will raise a TypeError in the future. Use float(ser.iloc[0]) instead\n",
      "  \"HRV_SDNN\":       float(features.get(\"HRV_SDNN\", 0)),\n",
      "/var/folders/25/rb9t435n4mzgnk1l82dg2c1c0000gn/T/ipykernel_10912/3597693706.py:8: FutureWarning: Calling float on a single element Series is deprecated and will raise a TypeError in the future. Use float(ser.iloc[0]) instead\n",
      "  \"HRV_RMSSD\":      float(features.get(\"HRV_RMSSD\", 0)),\n",
      "/var/folders/25/rb9t435n4mzgnk1l82dg2c1c0000gn/T/ipykernel_10912/3597693706.py:9: FutureWarning: Calling float on a single element Series is deprecated and will raise a TypeError in the future. Use float(ser.iloc[0]) instead\n",
      "  \"HRV_pNN50\":      float(features.get(\"HRV_pNN50\", 0)),\n"
     ]
    },
    {
     "name": "stdout",
     "output_type": "stream",
     "text": [
      "Saved features for sub03_l5_c0_combined_cleaned_mecg.npy to sub03_l5_c0_combined_cleaned_mecg_features.json\n"
     ]
    },
    {
     "name": "stderr",
     "output_type": "stream",
     "text": [
      "/var/folders/25/rb9t435n4mzgnk1l82dg2c1c0000gn/T/ipykernel_10912/3597693706.py:6: FutureWarning: Calling float on a single element Series is deprecated and will raise a TypeError in the future. Use float(ser.iloc[0]) instead\n",
      "  \"ECG_Rate_Mean\":  float(features.get(\"ECG_Rate_Mean\", 0)),\n",
      "/var/folders/25/rb9t435n4mzgnk1l82dg2c1c0000gn/T/ipykernel_10912/3597693706.py:7: FutureWarning: Calling float on a single element Series is deprecated and will raise a TypeError in the future. Use float(ser.iloc[0]) instead\n",
      "  \"HRV_SDNN\":       float(features.get(\"HRV_SDNN\", 0)),\n",
      "/var/folders/25/rb9t435n4mzgnk1l82dg2c1c0000gn/T/ipykernel_10912/3597693706.py:8: FutureWarning: Calling float on a single element Series is deprecated and will raise a TypeError in the future. Use float(ser.iloc[0]) instead\n",
      "  \"HRV_RMSSD\":      float(features.get(\"HRV_RMSSD\", 0)),\n",
      "/var/folders/25/rb9t435n4mzgnk1l82dg2c1c0000gn/T/ipykernel_10912/3597693706.py:9: FutureWarning: Calling float on a single element Series is deprecated and will raise a TypeError in the future. Use float(ser.iloc[0]) instead\n",
      "  \"HRV_pNN50\":      float(features.get(\"HRV_pNN50\", 0)),\n"
     ]
    },
    {
     "name": "stdout",
     "output_type": "stream",
     "text": [
      "Saved features for sub08_l2_c0_combined_cleaned_fecg.npy to sub08_l2_c0_combined_cleaned_fecg_features.json\n"
     ]
    },
    {
     "name": "stderr",
     "output_type": "stream",
     "text": [
      "/var/folders/25/rb9t435n4mzgnk1l82dg2c1c0000gn/T/ipykernel_10912/3597693706.py:6: FutureWarning: Calling float on a single element Series is deprecated and will raise a TypeError in the future. Use float(ser.iloc[0]) instead\n",
      "  \"ECG_Rate_Mean\":  float(features.get(\"ECG_Rate_Mean\", 0)),\n",
      "/var/folders/25/rb9t435n4mzgnk1l82dg2c1c0000gn/T/ipykernel_10912/3597693706.py:7: FutureWarning: Calling float on a single element Series is deprecated and will raise a TypeError in the future. Use float(ser.iloc[0]) instead\n",
      "  \"HRV_SDNN\":       float(features.get(\"HRV_SDNN\", 0)),\n",
      "/var/folders/25/rb9t435n4mzgnk1l82dg2c1c0000gn/T/ipykernel_10912/3597693706.py:8: FutureWarning: Calling float on a single element Series is deprecated and will raise a TypeError in the future. Use float(ser.iloc[0]) instead\n",
      "  \"HRV_RMSSD\":      float(features.get(\"HRV_RMSSD\", 0)),\n",
      "/var/folders/25/rb9t435n4mzgnk1l82dg2c1c0000gn/T/ipykernel_10912/3597693706.py:9: FutureWarning: Calling float on a single element Series is deprecated and will raise a TypeError in the future. Use float(ser.iloc[0]) instead\n",
      "  \"HRV_pNN50\":      float(features.get(\"HRV_pNN50\", 0)),\n"
     ]
    },
    {
     "name": "stdout",
     "output_type": "stream",
     "text": [
      "Saved features for sub05_l1_c0_combined_cleaned_fecg.npy to sub05_l1_c0_combined_cleaned_fecg_features.json\n"
     ]
    },
    {
     "name": "stderr",
     "output_type": "stream",
     "text": [
      "/var/folders/25/rb9t435n4mzgnk1l82dg2c1c0000gn/T/ipykernel_10912/3597693706.py:6: FutureWarning: Calling float on a single element Series is deprecated and will raise a TypeError in the future. Use float(ser.iloc[0]) instead\n",
      "  \"ECG_Rate_Mean\":  float(features.get(\"ECG_Rate_Mean\", 0)),\n",
      "/var/folders/25/rb9t435n4mzgnk1l82dg2c1c0000gn/T/ipykernel_10912/3597693706.py:7: FutureWarning: Calling float on a single element Series is deprecated and will raise a TypeError in the future. Use float(ser.iloc[0]) instead\n",
      "  \"HRV_SDNN\":       float(features.get(\"HRV_SDNN\", 0)),\n",
      "/var/folders/25/rb9t435n4mzgnk1l82dg2c1c0000gn/T/ipykernel_10912/3597693706.py:8: FutureWarning: Calling float on a single element Series is deprecated and will raise a TypeError in the future. Use float(ser.iloc[0]) instead\n",
      "  \"HRV_RMSSD\":      float(features.get(\"HRV_RMSSD\", 0)),\n",
      "/var/folders/25/rb9t435n4mzgnk1l82dg2c1c0000gn/T/ipykernel_10912/3597693706.py:9: FutureWarning: Calling float on a single element Series is deprecated and will raise a TypeError in the future. Use float(ser.iloc[0]) instead\n",
      "  \"HRV_pNN50\":      float(features.get(\"HRV_pNN50\", 0)),\n"
     ]
    },
    {
     "name": "stdout",
     "output_type": "stream",
     "text": [
      "Saved features for sub10_l3_c0_combined_cleaned_fecg.npy to sub10_l3_c0_combined_cleaned_fecg_features.json\n"
     ]
    },
    {
     "name": "stderr",
     "output_type": "stream",
     "text": [
      "/var/folders/25/rb9t435n4mzgnk1l82dg2c1c0000gn/T/ipykernel_10912/3597693706.py:6: FutureWarning: Calling float on a single element Series is deprecated and will raise a TypeError in the future. Use float(ser.iloc[0]) instead\n",
      "  \"ECG_Rate_Mean\":  float(features.get(\"ECG_Rate_Mean\", 0)),\n",
      "/var/folders/25/rb9t435n4mzgnk1l82dg2c1c0000gn/T/ipykernel_10912/3597693706.py:7: FutureWarning: Calling float on a single element Series is deprecated and will raise a TypeError in the future. Use float(ser.iloc[0]) instead\n",
      "  \"HRV_SDNN\":       float(features.get(\"HRV_SDNN\", 0)),\n",
      "/var/folders/25/rb9t435n4mzgnk1l82dg2c1c0000gn/T/ipykernel_10912/3597693706.py:8: FutureWarning: Calling float on a single element Series is deprecated and will raise a TypeError in the future. Use float(ser.iloc[0]) instead\n",
      "  \"HRV_RMSSD\":      float(features.get(\"HRV_RMSSD\", 0)),\n",
      "/var/folders/25/rb9t435n4mzgnk1l82dg2c1c0000gn/T/ipykernel_10912/3597693706.py:9: FutureWarning: Calling float on a single element Series is deprecated and will raise a TypeError in the future. Use float(ser.iloc[0]) instead\n",
      "  \"HRV_pNN50\":      float(features.get(\"HRV_pNN50\", 0)),\n"
     ]
    },
    {
     "name": "stdout",
     "output_type": "stream",
     "text": [
      "Saved features for sub01_l5_c0_combined_cleaned_fecg.npy to sub01_l5_c0_combined_cleaned_fecg_features.json\n"
     ]
    },
    {
     "name": "stderr",
     "output_type": "stream",
     "text": [
      "/var/folders/25/rb9t435n4mzgnk1l82dg2c1c0000gn/T/ipykernel_10912/3597693706.py:6: FutureWarning: Calling float on a single element Series is deprecated and will raise a TypeError in the future. Use float(ser.iloc[0]) instead\n",
      "  \"ECG_Rate_Mean\":  float(features.get(\"ECG_Rate_Mean\", 0)),\n",
      "/var/folders/25/rb9t435n4mzgnk1l82dg2c1c0000gn/T/ipykernel_10912/3597693706.py:7: FutureWarning: Calling float on a single element Series is deprecated and will raise a TypeError in the future. Use float(ser.iloc[0]) instead\n",
      "  \"HRV_SDNN\":       float(features.get(\"HRV_SDNN\", 0)),\n",
      "/var/folders/25/rb9t435n4mzgnk1l82dg2c1c0000gn/T/ipykernel_10912/3597693706.py:8: FutureWarning: Calling float on a single element Series is deprecated and will raise a TypeError in the future. Use float(ser.iloc[0]) instead\n",
      "  \"HRV_RMSSD\":      float(features.get(\"HRV_RMSSD\", 0)),\n",
      "/var/folders/25/rb9t435n4mzgnk1l82dg2c1c0000gn/T/ipykernel_10912/3597693706.py:9: FutureWarning: Calling float on a single element Series is deprecated and will raise a TypeError in the future. Use float(ser.iloc[0]) instead\n",
      "  \"HRV_pNN50\":      float(features.get(\"HRV_pNN50\", 0)),\n"
     ]
    },
    {
     "name": "stdout",
     "output_type": "stream",
     "text": [
      "Saved features for sub06_l3_c0_combined_cleaned_mecg.npy to sub06_l3_c0_combined_cleaned_mecg_features.json\n"
     ]
    },
    {
     "name": "stderr",
     "output_type": "stream",
     "text": [
      "/var/folders/25/rb9t435n4mzgnk1l82dg2c1c0000gn/T/ipykernel_10912/3597693706.py:6: FutureWarning: Calling float on a single element Series is deprecated and will raise a TypeError in the future. Use float(ser.iloc[0]) instead\n",
      "  \"ECG_Rate_Mean\":  float(features.get(\"ECG_Rate_Mean\", 0)),\n",
      "/var/folders/25/rb9t435n4mzgnk1l82dg2c1c0000gn/T/ipykernel_10912/3597693706.py:7: FutureWarning: Calling float on a single element Series is deprecated and will raise a TypeError in the future. Use float(ser.iloc[0]) instead\n",
      "  \"HRV_SDNN\":       float(features.get(\"HRV_SDNN\", 0)),\n",
      "/var/folders/25/rb9t435n4mzgnk1l82dg2c1c0000gn/T/ipykernel_10912/3597693706.py:8: FutureWarning: Calling float on a single element Series is deprecated and will raise a TypeError in the future. Use float(ser.iloc[0]) instead\n",
      "  \"HRV_RMSSD\":      float(features.get(\"HRV_RMSSD\", 0)),\n",
      "/var/folders/25/rb9t435n4mzgnk1l82dg2c1c0000gn/T/ipykernel_10912/3597693706.py:9: FutureWarning: Calling float on a single element Series is deprecated and will raise a TypeError in the future. Use float(ser.iloc[0]) instead\n",
      "  \"HRV_pNN50\":      float(features.get(\"HRV_pNN50\", 0)),\n"
     ]
    },
    {
     "name": "stdout",
     "output_type": "stream",
     "text": [
      "Saved features for sub07_l1_c0_combined_cleaned_mecg.npy to sub07_l1_c0_combined_cleaned_mecg_features.json\n"
     ]
    },
    {
     "name": "stderr",
     "output_type": "stream",
     "text": [
      "/var/folders/25/rb9t435n4mzgnk1l82dg2c1c0000gn/T/ipykernel_10912/3597693706.py:6: FutureWarning: Calling float on a single element Series is deprecated and will raise a TypeError in the future. Use float(ser.iloc[0]) instead\n",
      "  \"ECG_Rate_Mean\":  float(features.get(\"ECG_Rate_Mean\", 0)),\n",
      "/var/folders/25/rb9t435n4mzgnk1l82dg2c1c0000gn/T/ipykernel_10912/3597693706.py:7: FutureWarning: Calling float on a single element Series is deprecated and will raise a TypeError in the future. Use float(ser.iloc[0]) instead\n",
      "  \"HRV_SDNN\":       float(features.get(\"HRV_SDNN\", 0)),\n",
      "/var/folders/25/rb9t435n4mzgnk1l82dg2c1c0000gn/T/ipykernel_10912/3597693706.py:8: FutureWarning: Calling float on a single element Series is deprecated and will raise a TypeError in the future. Use float(ser.iloc[0]) instead\n",
      "  \"HRV_RMSSD\":      float(features.get(\"HRV_RMSSD\", 0)),\n",
      "/var/folders/25/rb9t435n4mzgnk1l82dg2c1c0000gn/T/ipykernel_10912/3597693706.py:9: FutureWarning: Calling float on a single element Series is deprecated and will raise a TypeError in the future. Use float(ser.iloc[0]) instead\n",
      "  \"HRV_pNN50\":      float(features.get(\"HRV_pNN50\", 0)),\n"
     ]
    },
    {
     "name": "stdout",
     "output_type": "stream",
     "text": [
      "Saved features for sub03_l1_c0_combined_cleaned_fecg.npy to sub03_l1_c0_combined_cleaned_fecg_features.json\n"
     ]
    },
    {
     "name": "stderr",
     "output_type": "stream",
     "text": [
      "/var/folders/25/rb9t435n4mzgnk1l82dg2c1c0000gn/T/ipykernel_10912/3597693706.py:6: FutureWarning: Calling float on a single element Series is deprecated and will raise a TypeError in the future. Use float(ser.iloc[0]) instead\n",
      "  \"ECG_Rate_Mean\":  float(features.get(\"ECG_Rate_Mean\", 0)),\n",
      "/var/folders/25/rb9t435n4mzgnk1l82dg2c1c0000gn/T/ipykernel_10912/3597693706.py:7: FutureWarning: Calling float on a single element Series is deprecated and will raise a TypeError in the future. Use float(ser.iloc[0]) instead\n",
      "  \"HRV_SDNN\":       float(features.get(\"HRV_SDNN\", 0)),\n",
      "/var/folders/25/rb9t435n4mzgnk1l82dg2c1c0000gn/T/ipykernel_10912/3597693706.py:8: FutureWarning: Calling float on a single element Series is deprecated and will raise a TypeError in the future. Use float(ser.iloc[0]) instead\n",
      "  \"HRV_RMSSD\":      float(features.get(\"HRV_RMSSD\", 0)),\n",
      "/var/folders/25/rb9t435n4mzgnk1l82dg2c1c0000gn/T/ipykernel_10912/3597693706.py:9: FutureWarning: Calling float on a single element Series is deprecated and will raise a TypeError in the future. Use float(ser.iloc[0]) instead\n",
      "  \"HRV_pNN50\":      float(features.get(\"HRV_pNN50\", 0)),\n"
     ]
    },
    {
     "name": "stdout",
     "output_type": "stream",
     "text": [
      "Saved features for sub05_l5_c0_combined_cleaned_mecg.npy to sub05_l5_c0_combined_cleaned_mecg_features.json\n"
     ]
    },
    {
     "name": "stderr",
     "output_type": "stream",
     "text": [
      "/var/folders/25/rb9t435n4mzgnk1l82dg2c1c0000gn/T/ipykernel_10912/3597693706.py:6: FutureWarning: Calling float on a single element Series is deprecated and will raise a TypeError in the future. Use float(ser.iloc[0]) instead\n",
      "  \"ECG_Rate_Mean\":  float(features.get(\"ECG_Rate_Mean\", 0)),\n",
      "/var/folders/25/rb9t435n4mzgnk1l82dg2c1c0000gn/T/ipykernel_10912/3597693706.py:7: FutureWarning: Calling float on a single element Series is deprecated and will raise a TypeError in the future. Use float(ser.iloc[0]) instead\n",
      "  \"HRV_SDNN\":       float(features.get(\"HRV_SDNN\", 0)),\n",
      "/var/folders/25/rb9t435n4mzgnk1l82dg2c1c0000gn/T/ipykernel_10912/3597693706.py:8: FutureWarning: Calling float on a single element Series is deprecated and will raise a TypeError in the future. Use float(ser.iloc[0]) instead\n",
      "  \"HRV_RMSSD\":      float(features.get(\"HRV_RMSSD\", 0)),\n",
      "/var/folders/25/rb9t435n4mzgnk1l82dg2c1c0000gn/T/ipykernel_10912/3597693706.py:9: FutureWarning: Calling float on a single element Series is deprecated and will raise a TypeError in the future. Use float(ser.iloc[0]) instead\n",
      "  \"HRV_pNN50\":      float(features.get(\"HRV_pNN50\", 0)),\n"
     ]
    },
    {
     "name": "stdout",
     "output_type": "stream",
     "text": [
      "Saved features for sub09_l4_c0_combined_cleaned_mecg.npy to sub09_l4_c0_combined_cleaned_mecg_features.json\n"
     ]
    },
    {
     "name": "stderr",
     "output_type": "stream",
     "text": [
      "/var/folders/25/rb9t435n4mzgnk1l82dg2c1c0000gn/T/ipykernel_10912/3597693706.py:6: FutureWarning: Calling float on a single element Series is deprecated and will raise a TypeError in the future. Use float(ser.iloc[0]) instead\n",
      "  \"ECG_Rate_Mean\":  float(features.get(\"ECG_Rate_Mean\", 0)),\n",
      "/var/folders/25/rb9t435n4mzgnk1l82dg2c1c0000gn/T/ipykernel_10912/3597693706.py:7: FutureWarning: Calling float on a single element Series is deprecated and will raise a TypeError in the future. Use float(ser.iloc[0]) instead\n",
      "  \"HRV_SDNN\":       float(features.get(\"HRV_SDNN\", 0)),\n",
      "/var/folders/25/rb9t435n4mzgnk1l82dg2c1c0000gn/T/ipykernel_10912/3597693706.py:8: FutureWarning: Calling float on a single element Series is deprecated and will raise a TypeError in the future. Use float(ser.iloc[0]) instead\n",
      "  \"HRV_RMSSD\":      float(features.get(\"HRV_RMSSD\", 0)),\n",
      "/var/folders/25/rb9t435n4mzgnk1l82dg2c1c0000gn/T/ipykernel_10912/3597693706.py:9: FutureWarning: Calling float on a single element Series is deprecated and will raise a TypeError in the future. Use float(ser.iloc[0]) instead\n",
      "  \"HRV_pNN50\":      float(features.get(\"HRV_pNN50\", 0)),\n"
     ]
    },
    {
     "name": "stdout",
     "output_type": "stream",
     "text": [
      "Saved features for sub02_l3_c0_combined_cleaned_fecg.npy to sub02_l3_c0_combined_cleaned_fecg_features.json\n"
     ]
    },
    {
     "name": "stderr",
     "output_type": "stream",
     "text": [
      "/var/folders/25/rb9t435n4mzgnk1l82dg2c1c0000gn/T/ipykernel_10912/3597693706.py:6: FutureWarning: Calling float on a single element Series is deprecated and will raise a TypeError in the future. Use float(ser.iloc[0]) instead\n",
      "  \"ECG_Rate_Mean\":  float(features.get(\"ECG_Rate_Mean\", 0)),\n",
      "/var/folders/25/rb9t435n4mzgnk1l82dg2c1c0000gn/T/ipykernel_10912/3597693706.py:7: FutureWarning: Calling float on a single element Series is deprecated and will raise a TypeError in the future. Use float(ser.iloc[0]) instead\n",
      "  \"HRV_SDNN\":       float(features.get(\"HRV_SDNN\", 0)),\n",
      "/var/folders/25/rb9t435n4mzgnk1l82dg2c1c0000gn/T/ipykernel_10912/3597693706.py:8: FutureWarning: Calling float on a single element Series is deprecated and will raise a TypeError in the future. Use float(ser.iloc[0]) instead\n",
      "  \"HRV_RMSSD\":      float(features.get(\"HRV_RMSSD\", 0)),\n",
      "/var/folders/25/rb9t435n4mzgnk1l82dg2c1c0000gn/T/ipykernel_10912/3597693706.py:9: FutureWarning: Calling float on a single element Series is deprecated and will raise a TypeError in the future. Use float(ser.iloc[0]) instead\n",
      "  \"HRV_pNN50\":      float(features.get(\"HRV_pNN50\", 0)),\n"
     ]
    },
    {
     "name": "stdout",
     "output_type": "stream",
     "text": [
      "Saved features for sub02_l1_c0_combined_cleaned_mecg.npy to sub02_l1_c0_combined_cleaned_mecg_features.json\n"
     ]
    },
    {
     "name": "stderr",
     "output_type": "stream",
     "text": [
      "/var/folders/25/rb9t435n4mzgnk1l82dg2c1c0000gn/T/ipykernel_10912/3597693706.py:6: FutureWarning: Calling float on a single element Series is deprecated and will raise a TypeError in the future. Use float(ser.iloc[0]) instead\n",
      "  \"ECG_Rate_Mean\":  float(features.get(\"ECG_Rate_Mean\", 0)),\n",
      "/var/folders/25/rb9t435n4mzgnk1l82dg2c1c0000gn/T/ipykernel_10912/3597693706.py:7: FutureWarning: Calling float on a single element Series is deprecated and will raise a TypeError in the future. Use float(ser.iloc[0]) instead\n",
      "  \"HRV_SDNN\":       float(features.get(\"HRV_SDNN\", 0)),\n",
      "/var/folders/25/rb9t435n4mzgnk1l82dg2c1c0000gn/T/ipykernel_10912/3597693706.py:8: FutureWarning: Calling float on a single element Series is deprecated and will raise a TypeError in the future. Use float(ser.iloc[0]) instead\n",
      "  \"HRV_RMSSD\":      float(features.get(\"HRV_RMSSD\", 0)),\n",
      "/var/folders/25/rb9t435n4mzgnk1l82dg2c1c0000gn/T/ipykernel_10912/3597693706.py:9: FutureWarning: Calling float on a single element Series is deprecated and will raise a TypeError in the future. Use float(ser.iloc[0]) instead\n",
      "  \"HRV_pNN50\":      float(features.get(\"HRV_pNN50\", 0)),\n"
     ]
    },
    {
     "name": "stdout",
     "output_type": "stream",
     "text": [
      "Saved features for sub04_l5_c0_combined_cleaned_fecg.npy to sub04_l5_c0_combined_cleaned_fecg_features.json\n"
     ]
    },
    {
     "name": "stderr",
     "output_type": "stream",
     "text": [
      "/var/folders/25/rb9t435n4mzgnk1l82dg2c1c0000gn/T/ipykernel_10912/3597693706.py:6: FutureWarning: Calling float on a single element Series is deprecated and will raise a TypeError in the future. Use float(ser.iloc[0]) instead\n",
      "  \"ECG_Rate_Mean\":  float(features.get(\"ECG_Rate_Mean\", 0)),\n",
      "/var/folders/25/rb9t435n4mzgnk1l82dg2c1c0000gn/T/ipykernel_10912/3597693706.py:7: FutureWarning: Calling float on a single element Series is deprecated and will raise a TypeError in the future. Use float(ser.iloc[0]) instead\n",
      "  \"HRV_SDNN\":       float(features.get(\"HRV_SDNN\", 0)),\n",
      "/var/folders/25/rb9t435n4mzgnk1l82dg2c1c0000gn/T/ipykernel_10912/3597693706.py:8: FutureWarning: Calling float on a single element Series is deprecated and will raise a TypeError in the future. Use float(ser.iloc[0]) instead\n",
      "  \"HRV_RMSSD\":      float(features.get(\"HRV_RMSSD\", 0)),\n",
      "/var/folders/25/rb9t435n4mzgnk1l82dg2c1c0000gn/T/ipykernel_10912/3597693706.py:9: FutureWarning: Calling float on a single element Series is deprecated and will raise a TypeError in the future. Use float(ser.iloc[0]) instead\n",
      "  \"HRV_pNN50\":      float(features.get(\"HRV_pNN50\", 0)),\n"
     ]
    },
    {
     "name": "stdout",
     "output_type": "stream",
     "text": [
      "Saved features for sub08_l4_c0_combined_cleaned_fecg.npy to sub08_l4_c0_combined_cleaned_fecg_features.json\n"
     ]
    },
    {
     "name": "stderr",
     "output_type": "stream",
     "text": [
      "/var/folders/25/rb9t435n4mzgnk1l82dg2c1c0000gn/T/ipykernel_10912/3597693706.py:6: FutureWarning: Calling float on a single element Series is deprecated and will raise a TypeError in the future. Use float(ser.iloc[0]) instead\n",
      "  \"ECG_Rate_Mean\":  float(features.get(\"ECG_Rate_Mean\", 0)),\n",
      "/var/folders/25/rb9t435n4mzgnk1l82dg2c1c0000gn/T/ipykernel_10912/3597693706.py:7: FutureWarning: Calling float on a single element Series is deprecated and will raise a TypeError in the future. Use float(ser.iloc[0]) instead\n",
      "  \"HRV_SDNN\":       float(features.get(\"HRV_SDNN\", 0)),\n",
      "/var/folders/25/rb9t435n4mzgnk1l82dg2c1c0000gn/T/ipykernel_10912/3597693706.py:8: FutureWarning: Calling float on a single element Series is deprecated and will raise a TypeError in the future. Use float(ser.iloc[0]) instead\n",
      "  \"HRV_RMSSD\":      float(features.get(\"HRV_RMSSD\", 0)),\n",
      "/var/folders/25/rb9t435n4mzgnk1l82dg2c1c0000gn/T/ipykernel_10912/3597693706.py:9: FutureWarning: Calling float on a single element Series is deprecated and will raise a TypeError in the future. Use float(ser.iloc[0]) instead\n",
      "  \"HRV_pNN50\":      float(features.get(\"HRV_pNN50\", 0)),\n"
     ]
    },
    {
     "name": "stdout",
     "output_type": "stream",
     "text": [
      "Saved features for sub03_l3_c0_combined_cleaned_mecg.npy to sub03_l3_c0_combined_cleaned_mecg_features.json\n"
     ]
    },
    {
     "name": "stderr",
     "output_type": "stream",
     "text": [
      "/var/folders/25/rb9t435n4mzgnk1l82dg2c1c0000gn/T/ipykernel_10912/3597693706.py:6: FutureWarning: Calling float on a single element Series is deprecated and will raise a TypeError in the future. Use float(ser.iloc[0]) instead\n",
      "  \"ECG_Rate_Mean\":  float(features.get(\"ECG_Rate_Mean\", 0)),\n",
      "/var/folders/25/rb9t435n4mzgnk1l82dg2c1c0000gn/T/ipykernel_10912/3597693706.py:7: FutureWarning: Calling float on a single element Series is deprecated and will raise a TypeError in the future. Use float(ser.iloc[0]) instead\n",
      "  \"HRV_SDNN\":       float(features.get(\"HRV_SDNN\", 0)),\n",
      "/var/folders/25/rb9t435n4mzgnk1l82dg2c1c0000gn/T/ipykernel_10912/3597693706.py:8: FutureWarning: Calling float on a single element Series is deprecated and will raise a TypeError in the future. Use float(ser.iloc[0]) instead\n",
      "  \"HRV_RMSSD\":      float(features.get(\"HRV_RMSSD\", 0)),\n",
      "/var/folders/25/rb9t435n4mzgnk1l82dg2c1c0000gn/T/ipykernel_10912/3597693706.py:9: FutureWarning: Calling float on a single element Series is deprecated and will raise a TypeError in the future. Use float(ser.iloc[0]) instead\n",
      "  \"HRV_pNN50\":      float(features.get(\"HRV_pNN50\", 0)),\n"
     ]
    },
    {
     "name": "stdout",
     "output_type": "stream",
     "text": [
      "Saved features for sub07_l3_c0_combined_cleaned_fecg.npy to sub07_l3_c0_combined_cleaned_fecg_features.json\n"
     ]
    },
    {
     "name": "stderr",
     "output_type": "stream",
     "text": [
      "/var/folders/25/rb9t435n4mzgnk1l82dg2c1c0000gn/T/ipykernel_10912/3597693706.py:6: FutureWarning: Calling float on a single element Series is deprecated and will raise a TypeError in the future. Use float(ser.iloc[0]) instead\n",
      "  \"ECG_Rate_Mean\":  float(features.get(\"ECG_Rate_Mean\", 0)),\n",
      "/var/folders/25/rb9t435n4mzgnk1l82dg2c1c0000gn/T/ipykernel_10912/3597693706.py:7: FutureWarning: Calling float on a single element Series is deprecated and will raise a TypeError in the future. Use float(ser.iloc[0]) instead\n",
      "  \"HRV_SDNN\":       float(features.get(\"HRV_SDNN\", 0)),\n",
      "/var/folders/25/rb9t435n4mzgnk1l82dg2c1c0000gn/T/ipykernel_10912/3597693706.py:8: FutureWarning: Calling float on a single element Series is deprecated and will raise a TypeError in the future. Use float(ser.iloc[0]) instead\n",
      "  \"HRV_RMSSD\":      float(features.get(\"HRV_RMSSD\", 0)),\n",
      "/var/folders/25/rb9t435n4mzgnk1l82dg2c1c0000gn/T/ipykernel_10912/3597693706.py:9: FutureWarning: Calling float on a single element Series is deprecated and will raise a TypeError in the future. Use float(ser.iloc[0]) instead\n",
      "  \"HRV_pNN50\":      float(features.get(\"HRV_pNN50\", 0)),\n"
     ]
    },
    {
     "name": "stdout",
     "output_type": "stream",
     "text": [
      "Saved features for sub10_l1_c0_combined_cleaned_mecg.npy to sub10_l1_c0_combined_cleaned_mecg_features.json\n"
     ]
    },
    {
     "name": "stderr",
     "output_type": "stream",
     "text": [
      "/var/folders/25/rb9t435n4mzgnk1l82dg2c1c0000gn/T/ipykernel_10912/3597693706.py:6: FutureWarning: Calling float on a single element Series is deprecated and will raise a TypeError in the future. Use float(ser.iloc[0]) instead\n",
      "  \"ECG_Rate_Mean\":  float(features.get(\"ECG_Rate_Mean\", 0)),\n",
      "/var/folders/25/rb9t435n4mzgnk1l82dg2c1c0000gn/T/ipykernel_10912/3597693706.py:7: FutureWarning: Calling float on a single element Series is deprecated and will raise a TypeError in the future. Use float(ser.iloc[0]) instead\n",
      "  \"HRV_SDNN\":       float(features.get(\"HRV_SDNN\", 0)),\n",
      "/var/folders/25/rb9t435n4mzgnk1l82dg2c1c0000gn/T/ipykernel_10912/3597693706.py:8: FutureWarning: Calling float on a single element Series is deprecated and will raise a TypeError in the future. Use float(ser.iloc[0]) instead\n",
      "  \"HRV_RMSSD\":      float(features.get(\"HRV_RMSSD\", 0)),\n",
      "/var/folders/25/rb9t435n4mzgnk1l82dg2c1c0000gn/T/ipykernel_10912/3597693706.py:9: FutureWarning: Calling float on a single element Series is deprecated and will raise a TypeError in the future. Use float(ser.iloc[0]) instead\n",
      "  \"HRV_pNN50\":      float(features.get(\"HRV_pNN50\", 0)),\n"
     ]
    },
    {
     "name": "stdout",
     "output_type": "stream",
     "text": [
      "Saved features for sub06_l1_c0_combined_cleaned_fecg.npy to sub06_l1_c0_combined_cleaned_fecg_features.json\n"
     ]
    },
    {
     "name": "stderr",
     "output_type": "stream",
     "text": [
      "/var/folders/25/rb9t435n4mzgnk1l82dg2c1c0000gn/T/ipykernel_10912/3597693706.py:6: FutureWarning: Calling float on a single element Series is deprecated and will raise a TypeError in the future. Use float(ser.iloc[0]) instead\n",
      "  \"ECG_Rate_Mean\":  float(features.get(\"ECG_Rate_Mean\", 0)),\n",
      "/var/folders/25/rb9t435n4mzgnk1l82dg2c1c0000gn/T/ipykernel_10912/3597693706.py:7: FutureWarning: Calling float on a single element Series is deprecated and will raise a TypeError in the future. Use float(ser.iloc[0]) instead\n",
      "  \"HRV_SDNN\":       float(features.get(\"HRV_SDNN\", 0)),\n",
      "/var/folders/25/rb9t435n4mzgnk1l82dg2c1c0000gn/T/ipykernel_10912/3597693706.py:8: FutureWarning: Calling float on a single element Series is deprecated and will raise a TypeError in the future. Use float(ser.iloc[0]) instead\n",
      "  \"HRV_RMSSD\":      float(features.get(\"HRV_RMSSD\", 0)),\n",
      "/var/folders/25/rb9t435n4mzgnk1l82dg2c1c0000gn/T/ipykernel_10912/3597693706.py:9: FutureWarning: Calling float on a single element Series is deprecated and will raise a TypeError in the future. Use float(ser.iloc[0]) instead\n",
      "  \"HRV_pNN50\":      float(features.get(\"HRV_pNN50\", 0)),\n"
     ]
    },
    {
     "name": "stdout",
     "output_type": "stream",
     "text": [
      "Saved features for sub02_l2_c0_combined_cleaned_mecg.npy to sub02_l2_c0_combined_cleaned_mecg_features.json\n"
     ]
    },
    {
     "name": "stderr",
     "output_type": "stream",
     "text": [
      "/var/folders/25/rb9t435n4mzgnk1l82dg2c1c0000gn/T/ipykernel_10912/3597693706.py:6: FutureWarning: Calling float on a single element Series is deprecated and will raise a TypeError in the future. Use float(ser.iloc[0]) instead\n",
      "  \"ECG_Rate_Mean\":  float(features.get(\"ECG_Rate_Mean\", 0)),\n",
      "/var/folders/25/rb9t435n4mzgnk1l82dg2c1c0000gn/T/ipykernel_10912/3597693706.py:7: FutureWarning: Calling float on a single element Series is deprecated and will raise a TypeError in the future. Use float(ser.iloc[0]) instead\n",
      "  \"HRV_SDNN\":       float(features.get(\"HRV_SDNN\", 0)),\n",
      "/var/folders/25/rb9t435n4mzgnk1l82dg2c1c0000gn/T/ipykernel_10912/3597693706.py:8: FutureWarning: Calling float on a single element Series is deprecated and will raise a TypeError in the future. Use float(ser.iloc[0]) instead\n",
      "  \"HRV_RMSSD\":      float(features.get(\"HRV_RMSSD\", 0)),\n",
      "/var/folders/25/rb9t435n4mzgnk1l82dg2c1c0000gn/T/ipykernel_10912/3597693706.py:9: FutureWarning: Calling float on a single element Series is deprecated and will raise a TypeError in the future. Use float(ser.iloc[0]) instead\n",
      "  \"HRV_pNN50\":      float(features.get(\"HRV_pNN50\", 0)),\n"
     ]
    },
    {
     "name": "stdout",
     "output_type": "stream",
     "text": [
      "Saved features for sub09_l5_c0_combined_cleaned_fecg.npy to sub09_l5_c0_combined_cleaned_fecg_features.json\n"
     ]
    },
    {
     "name": "stderr",
     "output_type": "stream",
     "text": [
      "/var/folders/25/rb9t435n4mzgnk1l82dg2c1c0000gn/T/ipykernel_10912/3597693706.py:6: FutureWarning: Calling float on a single element Series is deprecated and will raise a TypeError in the future. Use float(ser.iloc[0]) instead\n",
      "  \"ECG_Rate_Mean\":  float(features.get(\"ECG_Rate_Mean\", 0)),\n",
      "/var/folders/25/rb9t435n4mzgnk1l82dg2c1c0000gn/T/ipykernel_10912/3597693706.py:7: FutureWarning: Calling float on a single element Series is deprecated and will raise a TypeError in the future. Use float(ser.iloc[0]) instead\n",
      "  \"HRV_SDNN\":       float(features.get(\"HRV_SDNN\", 0)),\n",
      "/var/folders/25/rb9t435n4mzgnk1l82dg2c1c0000gn/T/ipykernel_10912/3597693706.py:8: FutureWarning: Calling float on a single element Series is deprecated and will raise a TypeError in the future. Use float(ser.iloc[0]) instead\n",
      "  \"HRV_RMSSD\":      float(features.get(\"HRV_RMSSD\", 0)),\n",
      "/var/folders/25/rb9t435n4mzgnk1l82dg2c1c0000gn/T/ipykernel_10912/3597693706.py:9: FutureWarning: Calling float on a single element Series is deprecated and will raise a TypeError in the future. Use float(ser.iloc[0]) instead\n",
      "  \"HRV_pNN50\":      float(features.get(\"HRV_pNN50\", 0)),\n"
     ]
    },
    {
     "name": "stdout",
     "output_type": "stream",
     "text": [
      "Saved features for sub05_l4_c0_combined_cleaned_fecg.npy to sub05_l4_c0_combined_cleaned_fecg_features.json\n"
     ]
    },
    {
     "name": "stderr",
     "output_type": "stream",
     "text": [
      "/var/folders/25/rb9t435n4mzgnk1l82dg2c1c0000gn/T/ipykernel_10912/3597693706.py:6: FutureWarning: Calling float on a single element Series is deprecated and will raise a TypeError in the future. Use float(ser.iloc[0]) instead\n",
      "  \"ECG_Rate_Mean\":  float(features.get(\"ECG_Rate_Mean\", 0)),\n",
      "/var/folders/25/rb9t435n4mzgnk1l82dg2c1c0000gn/T/ipykernel_10912/3597693706.py:7: FutureWarning: Calling float on a single element Series is deprecated and will raise a TypeError in the future. Use float(ser.iloc[0]) instead\n",
      "  \"HRV_SDNN\":       float(features.get(\"HRV_SDNN\", 0)),\n",
      "/var/folders/25/rb9t435n4mzgnk1l82dg2c1c0000gn/T/ipykernel_10912/3597693706.py:8: FutureWarning: Calling float on a single element Series is deprecated and will raise a TypeError in the future. Use float(ser.iloc[0]) instead\n",
      "  \"HRV_RMSSD\":      float(features.get(\"HRV_RMSSD\", 0)),\n",
      "/var/folders/25/rb9t435n4mzgnk1l82dg2c1c0000gn/T/ipykernel_10912/3597693706.py:9: FutureWarning: Calling float on a single element Series is deprecated and will raise a TypeError in the future. Use float(ser.iloc[0]) instead\n",
      "  \"HRV_pNN50\":      float(features.get(\"HRV_pNN50\", 0)),\n"
     ]
    },
    {
     "name": "stdout",
     "output_type": "stream",
     "text": [
      "Saved features for sub06_l2_c0_combined_cleaned_fecg.npy to sub06_l2_c0_combined_cleaned_fecg_features.json\n"
     ]
    },
    {
     "name": "stderr",
     "output_type": "stream",
     "text": [
      "/var/folders/25/rb9t435n4mzgnk1l82dg2c1c0000gn/T/ipykernel_10912/3597693706.py:6: FutureWarning: Calling float on a single element Series is deprecated and will raise a TypeError in the future. Use float(ser.iloc[0]) instead\n",
      "  \"ECG_Rate_Mean\":  float(features.get(\"ECG_Rate_Mean\", 0)),\n",
      "/var/folders/25/rb9t435n4mzgnk1l82dg2c1c0000gn/T/ipykernel_10912/3597693706.py:7: FutureWarning: Calling float on a single element Series is deprecated and will raise a TypeError in the future. Use float(ser.iloc[0]) instead\n",
      "  \"HRV_SDNN\":       float(features.get(\"HRV_SDNN\", 0)),\n",
      "/var/folders/25/rb9t435n4mzgnk1l82dg2c1c0000gn/T/ipykernel_10912/3597693706.py:8: FutureWarning: Calling float on a single element Series is deprecated and will raise a TypeError in the future. Use float(ser.iloc[0]) instead\n",
      "  \"HRV_RMSSD\":      float(features.get(\"HRV_RMSSD\", 0)),\n",
      "/var/folders/25/rb9t435n4mzgnk1l82dg2c1c0000gn/T/ipykernel_10912/3597693706.py:9: FutureWarning: Calling float on a single element Series is deprecated and will raise a TypeError in the future. Use float(ser.iloc[0]) instead\n",
      "  \"HRV_pNN50\":      float(features.get(\"HRV_pNN50\", 0)),\n"
     ]
    },
    {
     "name": "stdout",
     "output_type": "stream",
     "text": [
      "Saved features for sub10_l2_c0_combined_cleaned_mecg.npy to sub10_l2_c0_combined_cleaned_mecg_features.json\n"
     ]
    },
    {
     "name": "stderr",
     "output_type": "stream",
     "text": [
      "/var/folders/25/rb9t435n4mzgnk1l82dg2c1c0000gn/T/ipykernel_10912/3597693706.py:6: FutureWarning: Calling float on a single element Series is deprecated and will raise a TypeError in the future. Use float(ser.iloc[0]) instead\n",
      "  \"ECG_Rate_Mean\":  float(features.get(\"ECG_Rate_Mean\", 0)),\n",
      "/var/folders/25/rb9t435n4mzgnk1l82dg2c1c0000gn/T/ipykernel_10912/3597693706.py:7: FutureWarning: Calling float on a single element Series is deprecated and will raise a TypeError in the future. Use float(ser.iloc[0]) instead\n",
      "  \"HRV_SDNN\":       float(features.get(\"HRV_SDNN\", 0)),\n",
      "/var/folders/25/rb9t435n4mzgnk1l82dg2c1c0000gn/T/ipykernel_10912/3597693706.py:8: FutureWarning: Calling float on a single element Series is deprecated and will raise a TypeError in the future. Use float(ser.iloc[0]) instead\n",
      "  \"HRV_RMSSD\":      float(features.get(\"HRV_RMSSD\", 0)),\n",
      "/var/folders/25/rb9t435n4mzgnk1l82dg2c1c0000gn/T/ipykernel_10912/3597693706.py:9: FutureWarning: Calling float on a single element Series is deprecated and will raise a TypeError in the future. Use float(ser.iloc[0]) instead\n",
      "  \"HRV_pNN50\":      float(features.get(\"HRV_pNN50\", 0)),\n"
     ]
    },
    {
     "name": "stdout",
     "output_type": "stream",
     "text": [
      "Saved features for sub01_l4_c0_combined_cleaned_mecg.npy to sub01_l4_c0_combined_cleaned_mecg_features.json\n"
     ]
    },
    {
     "name": "stderr",
     "output_type": "stream",
     "text": [
      "/var/folders/25/rb9t435n4mzgnk1l82dg2c1c0000gn/T/ipykernel_10912/3597693706.py:6: FutureWarning: Calling float on a single element Series is deprecated and will raise a TypeError in the future. Use float(ser.iloc[0]) instead\n",
      "  \"ECG_Rate_Mean\":  float(features.get(\"ECG_Rate_Mean\", 0)),\n",
      "/var/folders/25/rb9t435n4mzgnk1l82dg2c1c0000gn/T/ipykernel_10912/3597693706.py:7: FutureWarning: Calling float on a single element Series is deprecated and will raise a TypeError in the future. Use float(ser.iloc[0]) instead\n",
      "  \"HRV_SDNN\":       float(features.get(\"HRV_SDNN\", 0)),\n",
      "/var/folders/25/rb9t435n4mzgnk1l82dg2c1c0000gn/T/ipykernel_10912/3597693706.py:8: FutureWarning: Calling float on a single element Series is deprecated and will raise a TypeError in the future. Use float(ser.iloc[0]) instead\n",
      "  \"HRV_RMSSD\":      float(features.get(\"HRV_RMSSD\", 0)),\n",
      "/var/folders/25/rb9t435n4mzgnk1l82dg2c1c0000gn/T/ipykernel_10912/3597693706.py:9: FutureWarning: Calling float on a single element Series is deprecated and will raise a TypeError in the future. Use float(ser.iloc[0]) instead\n",
      "  \"HRV_pNN50\":      float(features.get(\"HRV_pNN50\", 0)),\n"
     ]
    },
    {
     "name": "stdout",
     "output_type": "stream",
     "text": [
      "Saved features for sub07_l2_c0_combined_cleaned_mecg.npy to sub07_l2_c0_combined_cleaned_mecg_features.json\n"
     ]
    },
    {
     "name": "stderr",
     "output_type": "stream",
     "text": [
      "/var/folders/25/rb9t435n4mzgnk1l82dg2c1c0000gn/T/ipykernel_10912/3597693706.py:6: FutureWarning: Calling float on a single element Series is deprecated and will raise a TypeError in the future. Use float(ser.iloc[0]) instead\n",
      "  \"ECG_Rate_Mean\":  float(features.get(\"ECG_Rate_Mean\", 0)),\n",
      "/var/folders/25/rb9t435n4mzgnk1l82dg2c1c0000gn/T/ipykernel_10912/3597693706.py:7: FutureWarning: Calling float on a single element Series is deprecated and will raise a TypeError in the future. Use float(ser.iloc[0]) instead\n",
      "  \"HRV_SDNN\":       float(features.get(\"HRV_SDNN\", 0)),\n",
      "/var/folders/25/rb9t435n4mzgnk1l82dg2c1c0000gn/T/ipykernel_10912/3597693706.py:8: FutureWarning: Calling float on a single element Series is deprecated and will raise a TypeError in the future. Use float(ser.iloc[0]) instead\n",
      "  \"HRV_RMSSD\":      float(features.get(\"HRV_RMSSD\", 0)),\n",
      "/var/folders/25/rb9t435n4mzgnk1l82dg2c1c0000gn/T/ipykernel_10912/3597693706.py:9: FutureWarning: Calling float on a single element Series is deprecated and will raise a TypeError in the future. Use float(ser.iloc[0]) instead\n",
      "  \"HRV_pNN50\":      float(features.get(\"HRV_pNN50\", 0)),\n"
     ]
    },
    {
     "name": "stdout",
     "output_type": "stream",
     "text": [
      "Saved features for sub03_l2_c0_combined_cleaned_fecg.npy to sub03_l2_c0_combined_cleaned_fecg_features.json\n"
     ]
    },
    {
     "name": "stderr",
     "output_type": "stream",
     "text": [
      "/var/folders/25/rb9t435n4mzgnk1l82dg2c1c0000gn/T/ipykernel_10912/3597693706.py:6: FutureWarning: Calling float on a single element Series is deprecated and will raise a TypeError in the future. Use float(ser.iloc[0]) instead\n",
      "  \"ECG_Rate_Mean\":  float(features.get(\"ECG_Rate_Mean\", 0)),\n",
      "/var/folders/25/rb9t435n4mzgnk1l82dg2c1c0000gn/T/ipykernel_10912/3597693706.py:7: FutureWarning: Calling float on a single element Series is deprecated and will raise a TypeError in the future. Use float(ser.iloc[0]) instead\n",
      "  \"HRV_SDNN\":       float(features.get(\"HRV_SDNN\", 0)),\n",
      "/var/folders/25/rb9t435n4mzgnk1l82dg2c1c0000gn/T/ipykernel_10912/3597693706.py:8: FutureWarning: Calling float on a single element Series is deprecated and will raise a TypeError in the future. Use float(ser.iloc[0]) instead\n",
      "  \"HRV_RMSSD\":      float(features.get(\"HRV_RMSSD\", 0)),\n",
      "/var/folders/25/rb9t435n4mzgnk1l82dg2c1c0000gn/T/ipykernel_10912/3597693706.py:9: FutureWarning: Calling float on a single element Series is deprecated and will raise a TypeError in the future. Use float(ser.iloc[0]) instead\n",
      "  \"HRV_pNN50\":      float(features.get(\"HRV_pNN50\", 0)),\n"
     ]
    },
    {
     "name": "stdout",
     "output_type": "stream",
     "text": [
      "Saved features for sub08_l5_c0_combined_cleaned_mecg.npy to sub08_l5_c0_combined_cleaned_mecg_features.json\n",
      "Saved features for sub04_l4_c0_combined_cleaned_mecg.npy to sub04_l4_c0_combined_cleaned_mecg_features.json\n"
     ]
    },
    {
     "name": "stderr",
     "output_type": "stream",
     "text": [
      "/var/folders/25/rb9t435n4mzgnk1l82dg2c1c0000gn/T/ipykernel_10912/3597693706.py:6: FutureWarning: Calling float on a single element Series is deprecated and will raise a TypeError in the future. Use float(ser.iloc[0]) instead\n",
      "  \"ECG_Rate_Mean\":  float(features.get(\"ECG_Rate_Mean\", 0)),\n",
      "/var/folders/25/rb9t435n4mzgnk1l82dg2c1c0000gn/T/ipykernel_10912/3597693706.py:7: FutureWarning: Calling float on a single element Series is deprecated and will raise a TypeError in the future. Use float(ser.iloc[0]) instead\n",
      "  \"HRV_SDNN\":       float(features.get(\"HRV_SDNN\", 0)),\n",
      "/var/folders/25/rb9t435n4mzgnk1l82dg2c1c0000gn/T/ipykernel_10912/3597693706.py:8: FutureWarning: Calling float on a single element Series is deprecated and will raise a TypeError in the future. Use float(ser.iloc[0]) instead\n",
      "  \"HRV_RMSSD\":      float(features.get(\"HRV_RMSSD\", 0)),\n",
      "/var/folders/25/rb9t435n4mzgnk1l82dg2c1c0000gn/T/ipykernel_10912/3597693706.py:9: FutureWarning: Calling float on a single element Series is deprecated and will raise a TypeError in the future. Use float(ser.iloc[0]) instead\n",
      "  \"HRV_pNN50\":      float(features.get(\"HRV_pNN50\", 0)),\n"
     ]
    }
   ],
   "source": [
    "base_dir = \"ica_cleaned_signals\"\n",
    "output_dir = \"metrics_json\"\n",
    "os.makedirs(output_dir, exist_ok=True)\n",
    "\n",
    "# Example: list all npy files in your directory\n",
    "files = [f for f in os.listdir(base_dir) if f.endswith(\".npy\")]\n",
    "\n",
    "fs = 250  # sampling frequency\n",
    "\n",
    "for filename in files:\n",
    "    filepath = os.path.join(base_dir, filename)\n",
    "\n",
    "    # Determine fetal/maternal from filename (assumes filename contains 'fecg' or 'mecg')\n",
    "    if \"fecg\" in filename:\n",
    "        subject_type = \"fetal\"\n",
    "    elif \"mecg\" in filename:\n",
    "        subject_type = \"maternal\"\n",
    "    else:\n",
    "        print(f\"Skipping unknown type for file {filename}\")\n",
    "        continue\n",
    "\n",
    "    # Load signal\n",
    "    signal = np.load(filepath)\n",
    "\n",
    "    # Extract features\n",
    "    try:\n",
    "        features = extract_features(signal, fs, subject_type)\n",
    "\n",
    "        # Add metadata for clarity\n",
    "        features[\"subject_type\"] = subject_type\n",
    "        features[\"filename\"] = filename\n",
    "\n",
    "        # Save to JSON\n",
    "        json_filename = filename.replace(\".npy\", \"_features.json\")\n",
    "        json_path = os.path.join(output_dir, json_filename)\n",
    "\n",
    "        with open(json_path, \"w\") as json_file:\n",
    "            json.dump(features, json_file, indent=4)\n",
    "\n",
    "        print(f\"Saved features for {filename} to {json_filename}\")\n",
    "\n",
    "    except Exception as e:\n",
    "        print(f\"Error processing {filename}: {e}\")"
   ]
  },
  {
   "cell_type": "code",
   "execution_count": null,
   "metadata": {},
   "outputs": [],
   "source": []
  }
 ],
 "metadata": {
  "kernelspec": {
   "display_name": "icsts",
   "language": "python",
   "name": "python3"
  },
  "language_info": {
   "codemirror_mode": {
    "name": "ipython",
    "version": 3
   },
   "file_extension": ".py",
   "mimetype": "text/x-python",
   "name": "python",
   "nbconvert_exporter": "python",
   "pygments_lexer": "ipython3",
   "version": "3.13.3"
  }
 },
 "nbformat": 4,
 "nbformat_minor": 2
}
